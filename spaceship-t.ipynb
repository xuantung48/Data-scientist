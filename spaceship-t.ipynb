{
 "cells": [
  {
   "cell_type": "markdown",
   "id": "a3e7a624",
   "metadata": {
    "papermill": {
     "duration": 0.132397,
     "end_time": "2022-02-27T21:14:27.771588",
     "exception": false,
     "start_time": "2022-02-27T21:14:27.639191",
     "status": "completed"
    },
    "tags": []
   },
   "source": [
    "Problem statement\n",
    "\n",
    "Welcome to the year 2912, where your data science skills are needed to solve a cosmic mystery. We've received a transmission from four lightyears away and things aren't looking good.\n",
    "\n",
    "The Spaceship Titanic was an interstellar passenger liner launched a month ago. With almost 13,000 passengers on board, the vessel set out on its maiden voyage transporting emigrants from our solar system to three newly habitable exoplanets orbiting nearby stars.\n",
    "\n",
    "While rounding Alpha Centauri en route to its first destination—the torrid 55 Cancri E—the unwary Spaceship Titanic collided with a spacetime anomaly hidden within a dust cloud. Sadly, it met a similar fate as its namesake from 1000 years before. Though the ship stayed intact, almost half of the passengers were transported to an alternate dimension!\n",
    "\n",
    "\n",
    "\n",
    "To help rescue crews and retrieve the lost passengers, you are challenged to predict which passengers were transported by the anomaly using records recovered from the spaceship’s damaged computer system.\n",
    "\n",
    "Help save them and change history!"
   ]
  },
  {
   "cell_type": "markdown",
   "id": "f0eb3c6d",
   "metadata": {
    "papermill": {
     "duration": 0.131315,
     "end_time": "2022-02-27T21:14:28.036005",
     "exception": false,
     "start_time": "2022-02-27T21:14:27.904690",
     "status": "completed"
    },
    "tags": []
   },
   "source": [
    "Import libraries"
   ]
  },
  {
   "cell_type": "code",
   "execution_count": 1,
   "id": "6e6fdf4c",
   "metadata": {
    "execution": {
     "iopub.execute_input": "2022-02-27T21:14:28.319006Z",
     "iopub.status.busy": "2022-02-27T21:14:28.317907Z",
     "iopub.status.idle": "2022-02-27T21:14:29.381850Z",
     "shell.execute_reply": "2022-02-27T21:14:29.381160Z",
     "shell.execute_reply.started": "2022-02-27T20:59:17.402493Z"
    },
    "papermill": {
     "duration": 1.210601,
     "end_time": "2022-02-27T21:14:29.382035",
     "exception": false,
     "start_time": "2022-02-27T21:14:28.171434",
     "status": "completed"
    },
    "tags": []
   },
   "outputs": [],
   "source": [
    "import numpy as np\n",
    "import pandas as pd\n",
    "import matplotlib.pyplot as plt\n",
    "import seaborn as sns"
   ]
  },
  {
   "cell_type": "markdown",
   "id": "4c1df9a1",
   "metadata": {
    "papermill": {
     "duration": 0.128213,
     "end_time": "2022-02-27T21:14:30.170308",
     "exception": false,
     "start_time": "2022-02-27T21:14:30.042095",
     "status": "completed"
    },
    "tags": []
   },
   "source": [
    "Read files"
   ]
  },
  {
   "cell_type": "code",
   "execution_count": 3,
   "id": "10ced631",
   "metadata": {
    "execution": {
     "iopub.execute_input": "2022-02-27T21:14:30.430313Z",
     "iopub.status.busy": "2022-02-27T21:14:30.429519Z",
     "iopub.status.idle": "2022-02-27T21:14:30.521291Z",
     "shell.execute_reply": "2022-02-27T21:14:30.521930Z",
     "shell.execute_reply.started": "2022-02-27T20:59:17.432302Z"
    },
    "papermill": {
     "duration": 0.225543,
     "end_time": "2022-02-27T21:14:30.522121",
     "exception": false,
     "start_time": "2022-02-27T21:14:30.296578",
     "status": "completed"
    },
    "tags": []
   },
   "outputs": [],
   "source": [
    "train = pd.read_csv(\"/train.csv\")\n",
    "test = pd.read_csv(\"/test.csv\")\n",
    "submission = pd.read_csv(\"/sample_submission.csv\")"
   ]
  },
  {
   "cell_type": "code",
   "execution_count": 4,
   "id": "5b6e964c",
   "metadata": {
    "execution": {
     "iopub.execute_input": "2022-02-27T21:14:30.778147Z",
     "iopub.status.busy": "2022-02-27T21:14:30.777404Z",
     "iopub.status.idle": "2022-02-27T21:14:30.822453Z",
     "shell.execute_reply": "2022-02-27T21:14:30.823016Z",
     "shell.execute_reply.started": "2022-02-27T20:59:17.493502Z"
    },
    "papermill": {
     "duration": 0.173977,
     "end_time": "2022-02-27T21:14:30.823196",
     "exception": false,
     "start_time": "2022-02-27T21:14:30.649219",
     "status": "completed"
    },
    "tags": []
   },
   "outputs": [
    {
     "data": {
      "text/html": [
       "<div>\n",
       "<style scoped>\n",
       "    .dataframe tbody tr th:only-of-type {\n",
       "        vertical-align: middle;\n",
       "    }\n",
       "\n",
       "    .dataframe tbody tr th {\n",
       "        vertical-align: top;\n",
       "    }\n",
       "\n",
       "    .dataframe thead th {\n",
       "        text-align: right;\n",
       "    }\n",
       "</style>\n",
       "<table border=\"1\" class=\"dataframe\">\n",
       "  <thead>\n",
       "    <tr style=\"text-align: right;\">\n",
       "      <th></th>\n",
       "      <th>PassengerId</th>\n",
       "      <th>HomePlanet</th>\n",
       "      <th>CryoSleep</th>\n",
       "      <th>Cabin</th>\n",
       "      <th>Destination</th>\n",
       "      <th>Age</th>\n",
       "      <th>VIP</th>\n",
       "      <th>RoomService</th>\n",
       "      <th>FoodCourt</th>\n",
       "      <th>ShoppingMall</th>\n",
       "      <th>Spa</th>\n",
       "      <th>VRDeck</th>\n",
       "      <th>Name</th>\n",
       "      <th>Transported</th>\n",
       "    </tr>\n",
       "  </thead>\n",
       "  <tbody>\n",
       "    <tr>\n",
       "      <th>0</th>\n",
       "      <td>0001_01</td>\n",
       "      <td>Europa</td>\n",
       "      <td>False</td>\n",
       "      <td>B/0/P</td>\n",
       "      <td>TRAPPIST-1e</td>\n",
       "      <td>39.0</td>\n",
       "      <td>False</td>\n",
       "      <td>0.0</td>\n",
       "      <td>0.0</td>\n",
       "      <td>0.0</td>\n",
       "      <td>0.0</td>\n",
       "      <td>0.0</td>\n",
       "      <td>Maham Ofracculy</td>\n",
       "      <td>False</td>\n",
       "    </tr>\n",
       "    <tr>\n",
       "      <th>1</th>\n",
       "      <td>0002_01</td>\n",
       "      <td>Earth</td>\n",
       "      <td>False</td>\n",
       "      <td>F/0/S</td>\n",
       "      <td>TRAPPIST-1e</td>\n",
       "      <td>24.0</td>\n",
       "      <td>False</td>\n",
       "      <td>109.0</td>\n",
       "      <td>9.0</td>\n",
       "      <td>25.0</td>\n",
       "      <td>549.0</td>\n",
       "      <td>44.0</td>\n",
       "      <td>Juanna Vines</td>\n",
       "      <td>True</td>\n",
       "    </tr>\n",
       "    <tr>\n",
       "      <th>2</th>\n",
       "      <td>0003_01</td>\n",
       "      <td>Europa</td>\n",
       "      <td>False</td>\n",
       "      <td>A/0/S</td>\n",
       "      <td>TRAPPIST-1e</td>\n",
       "      <td>58.0</td>\n",
       "      <td>True</td>\n",
       "      <td>43.0</td>\n",
       "      <td>3576.0</td>\n",
       "      <td>0.0</td>\n",
       "      <td>6715.0</td>\n",
       "      <td>49.0</td>\n",
       "      <td>Altark Susent</td>\n",
       "      <td>False</td>\n",
       "    </tr>\n",
       "    <tr>\n",
       "      <th>3</th>\n",
       "      <td>0003_02</td>\n",
       "      <td>Europa</td>\n",
       "      <td>False</td>\n",
       "      <td>A/0/S</td>\n",
       "      <td>TRAPPIST-1e</td>\n",
       "      <td>33.0</td>\n",
       "      <td>False</td>\n",
       "      <td>0.0</td>\n",
       "      <td>1283.0</td>\n",
       "      <td>371.0</td>\n",
       "      <td>3329.0</td>\n",
       "      <td>193.0</td>\n",
       "      <td>Solam Susent</td>\n",
       "      <td>False</td>\n",
       "    </tr>\n",
       "    <tr>\n",
       "      <th>4</th>\n",
       "      <td>0004_01</td>\n",
       "      <td>Earth</td>\n",
       "      <td>False</td>\n",
       "      <td>F/1/S</td>\n",
       "      <td>TRAPPIST-1e</td>\n",
       "      <td>16.0</td>\n",
       "      <td>False</td>\n",
       "      <td>303.0</td>\n",
       "      <td>70.0</td>\n",
       "      <td>151.0</td>\n",
       "      <td>565.0</td>\n",
       "      <td>2.0</td>\n",
       "      <td>Willy Santantines</td>\n",
       "      <td>True</td>\n",
       "    </tr>\n",
       "    <tr>\n",
       "      <th>...</th>\n",
       "      <td>...</td>\n",
       "      <td>...</td>\n",
       "      <td>...</td>\n",
       "      <td>...</td>\n",
       "      <td>...</td>\n",
       "      <td>...</td>\n",
       "      <td>...</td>\n",
       "      <td>...</td>\n",
       "      <td>...</td>\n",
       "      <td>...</td>\n",
       "      <td>...</td>\n",
       "      <td>...</td>\n",
       "      <td>...</td>\n",
       "      <td>...</td>\n",
       "    </tr>\n",
       "    <tr>\n",
       "      <th>8688</th>\n",
       "      <td>9276_01</td>\n",
       "      <td>Europa</td>\n",
       "      <td>False</td>\n",
       "      <td>A/98/P</td>\n",
       "      <td>55 Cancri e</td>\n",
       "      <td>41.0</td>\n",
       "      <td>True</td>\n",
       "      <td>0.0</td>\n",
       "      <td>6819.0</td>\n",
       "      <td>0.0</td>\n",
       "      <td>1643.0</td>\n",
       "      <td>74.0</td>\n",
       "      <td>Gravior Noxnuther</td>\n",
       "      <td>False</td>\n",
       "    </tr>\n",
       "    <tr>\n",
       "      <th>8689</th>\n",
       "      <td>9278_01</td>\n",
       "      <td>Earth</td>\n",
       "      <td>True</td>\n",
       "      <td>G/1499/S</td>\n",
       "      <td>PSO J318.5-22</td>\n",
       "      <td>18.0</td>\n",
       "      <td>False</td>\n",
       "      <td>0.0</td>\n",
       "      <td>0.0</td>\n",
       "      <td>0.0</td>\n",
       "      <td>0.0</td>\n",
       "      <td>0.0</td>\n",
       "      <td>Kurta Mondalley</td>\n",
       "      <td>False</td>\n",
       "    </tr>\n",
       "    <tr>\n",
       "      <th>8690</th>\n",
       "      <td>9279_01</td>\n",
       "      <td>Earth</td>\n",
       "      <td>False</td>\n",
       "      <td>G/1500/S</td>\n",
       "      <td>TRAPPIST-1e</td>\n",
       "      <td>26.0</td>\n",
       "      <td>False</td>\n",
       "      <td>0.0</td>\n",
       "      <td>0.0</td>\n",
       "      <td>1872.0</td>\n",
       "      <td>1.0</td>\n",
       "      <td>0.0</td>\n",
       "      <td>Fayey Connon</td>\n",
       "      <td>True</td>\n",
       "    </tr>\n",
       "    <tr>\n",
       "      <th>8691</th>\n",
       "      <td>9280_01</td>\n",
       "      <td>Europa</td>\n",
       "      <td>False</td>\n",
       "      <td>E/608/S</td>\n",
       "      <td>55 Cancri e</td>\n",
       "      <td>32.0</td>\n",
       "      <td>False</td>\n",
       "      <td>0.0</td>\n",
       "      <td>1049.0</td>\n",
       "      <td>0.0</td>\n",
       "      <td>353.0</td>\n",
       "      <td>3235.0</td>\n",
       "      <td>Celeon Hontichre</td>\n",
       "      <td>False</td>\n",
       "    </tr>\n",
       "    <tr>\n",
       "      <th>8692</th>\n",
       "      <td>9280_02</td>\n",
       "      <td>Europa</td>\n",
       "      <td>False</td>\n",
       "      <td>E/608/S</td>\n",
       "      <td>TRAPPIST-1e</td>\n",
       "      <td>44.0</td>\n",
       "      <td>False</td>\n",
       "      <td>126.0</td>\n",
       "      <td>4688.0</td>\n",
       "      <td>0.0</td>\n",
       "      <td>0.0</td>\n",
       "      <td>12.0</td>\n",
       "      <td>Propsh Hontichre</td>\n",
       "      <td>True</td>\n",
       "    </tr>\n",
       "  </tbody>\n",
       "</table>\n",
       "<p>8693 rows × 14 columns</p>\n",
       "</div>"
      ],
      "text/plain": [
       "     PassengerId HomePlanet CryoSleep     Cabin    Destination   Age    VIP  \\\n",
       "0        0001_01     Europa     False     B/0/P    TRAPPIST-1e  39.0  False   \n",
       "1        0002_01      Earth     False     F/0/S    TRAPPIST-1e  24.0  False   \n",
       "2        0003_01     Europa     False     A/0/S    TRAPPIST-1e  58.0   True   \n",
       "3        0003_02     Europa     False     A/0/S    TRAPPIST-1e  33.0  False   \n",
       "4        0004_01      Earth     False     F/1/S    TRAPPIST-1e  16.0  False   \n",
       "...          ...        ...       ...       ...            ...   ...    ...   \n",
       "8688     9276_01     Europa     False    A/98/P    55 Cancri e  41.0   True   \n",
       "8689     9278_01      Earth      True  G/1499/S  PSO J318.5-22  18.0  False   \n",
       "8690     9279_01      Earth     False  G/1500/S    TRAPPIST-1e  26.0  False   \n",
       "8691     9280_01     Europa     False   E/608/S    55 Cancri e  32.0  False   \n",
       "8692     9280_02     Europa     False   E/608/S    TRAPPIST-1e  44.0  False   \n",
       "\n",
       "      RoomService  FoodCourt  ShoppingMall     Spa  VRDeck               Name  \\\n",
       "0             0.0        0.0           0.0     0.0     0.0    Maham Ofracculy   \n",
       "1           109.0        9.0          25.0   549.0    44.0       Juanna Vines   \n",
       "2            43.0     3576.0           0.0  6715.0    49.0      Altark Susent   \n",
       "3             0.0     1283.0         371.0  3329.0   193.0       Solam Susent   \n",
       "4           303.0       70.0         151.0   565.0     2.0  Willy Santantines   \n",
       "...           ...        ...           ...     ...     ...                ...   \n",
       "8688          0.0     6819.0           0.0  1643.0    74.0  Gravior Noxnuther   \n",
       "8689          0.0        0.0           0.0     0.0     0.0    Kurta Mondalley   \n",
       "8690          0.0        0.0        1872.0     1.0     0.0       Fayey Connon   \n",
       "8691          0.0     1049.0           0.0   353.0  3235.0   Celeon Hontichre   \n",
       "8692        126.0     4688.0           0.0     0.0    12.0   Propsh Hontichre   \n",
       "\n",
       "      Transported  \n",
       "0           False  \n",
       "1            True  \n",
       "2           False  \n",
       "3           False  \n",
       "4            True  \n",
       "...           ...  \n",
       "8688        False  \n",
       "8689        False  \n",
       "8690         True  \n",
       "8691        False  \n",
       "8692         True  \n",
       "\n",
       "[8693 rows x 14 columns]"
      ]
     },
     "execution_count": 4,
     "metadata": {},
     "output_type": "execute_result"
    }
   ],
   "source": [
    "train"
   ]
  },
  {
   "cell_type": "code",
   "execution_count": 5,
   "id": "a54008ab",
   "metadata": {
    "execution": {
     "iopub.execute_input": "2022-02-27T21:14:31.117073Z",
     "iopub.status.busy": "2022-02-27T21:14:31.088398Z",
     "iopub.status.idle": "2022-02-27T21:14:31.120339Z",
     "shell.execute_reply": "2022-02-27T21:14:31.120945Z",
     "shell.execute_reply.started": "2022-02-27T20:59:17.528318Z"
    },
    "papermill": {
     "duration": 0.168319,
     "end_time": "2022-02-27T21:14:31.121128",
     "exception": false,
     "start_time": "2022-02-27T21:14:30.952809",
     "status": "completed"
    },
    "tags": []
   },
   "outputs": [
    {
     "data": {
      "text/html": [
       "<div>\n",
       "<style scoped>\n",
       "    .dataframe tbody tr th:only-of-type {\n",
       "        vertical-align: middle;\n",
       "    }\n",
       "\n",
       "    .dataframe tbody tr th {\n",
       "        vertical-align: top;\n",
       "    }\n",
       "\n",
       "    .dataframe thead th {\n",
       "        text-align: right;\n",
       "    }\n",
       "</style>\n",
       "<table border=\"1\" class=\"dataframe\">\n",
       "  <thead>\n",
       "    <tr style=\"text-align: right;\">\n",
       "      <th></th>\n",
       "      <th>PassengerId</th>\n",
       "      <th>HomePlanet</th>\n",
       "      <th>CryoSleep</th>\n",
       "      <th>Cabin</th>\n",
       "      <th>Destination</th>\n",
       "      <th>Age</th>\n",
       "      <th>VIP</th>\n",
       "      <th>RoomService</th>\n",
       "      <th>FoodCourt</th>\n",
       "      <th>ShoppingMall</th>\n",
       "      <th>Spa</th>\n",
       "      <th>VRDeck</th>\n",
       "      <th>Name</th>\n",
       "    </tr>\n",
       "  </thead>\n",
       "  <tbody>\n",
       "    <tr>\n",
       "      <th>0</th>\n",
       "      <td>0013_01</td>\n",
       "      <td>Earth</td>\n",
       "      <td>True</td>\n",
       "      <td>G/3/S</td>\n",
       "      <td>TRAPPIST-1e</td>\n",
       "      <td>27.0</td>\n",
       "      <td>False</td>\n",
       "      <td>0.0</td>\n",
       "      <td>0.0</td>\n",
       "      <td>0.0</td>\n",
       "      <td>0.0</td>\n",
       "      <td>0.0</td>\n",
       "      <td>Nelly Carsoning</td>\n",
       "    </tr>\n",
       "    <tr>\n",
       "      <th>1</th>\n",
       "      <td>0018_01</td>\n",
       "      <td>Earth</td>\n",
       "      <td>False</td>\n",
       "      <td>F/4/S</td>\n",
       "      <td>TRAPPIST-1e</td>\n",
       "      <td>19.0</td>\n",
       "      <td>False</td>\n",
       "      <td>0.0</td>\n",
       "      <td>9.0</td>\n",
       "      <td>0.0</td>\n",
       "      <td>2823.0</td>\n",
       "      <td>0.0</td>\n",
       "      <td>Lerome Peckers</td>\n",
       "    </tr>\n",
       "    <tr>\n",
       "      <th>2</th>\n",
       "      <td>0019_01</td>\n",
       "      <td>Europa</td>\n",
       "      <td>True</td>\n",
       "      <td>C/0/S</td>\n",
       "      <td>55 Cancri e</td>\n",
       "      <td>31.0</td>\n",
       "      <td>False</td>\n",
       "      <td>0.0</td>\n",
       "      <td>0.0</td>\n",
       "      <td>0.0</td>\n",
       "      <td>0.0</td>\n",
       "      <td>0.0</td>\n",
       "      <td>Sabih Unhearfus</td>\n",
       "    </tr>\n",
       "    <tr>\n",
       "      <th>3</th>\n",
       "      <td>0021_01</td>\n",
       "      <td>Europa</td>\n",
       "      <td>False</td>\n",
       "      <td>C/1/S</td>\n",
       "      <td>TRAPPIST-1e</td>\n",
       "      <td>38.0</td>\n",
       "      <td>False</td>\n",
       "      <td>0.0</td>\n",
       "      <td>6652.0</td>\n",
       "      <td>0.0</td>\n",
       "      <td>181.0</td>\n",
       "      <td>585.0</td>\n",
       "      <td>Meratz Caltilter</td>\n",
       "    </tr>\n",
       "    <tr>\n",
       "      <th>4</th>\n",
       "      <td>0023_01</td>\n",
       "      <td>Earth</td>\n",
       "      <td>False</td>\n",
       "      <td>F/5/S</td>\n",
       "      <td>TRAPPIST-1e</td>\n",
       "      <td>20.0</td>\n",
       "      <td>False</td>\n",
       "      <td>10.0</td>\n",
       "      <td>0.0</td>\n",
       "      <td>635.0</td>\n",
       "      <td>0.0</td>\n",
       "      <td>0.0</td>\n",
       "      <td>Brence Harperez</td>\n",
       "    </tr>\n",
       "    <tr>\n",
       "      <th>...</th>\n",
       "      <td>...</td>\n",
       "      <td>...</td>\n",
       "      <td>...</td>\n",
       "      <td>...</td>\n",
       "      <td>...</td>\n",
       "      <td>...</td>\n",
       "      <td>...</td>\n",
       "      <td>...</td>\n",
       "      <td>...</td>\n",
       "      <td>...</td>\n",
       "      <td>...</td>\n",
       "      <td>...</td>\n",
       "      <td>...</td>\n",
       "    </tr>\n",
       "    <tr>\n",
       "      <th>4272</th>\n",
       "      <td>9266_02</td>\n",
       "      <td>Earth</td>\n",
       "      <td>True</td>\n",
       "      <td>G/1496/S</td>\n",
       "      <td>TRAPPIST-1e</td>\n",
       "      <td>34.0</td>\n",
       "      <td>False</td>\n",
       "      <td>0.0</td>\n",
       "      <td>0.0</td>\n",
       "      <td>0.0</td>\n",
       "      <td>0.0</td>\n",
       "      <td>0.0</td>\n",
       "      <td>Jeron Peter</td>\n",
       "    </tr>\n",
       "    <tr>\n",
       "      <th>4273</th>\n",
       "      <td>9269_01</td>\n",
       "      <td>Earth</td>\n",
       "      <td>False</td>\n",
       "      <td>NaN</td>\n",
       "      <td>TRAPPIST-1e</td>\n",
       "      <td>42.0</td>\n",
       "      <td>False</td>\n",
       "      <td>0.0</td>\n",
       "      <td>847.0</td>\n",
       "      <td>17.0</td>\n",
       "      <td>10.0</td>\n",
       "      <td>144.0</td>\n",
       "      <td>Matty Scheron</td>\n",
       "    </tr>\n",
       "    <tr>\n",
       "      <th>4274</th>\n",
       "      <td>9271_01</td>\n",
       "      <td>Mars</td>\n",
       "      <td>True</td>\n",
       "      <td>D/296/P</td>\n",
       "      <td>55 Cancri e</td>\n",
       "      <td>NaN</td>\n",
       "      <td>False</td>\n",
       "      <td>0.0</td>\n",
       "      <td>0.0</td>\n",
       "      <td>0.0</td>\n",
       "      <td>0.0</td>\n",
       "      <td>0.0</td>\n",
       "      <td>Jayrin Pore</td>\n",
       "    </tr>\n",
       "    <tr>\n",
       "      <th>4275</th>\n",
       "      <td>9273_01</td>\n",
       "      <td>Europa</td>\n",
       "      <td>False</td>\n",
       "      <td>D/297/P</td>\n",
       "      <td>NaN</td>\n",
       "      <td>NaN</td>\n",
       "      <td>False</td>\n",
       "      <td>0.0</td>\n",
       "      <td>2680.0</td>\n",
       "      <td>0.0</td>\n",
       "      <td>0.0</td>\n",
       "      <td>523.0</td>\n",
       "      <td>Kitakan Conale</td>\n",
       "    </tr>\n",
       "    <tr>\n",
       "      <th>4276</th>\n",
       "      <td>9277_01</td>\n",
       "      <td>Earth</td>\n",
       "      <td>True</td>\n",
       "      <td>G/1498/S</td>\n",
       "      <td>PSO J318.5-22</td>\n",
       "      <td>43.0</td>\n",
       "      <td>False</td>\n",
       "      <td>0.0</td>\n",
       "      <td>0.0</td>\n",
       "      <td>0.0</td>\n",
       "      <td>0.0</td>\n",
       "      <td>0.0</td>\n",
       "      <td>Lilace Leonzaley</td>\n",
       "    </tr>\n",
       "  </tbody>\n",
       "</table>\n",
       "<p>4277 rows × 13 columns</p>\n",
       "</div>"
      ],
      "text/plain": [
       "     PassengerId HomePlanet CryoSleep     Cabin    Destination   Age    VIP  \\\n",
       "0        0013_01      Earth      True     G/3/S    TRAPPIST-1e  27.0  False   \n",
       "1        0018_01      Earth     False     F/4/S    TRAPPIST-1e  19.0  False   \n",
       "2        0019_01     Europa      True     C/0/S    55 Cancri e  31.0  False   \n",
       "3        0021_01     Europa     False     C/1/S    TRAPPIST-1e  38.0  False   \n",
       "4        0023_01      Earth     False     F/5/S    TRAPPIST-1e  20.0  False   \n",
       "...          ...        ...       ...       ...            ...   ...    ...   \n",
       "4272     9266_02      Earth      True  G/1496/S    TRAPPIST-1e  34.0  False   \n",
       "4273     9269_01      Earth     False       NaN    TRAPPIST-1e  42.0  False   \n",
       "4274     9271_01       Mars      True   D/296/P    55 Cancri e   NaN  False   \n",
       "4275     9273_01     Europa     False   D/297/P            NaN   NaN  False   \n",
       "4276     9277_01      Earth      True  G/1498/S  PSO J318.5-22  43.0  False   \n",
       "\n",
       "      RoomService  FoodCourt  ShoppingMall     Spa  VRDeck              Name  \n",
       "0             0.0        0.0           0.0     0.0     0.0   Nelly Carsoning  \n",
       "1             0.0        9.0           0.0  2823.0     0.0    Lerome Peckers  \n",
       "2             0.0        0.0           0.0     0.0     0.0   Sabih Unhearfus  \n",
       "3             0.0     6652.0           0.0   181.0   585.0  Meratz Caltilter  \n",
       "4            10.0        0.0         635.0     0.0     0.0   Brence Harperez  \n",
       "...           ...        ...           ...     ...     ...               ...  \n",
       "4272          0.0        0.0           0.0     0.0     0.0       Jeron Peter  \n",
       "4273          0.0      847.0          17.0    10.0   144.0     Matty Scheron  \n",
       "4274          0.0        0.0           0.0     0.0     0.0       Jayrin Pore  \n",
       "4275          0.0     2680.0           0.0     0.0   523.0    Kitakan Conale  \n",
       "4276          0.0        0.0           0.0     0.0     0.0  Lilace Leonzaley  \n",
       "\n",
       "[4277 rows x 13 columns]"
      ]
     },
     "execution_count": 5,
     "metadata": {},
     "output_type": "execute_result"
    }
   ],
   "source": [
    "test"
   ]
  },
  {
   "cell_type": "code",
   "execution_count": 6,
   "id": "f142926e",
   "metadata": {
    "execution": {
     "iopub.execute_input": "2022-02-27T21:14:31.391473Z",
     "iopub.status.busy": "2022-02-27T21:14:31.388945Z",
     "iopub.status.idle": "2022-02-27T21:14:31.401522Z",
     "shell.execute_reply": "2022-02-27T21:14:31.402076Z",
     "shell.execute_reply.started": "2022-02-27T20:59:17.567692Z"
    },
    "papermill": {
     "duration": 0.148955,
     "end_time": "2022-02-27T21:14:31.402271",
     "exception": false,
     "start_time": "2022-02-27T21:14:31.253316",
     "status": "completed"
    },
    "tags": []
   },
   "outputs": [
    {
     "data": {
      "text/html": [
       "<div>\n",
       "<style scoped>\n",
       "    .dataframe tbody tr th:only-of-type {\n",
       "        vertical-align: middle;\n",
       "    }\n",
       "\n",
       "    .dataframe tbody tr th {\n",
       "        vertical-align: top;\n",
       "    }\n",
       "\n",
       "    .dataframe thead th {\n",
       "        text-align: right;\n",
       "    }\n",
       "</style>\n",
       "<table border=\"1\" class=\"dataframe\">\n",
       "  <thead>\n",
       "    <tr style=\"text-align: right;\">\n",
       "      <th></th>\n",
       "      <th>PassengerId</th>\n",
       "      <th>Transported</th>\n",
       "    </tr>\n",
       "  </thead>\n",
       "  <tbody>\n",
       "    <tr>\n",
       "      <th>0</th>\n",
       "      <td>0013_01</td>\n",
       "      <td>False</td>\n",
       "    </tr>\n",
       "    <tr>\n",
       "      <th>1</th>\n",
       "      <td>0018_01</td>\n",
       "      <td>False</td>\n",
       "    </tr>\n",
       "    <tr>\n",
       "      <th>2</th>\n",
       "      <td>0019_01</td>\n",
       "      <td>False</td>\n",
       "    </tr>\n",
       "    <tr>\n",
       "      <th>3</th>\n",
       "      <td>0021_01</td>\n",
       "      <td>False</td>\n",
       "    </tr>\n",
       "    <tr>\n",
       "      <th>4</th>\n",
       "      <td>0023_01</td>\n",
       "      <td>False</td>\n",
       "    </tr>\n",
       "    <tr>\n",
       "      <th>...</th>\n",
       "      <td>...</td>\n",
       "      <td>...</td>\n",
       "    </tr>\n",
       "    <tr>\n",
       "      <th>4272</th>\n",
       "      <td>9266_02</td>\n",
       "      <td>False</td>\n",
       "    </tr>\n",
       "    <tr>\n",
       "      <th>4273</th>\n",
       "      <td>9269_01</td>\n",
       "      <td>False</td>\n",
       "    </tr>\n",
       "    <tr>\n",
       "      <th>4274</th>\n",
       "      <td>9271_01</td>\n",
       "      <td>False</td>\n",
       "    </tr>\n",
       "    <tr>\n",
       "      <th>4275</th>\n",
       "      <td>9273_01</td>\n",
       "      <td>False</td>\n",
       "    </tr>\n",
       "    <tr>\n",
       "      <th>4276</th>\n",
       "      <td>9277_01</td>\n",
       "      <td>False</td>\n",
       "    </tr>\n",
       "  </tbody>\n",
       "</table>\n",
       "<p>4277 rows × 2 columns</p>\n",
       "</div>"
      ],
      "text/plain": [
       "     PassengerId  Transported\n",
       "0        0013_01        False\n",
       "1        0018_01        False\n",
       "2        0019_01        False\n",
       "3        0021_01        False\n",
       "4        0023_01        False\n",
       "...          ...          ...\n",
       "4272     9266_02        False\n",
       "4273     9269_01        False\n",
       "4274     9271_01        False\n",
       "4275     9273_01        False\n",
       "4276     9277_01        False\n",
       "\n",
       "[4277 rows x 2 columns]"
      ]
     },
     "execution_count": 6,
     "metadata": {},
     "output_type": "execute_result"
    }
   ],
   "source": [
    "submission"
   ]
  },
  {
   "cell_type": "markdown",
   "id": "2752756d",
   "metadata": {
    "papermill": {
     "duration": 0.128648,
     "end_time": "2022-02-27T21:14:31.663443",
     "exception": false,
     "start_time": "2022-02-27T21:14:31.534795",
     "status": "completed"
    },
    "tags": []
   },
   "source": [
    "Analyse train"
   ]
  },
  {
   "cell_type": "code",
   "execution_count": 7,
   "id": "0b4b89f4",
   "metadata": {
    "execution": {
     "iopub.execute_input": "2022-02-27T21:14:31.931486Z",
     "iopub.status.busy": "2022-02-27T21:14:31.930451Z",
     "iopub.status.idle": "2022-02-27T21:14:31.944761Z",
     "shell.execute_reply": "2022-02-27T21:14:31.945295Z",
     "shell.execute_reply.started": "2022-02-27T20:59:17.585068Z"
    },
    "papermill": {
     "duration": 0.148972,
     "end_time": "2022-02-27T21:14:31.945474",
     "exception": false,
     "start_time": "2022-02-27T21:14:31.796502",
     "status": "completed"
    },
    "tags": []
   },
   "outputs": [
    {
     "data": {
      "text/plain": [
       "PassengerId       0\n",
       "HomePlanet      201\n",
       "CryoSleep       217\n",
       "Cabin           199\n",
       "Destination     182\n",
       "Age             179\n",
       "VIP             203\n",
       "RoomService     181\n",
       "FoodCourt       183\n",
       "ShoppingMall    208\n",
       "Spa             183\n",
       "VRDeck          188\n",
       "Name            200\n",
       "Transported       0\n",
       "dtype: int64"
      ]
     },
     "execution_count": 7,
     "metadata": {},
     "output_type": "execute_result"
    }
   ],
   "source": [
    "train.isnull().sum()"
   ]
  },
  {
   "cell_type": "code",
   "execution_count": 8,
   "id": "14b724bf",
   "metadata": {
    "execution": {
     "iopub.execute_input": "2022-02-27T21:14:32.206579Z",
     "iopub.status.busy": "2022-02-27T21:14:32.205570Z",
     "iopub.status.idle": "2022-02-27T21:14:32.250247Z",
     "shell.execute_reply": "2022-02-27T21:14:32.250776Z",
     "shell.execute_reply.started": "2022-02-27T20:59:17.608410Z"
    },
    "papermill": {
     "duration": 0.178158,
     "end_time": "2022-02-27T21:14:32.250965",
     "exception": false,
     "start_time": "2022-02-27T21:14:32.072807",
     "status": "completed"
    },
    "tags": []
   },
   "outputs": [
    {
     "data": {
      "text/html": [
       "<div>\n",
       "<style scoped>\n",
       "    .dataframe tbody tr th:only-of-type {\n",
       "        vertical-align: middle;\n",
       "    }\n",
       "\n",
       "    .dataframe tbody tr th {\n",
       "        vertical-align: top;\n",
       "    }\n",
       "\n",
       "    .dataframe thead th {\n",
       "        text-align: right;\n",
       "    }\n",
       "</style>\n",
       "<table border=\"1\" class=\"dataframe\">\n",
       "  <thead>\n",
       "    <tr style=\"text-align: right;\">\n",
       "      <th></th>\n",
       "      <th>PassengerId</th>\n",
       "      <th>HomePlanet</th>\n",
       "      <th>CryoSleep</th>\n",
       "      <th>Cabin</th>\n",
       "      <th>Destination</th>\n",
       "      <th>Age</th>\n",
       "      <th>VIP</th>\n",
       "      <th>RoomService</th>\n",
       "      <th>FoodCourt</th>\n",
       "      <th>ShoppingMall</th>\n",
       "      <th>Spa</th>\n",
       "      <th>VRDeck</th>\n",
       "      <th>Name</th>\n",
       "      <th>Transported</th>\n",
       "    </tr>\n",
       "  </thead>\n",
       "  <tbody>\n",
       "    <tr>\n",
       "      <th>0</th>\n",
       "      <td>0001_01</td>\n",
       "      <td>Europa</td>\n",
       "      <td>False</td>\n",
       "      <td>B/0/P</td>\n",
       "      <td>TRAPPIST-1e</td>\n",
       "      <td>39.0</td>\n",
       "      <td>False</td>\n",
       "      <td>0.0</td>\n",
       "      <td>0.0</td>\n",
       "      <td>0.0</td>\n",
       "      <td>0.0</td>\n",
       "      <td>0.0</td>\n",
       "      <td>Maham Ofracculy</td>\n",
       "      <td>False</td>\n",
       "    </tr>\n",
       "    <tr>\n",
       "      <th>1</th>\n",
       "      <td>0002_01</td>\n",
       "      <td>Earth</td>\n",
       "      <td>False</td>\n",
       "      <td>F/0/S</td>\n",
       "      <td>TRAPPIST-1e</td>\n",
       "      <td>24.0</td>\n",
       "      <td>False</td>\n",
       "      <td>109.0</td>\n",
       "      <td>9.0</td>\n",
       "      <td>25.0</td>\n",
       "      <td>549.0</td>\n",
       "      <td>44.0</td>\n",
       "      <td>Juanna Vines</td>\n",
       "      <td>True</td>\n",
       "    </tr>\n",
       "    <tr>\n",
       "      <th>2</th>\n",
       "      <td>0003_01</td>\n",
       "      <td>Europa</td>\n",
       "      <td>False</td>\n",
       "      <td>A/0/S</td>\n",
       "      <td>TRAPPIST-1e</td>\n",
       "      <td>58.0</td>\n",
       "      <td>True</td>\n",
       "      <td>43.0</td>\n",
       "      <td>3576.0</td>\n",
       "      <td>0.0</td>\n",
       "      <td>6715.0</td>\n",
       "      <td>49.0</td>\n",
       "      <td>Altark Susent</td>\n",
       "      <td>False</td>\n",
       "    </tr>\n",
       "    <tr>\n",
       "      <th>3</th>\n",
       "      <td>0003_02</td>\n",
       "      <td>Europa</td>\n",
       "      <td>False</td>\n",
       "      <td>A/0/S</td>\n",
       "      <td>TRAPPIST-1e</td>\n",
       "      <td>33.0</td>\n",
       "      <td>False</td>\n",
       "      <td>0.0</td>\n",
       "      <td>1283.0</td>\n",
       "      <td>371.0</td>\n",
       "      <td>3329.0</td>\n",
       "      <td>193.0</td>\n",
       "      <td>Solam Susent</td>\n",
       "      <td>False</td>\n",
       "    </tr>\n",
       "    <tr>\n",
       "      <th>4</th>\n",
       "      <td>0004_01</td>\n",
       "      <td>Earth</td>\n",
       "      <td>False</td>\n",
       "      <td>F/1/S</td>\n",
       "      <td>TRAPPIST-1e</td>\n",
       "      <td>16.0</td>\n",
       "      <td>False</td>\n",
       "      <td>303.0</td>\n",
       "      <td>70.0</td>\n",
       "      <td>151.0</td>\n",
       "      <td>565.0</td>\n",
       "      <td>2.0</td>\n",
       "      <td>Willy Santantines</td>\n",
       "      <td>True</td>\n",
       "    </tr>\n",
       "    <tr>\n",
       "      <th>...</th>\n",
       "      <td>...</td>\n",
       "      <td>...</td>\n",
       "      <td>...</td>\n",
       "      <td>...</td>\n",
       "      <td>...</td>\n",
       "      <td>...</td>\n",
       "      <td>...</td>\n",
       "      <td>...</td>\n",
       "      <td>...</td>\n",
       "      <td>...</td>\n",
       "      <td>...</td>\n",
       "      <td>...</td>\n",
       "      <td>...</td>\n",
       "      <td>...</td>\n",
       "    </tr>\n",
       "    <tr>\n",
       "      <th>8688</th>\n",
       "      <td>9276_01</td>\n",
       "      <td>Europa</td>\n",
       "      <td>False</td>\n",
       "      <td>A/98/P</td>\n",
       "      <td>55 Cancri e</td>\n",
       "      <td>41.0</td>\n",
       "      <td>True</td>\n",
       "      <td>0.0</td>\n",
       "      <td>6819.0</td>\n",
       "      <td>0.0</td>\n",
       "      <td>1643.0</td>\n",
       "      <td>74.0</td>\n",
       "      <td>Gravior Noxnuther</td>\n",
       "      <td>False</td>\n",
       "    </tr>\n",
       "    <tr>\n",
       "      <th>8689</th>\n",
       "      <td>9278_01</td>\n",
       "      <td>Earth</td>\n",
       "      <td>True</td>\n",
       "      <td>G/1499/S</td>\n",
       "      <td>PSO J318.5-22</td>\n",
       "      <td>18.0</td>\n",
       "      <td>False</td>\n",
       "      <td>0.0</td>\n",
       "      <td>0.0</td>\n",
       "      <td>0.0</td>\n",
       "      <td>0.0</td>\n",
       "      <td>0.0</td>\n",
       "      <td>Kurta Mondalley</td>\n",
       "      <td>False</td>\n",
       "    </tr>\n",
       "    <tr>\n",
       "      <th>8690</th>\n",
       "      <td>9279_01</td>\n",
       "      <td>Earth</td>\n",
       "      <td>False</td>\n",
       "      <td>G/1500/S</td>\n",
       "      <td>TRAPPIST-1e</td>\n",
       "      <td>26.0</td>\n",
       "      <td>False</td>\n",
       "      <td>0.0</td>\n",
       "      <td>0.0</td>\n",
       "      <td>1872.0</td>\n",
       "      <td>1.0</td>\n",
       "      <td>0.0</td>\n",
       "      <td>Fayey Connon</td>\n",
       "      <td>True</td>\n",
       "    </tr>\n",
       "    <tr>\n",
       "      <th>8691</th>\n",
       "      <td>9280_01</td>\n",
       "      <td>Europa</td>\n",
       "      <td>False</td>\n",
       "      <td>E/608/S</td>\n",
       "      <td>55 Cancri e</td>\n",
       "      <td>32.0</td>\n",
       "      <td>False</td>\n",
       "      <td>0.0</td>\n",
       "      <td>1049.0</td>\n",
       "      <td>0.0</td>\n",
       "      <td>353.0</td>\n",
       "      <td>3235.0</td>\n",
       "      <td>Celeon Hontichre</td>\n",
       "      <td>False</td>\n",
       "    </tr>\n",
       "    <tr>\n",
       "      <th>8692</th>\n",
       "      <td>9280_02</td>\n",
       "      <td>Europa</td>\n",
       "      <td>False</td>\n",
       "      <td>E/608/S</td>\n",
       "      <td>TRAPPIST-1e</td>\n",
       "      <td>44.0</td>\n",
       "      <td>False</td>\n",
       "      <td>126.0</td>\n",
       "      <td>4688.0</td>\n",
       "      <td>0.0</td>\n",
       "      <td>0.0</td>\n",
       "      <td>12.0</td>\n",
       "      <td>Propsh Hontichre</td>\n",
       "      <td>True</td>\n",
       "    </tr>\n",
       "  </tbody>\n",
       "</table>\n",
       "<p>6606 rows × 14 columns</p>\n",
       "</div>"
      ],
      "text/plain": [
       "     PassengerId HomePlanet CryoSleep     Cabin    Destination   Age    VIP  \\\n",
       "0        0001_01     Europa     False     B/0/P    TRAPPIST-1e  39.0  False   \n",
       "1        0002_01      Earth     False     F/0/S    TRAPPIST-1e  24.0  False   \n",
       "2        0003_01     Europa     False     A/0/S    TRAPPIST-1e  58.0   True   \n",
       "3        0003_02     Europa     False     A/0/S    TRAPPIST-1e  33.0  False   \n",
       "4        0004_01      Earth     False     F/1/S    TRAPPIST-1e  16.0  False   \n",
       "...          ...        ...       ...       ...            ...   ...    ...   \n",
       "8688     9276_01     Europa     False    A/98/P    55 Cancri e  41.0   True   \n",
       "8689     9278_01      Earth      True  G/1499/S  PSO J318.5-22  18.0  False   \n",
       "8690     9279_01      Earth     False  G/1500/S    TRAPPIST-1e  26.0  False   \n",
       "8691     9280_01     Europa     False   E/608/S    55 Cancri e  32.0  False   \n",
       "8692     9280_02     Europa     False   E/608/S    TRAPPIST-1e  44.0  False   \n",
       "\n",
       "      RoomService  FoodCourt  ShoppingMall     Spa  VRDeck               Name  \\\n",
       "0             0.0        0.0           0.0     0.0     0.0    Maham Ofracculy   \n",
       "1           109.0        9.0          25.0   549.0    44.0       Juanna Vines   \n",
       "2            43.0     3576.0           0.0  6715.0    49.0      Altark Susent   \n",
       "3             0.0     1283.0         371.0  3329.0   193.0       Solam Susent   \n",
       "4           303.0       70.0         151.0   565.0     2.0  Willy Santantines   \n",
       "...           ...        ...           ...     ...     ...                ...   \n",
       "8688          0.0     6819.0           0.0  1643.0    74.0  Gravior Noxnuther   \n",
       "8689          0.0        0.0           0.0     0.0     0.0    Kurta Mondalley   \n",
       "8690          0.0        0.0        1872.0     1.0     0.0       Fayey Connon   \n",
       "8691          0.0     1049.0           0.0   353.0  3235.0   Celeon Hontichre   \n",
       "8692        126.0     4688.0           0.0     0.0    12.0   Propsh Hontichre   \n",
       "\n",
       "      Transported  \n",
       "0           False  \n",
       "1            True  \n",
       "2           False  \n",
       "3           False  \n",
       "4            True  \n",
       "...           ...  \n",
       "8688        False  \n",
       "8689        False  \n",
       "8690         True  \n",
       "8691        False  \n",
       "8692         True  \n",
       "\n",
       "[6606 rows x 14 columns]"
      ]
     },
     "execution_count": 8,
     "metadata": {},
     "output_type": "execute_result"
    }
   ],
   "source": [
    "train1 = train.dropna()\n",
    "train1"
   ]
  },
  {
   "cell_type": "markdown",
   "id": "f4abeb43",
   "metadata": {
    "papermill": {
     "duration": 0.129765,
     "end_time": "2022-02-27T21:14:32.514230",
     "exception": false,
     "start_time": "2022-02-27T21:14:32.384465",
     "status": "completed"
    },
    "tags": []
   },
   "source": [
    "Analyse target"
   ]
  },
  {
   "cell_type": "code",
   "execution_count": 9,
   "id": "6cfe5cd1",
   "metadata": {
    "execution": {
     "iopub.execute_input": "2022-02-27T21:14:32.780218Z",
     "iopub.status.busy": "2022-02-27T21:14:32.779430Z",
     "iopub.status.idle": "2022-02-27T21:14:32.797296Z",
     "shell.execute_reply": "2022-02-27T21:14:32.797913Z",
     "shell.execute_reply.started": "2022-02-27T20:59:17.660433Z"
    },
    "papermill": {
     "duration": 0.155285,
     "end_time": "2022-02-27T21:14:32.798108",
     "exception": false,
     "start_time": "2022-02-27T21:14:32.642823",
     "status": "completed"
    },
    "tags": []
   },
   "outputs": [
    {
     "name": "stderr",
     "output_type": "stream",
     "text": [
      "/opt/conda/lib/python3.7/site-packages/pandas/core/generic.py:6619: SettingWithCopyWarning: \n",
      "A value is trying to be set on a copy of a slice from a DataFrame\n",
      "\n",
      "See the caveats in the documentation: https://pandas.pydata.org/pandas-docs/stable/user_guide/indexing.html#returning-a-view-versus-a-copy\n",
      "  return self._update_inplace(result)\n"
     ]
    },
    {
     "data": {
      "text/plain": [
       "0       0\n",
       "1       1\n",
       "2       0\n",
       "3       0\n",
       "4       1\n",
       "       ..\n",
       "8688    0\n",
       "8689    0\n",
       "8690    1\n",
       "8691    0\n",
       "8692    1\n",
       "Name: Transported, Length: 6606, dtype: int64"
      ]
     },
     "execution_count": 9,
     "metadata": {},
     "output_type": "execute_result"
    }
   ],
   "source": [
    "train1['Transported'].replace({False: 0, True: 1},inplace=True)\n",
    "train1['Transported']"
   ]
  },
  {
   "cell_type": "code",
   "execution_count": 10,
   "id": "d8a66b04",
   "metadata": {
    "execution": {
     "iopub.execute_input": "2022-02-27T21:14:33.071673Z",
     "iopub.status.busy": "2022-02-27T21:14:33.070683Z",
     "iopub.status.idle": "2022-02-27T21:14:33.457909Z",
     "shell.execute_reply": "2022-02-27T21:14:33.458419Z",
     "shell.execute_reply.started": "2022-02-27T20:59:17.674340Z"
    },
    "papermill": {
     "duration": 0.526749,
     "end_time": "2022-02-27T21:14:33.458608",
     "exception": false,
     "start_time": "2022-02-27T21:14:32.931859",
     "status": "completed"
    },
    "tags": []
   },
   "outputs": [
    {
     "data": {
      "text/plain": [
       "<seaborn.axisgrid.FacetGrid at 0x7fc65ad95210>"
      ]
     },
     "execution_count": 10,
     "metadata": {},
     "output_type": "execute_result"
    },
    {
     "data": {
      "image/png": "[encoded data removed]",
      "text/plain": [
       "<Figure size 360x360 with 1 Axes>"
      ]
     },
     "metadata": {
      "needs_background": "light"
     },
     "output_type": "display_data"
    }
   ],
   "source": [
    "sns.displot(train1['Transported'])"
   ]
  },
  {
   "cell_type": "code",
   "execution_count": 11,
   "id": "021ffbe4",
   "metadata": {
    "execution": {
     "iopub.execute_input": "2022-02-27T21:14:33.729157Z",
     "iopub.status.busy": "2022-02-27T21:14:33.728480Z",
     "iopub.status.idle": "2022-02-27T21:14:33.736873Z",
     "shell.execute_reply": "2022-02-27T21:14:33.737464Z",
     "shell.execute_reply.started": "2022-02-27T20:59:18.006319Z"
    },
    "papermill": {
     "duration": 0.145697,
     "end_time": "2022-02-27T21:14:33.737674",
     "exception": false,
     "start_time": "2022-02-27T21:14:33.591977",
     "status": "completed"
    },
    "tags": []
   },
   "outputs": [
    {
     "data": {
      "text/plain": [
       "1    3327\n",
       "0    3279\n",
       "Name: Transported, dtype: int64"
      ]
     },
     "execution_count": 11,
     "metadata": {},
     "output_type": "execute_result"
    }
   ],
   "source": [
    "trans_count = train1['Transported'].value_counts()\n",
    "trans_count"
   ]
  },
  {
   "cell_type": "code",
   "execution_count": 12,
   "id": "7c1b5996",
   "metadata": {
    "execution": {
     "iopub.execute_input": "2022-02-27T21:14:34.008820Z",
     "iopub.status.busy": "2022-02-27T21:14:34.007767Z",
     "iopub.status.idle": "2022-02-27T21:14:34.016895Z",
     "shell.execute_reply": "2022-02-27T21:14:34.016173Z",
     "shell.execute_reply.started": "2022-02-27T20:59:18.016062Z"
    },
    "papermill": {
     "duration": 0.14628,
     "end_time": "2022-02-27T21:14:34.017051",
     "exception": false,
     "start_time": "2022-02-27T21:14:33.870771",
     "status": "completed"
    },
    "tags": []
   },
   "outputs": [
    {
     "data": {
      "text/plain": [
       "1    0.503633\n",
       "0    0.496367\n",
       "Name: Transported, dtype: float64"
      ]
     },
     "execution_count": 12,
     "metadata": {},
     "output_type": "execute_result"
    }
   ],
   "source": [
    "trans_percent = trans_count / len(train1)\n",
    "trans_percent"
   ]
  },
  {
   "cell_type": "code",
   "execution_count": 13,
   "id": "780e0c1b",
   "metadata": {
    "execution": {
     "iopub.execute_input": "2022-02-27T21:14:34.311534Z",
     "iopub.status.busy": "2022-02-27T21:14:34.310391Z",
     "iopub.status.idle": "2022-02-27T21:14:34.788942Z",
     "shell.execute_reply": "2022-02-27T21:14:34.788237Z",
     "shell.execute_reply.started": "2022-02-27T20:59:18.035134Z"
    },
    "papermill": {
     "duration": 0.63934,
     "end_time": "2022-02-27T21:14:34.789146",
     "exception": false,
     "start_time": "2022-02-27T21:14:34.149806",
     "status": "completed"
    },
    "tags": []
   },
   "outputs": [
    {
     "name": "stderr",
     "output_type": "stream",
     "text": [
      "/opt/conda/lib/python3.7/site-packages/ipykernel_launcher.py:3: UserWarning: Boolean Series key will be reindexed to match DataFrame index.\n",
      "  This is separate from the ipykernel package so we can avoid doing imports until\n",
      "/opt/conda/lib/python3.7/site-packages/ipykernel_launcher.py:4: UserWarning: Boolean Series key will be reindexed to match DataFrame index.\n",
      "  after removing the cwd from sys.path.\n"
     ]
    },
    {
     "data": {
      "image/png": "[encoded data removed]",
      "text/plain": [
       "<Figure size 1800x504 with 1 Axes>"
      ]
     },
     "metadata": {
      "needs_background": "light"
     },
     "output_type": "display_data"
    }
   ],
   "source": [
    "plt.figure(figsize=(25, 7))\n",
    "ax = plt.subplot()\n",
    "ax.scatter(train1[train1['Transported'] == 1]['Age'], train1[train['Transported'] == 1]['FoodCourt'], c='green', s=train1[train1['Transported'] == 1]['VRDeck'])\n",
    "ax.scatter(train1[train1['Transported'] == 0]['Age'], train1[train['Transported'] == 0]['FoodCourt'], c='red', s=train1[train1['Transported'] == 0]['VRDeck']);\n"
   ]
  },
  {
   "cell_type": "markdown",
   "id": "dfe60ec6",
   "metadata": {
    "papermill": {
     "duration": 0.133948,
     "end_time": "2022-02-27T21:14:35.059833",
     "exception": false,
     "start_time": "2022-02-27T21:14:34.925885",
     "status": "completed"
    },
    "tags": []
   },
   "source": [
    "Drop target"
   ]
  },
  {
   "cell_type": "code",
   "execution_count": 14,
   "id": "0fec93a1",
   "metadata": {
    "execution": {
     "iopub.execute_input": "2022-02-27T21:14:35.343778Z",
     "iopub.status.busy": "2022-02-27T21:14:35.343056Z",
     "iopub.status.idle": "2022-02-27T21:14:35.383281Z",
     "shell.execute_reply": "2022-02-27T21:14:35.383863Z",
     "shell.execute_reply.started": "2022-02-27T20:59:18.532133Z"
    },
    "papermill": {
     "duration": 0.18699,
     "end_time": "2022-02-27T21:14:35.384051",
     "exception": false,
     "start_time": "2022-02-27T21:14:35.197061",
     "status": "completed"
    },
    "tags": []
   },
   "outputs": [
    {
     "name": "stderr",
     "output_type": "stream",
     "text": [
      "/opt/conda/lib/python3.7/site-packages/pandas/core/frame.py:4913: SettingWithCopyWarning: \n",
      "A value is trying to be set on a copy of a slice from a DataFrame\n",
      "\n",
      "See the caveats in the documentation: https://pandas.pydata.org/pandas-docs/stable/user_guide/indexing.html#returning-a-view-versus-a-copy\n",
      "  errors=errors,\n"
     ]
    },
    {
     "data": {
      "text/html": [
       "<div>\n",
       "<style scoped>\n",
       "    .dataframe tbody tr th:only-of-type {\n",
       "        vertical-align: middle;\n",
       "    }\n",
       "\n",
       "    .dataframe tbody tr th {\n",
       "        vertical-align: top;\n",
       "    }\n",
       "\n",
       "    .dataframe thead th {\n",
       "        text-align: right;\n",
       "    }\n",
       "</style>\n",
       "<table border=\"1\" class=\"dataframe\">\n",
       "  <thead>\n",
       "    <tr style=\"text-align: right;\">\n",
       "      <th></th>\n",
       "      <th>PassengerId</th>\n",
       "      <th>HomePlanet</th>\n",
       "      <th>CryoSleep</th>\n",
       "      <th>Cabin</th>\n",
       "      <th>Destination</th>\n",
       "      <th>Age</th>\n",
       "      <th>VIP</th>\n",
       "      <th>RoomService</th>\n",
       "      <th>FoodCourt</th>\n",
       "      <th>ShoppingMall</th>\n",
       "      <th>Spa</th>\n",
       "      <th>VRDeck</th>\n",
       "      <th>Name</th>\n",
       "    </tr>\n",
       "  </thead>\n",
       "  <tbody>\n",
       "    <tr>\n",
       "      <th>0</th>\n",
       "      <td>0001_01</td>\n",
       "      <td>Europa</td>\n",
       "      <td>False</td>\n",
       "      <td>B/0/P</td>\n",
       "      <td>TRAPPIST-1e</td>\n",
       "      <td>39.0</td>\n",
       "      <td>False</td>\n",
       "      <td>0.0</td>\n",
       "      <td>0.0</td>\n",
       "      <td>0.0</td>\n",
       "      <td>0.0</td>\n",
       "      <td>0.0</td>\n",
       "      <td>Maham Ofracculy</td>\n",
       "    </tr>\n",
       "    <tr>\n",
       "      <th>1</th>\n",
       "      <td>0002_01</td>\n",
       "      <td>Earth</td>\n",
       "      <td>False</td>\n",
       "      <td>F/0/S</td>\n",
       "      <td>TRAPPIST-1e</td>\n",
       "      <td>24.0</td>\n",
       "      <td>False</td>\n",
       "      <td>109.0</td>\n",
       "      <td>9.0</td>\n",
       "      <td>25.0</td>\n",
       "      <td>549.0</td>\n",
       "      <td>44.0</td>\n",
       "      <td>Juanna Vines</td>\n",
       "    </tr>\n",
       "    <tr>\n",
       "      <th>2</th>\n",
       "      <td>0003_01</td>\n",
       "      <td>Europa</td>\n",
       "      <td>False</td>\n",
       "      <td>A/0/S</td>\n",
       "      <td>TRAPPIST-1e</td>\n",
       "      <td>58.0</td>\n",
       "      <td>True</td>\n",
       "      <td>43.0</td>\n",
       "      <td>3576.0</td>\n",
       "      <td>0.0</td>\n",
       "      <td>6715.0</td>\n",
       "      <td>49.0</td>\n",
       "      <td>Altark Susent</td>\n",
       "    </tr>\n",
       "    <tr>\n",
       "      <th>3</th>\n",
       "      <td>0003_02</td>\n",
       "      <td>Europa</td>\n",
       "      <td>False</td>\n",
       "      <td>A/0/S</td>\n",
       "      <td>TRAPPIST-1e</td>\n",
       "      <td>33.0</td>\n",
       "      <td>False</td>\n",
       "      <td>0.0</td>\n",
       "      <td>1283.0</td>\n",
       "      <td>371.0</td>\n",
       "      <td>3329.0</td>\n",
       "      <td>193.0</td>\n",
       "      <td>Solam Susent</td>\n",
       "    </tr>\n",
       "    <tr>\n",
       "      <th>4</th>\n",
       "      <td>0004_01</td>\n",
       "      <td>Earth</td>\n",
       "      <td>False</td>\n",
       "      <td>F/1/S</td>\n",
       "      <td>TRAPPIST-1e</td>\n",
       "      <td>16.0</td>\n",
       "      <td>False</td>\n",
       "      <td>303.0</td>\n",
       "      <td>70.0</td>\n",
       "      <td>151.0</td>\n",
       "      <td>565.0</td>\n",
       "      <td>2.0</td>\n",
       "      <td>Willy Santantines</td>\n",
       "    </tr>\n",
       "    <tr>\n",
       "      <th>...</th>\n",
       "      <td>...</td>\n",
       "      <td>...</td>\n",
       "      <td>...</td>\n",
       "      <td>...</td>\n",
       "      <td>...</td>\n",
       "      <td>...</td>\n",
       "      <td>...</td>\n",
       "      <td>...</td>\n",
       "      <td>...</td>\n",
       "      <td>...</td>\n",
       "      <td>...</td>\n",
       "      <td>...</td>\n",
       "      <td>...</td>\n",
       "    </tr>\n",
       "    <tr>\n",
       "      <th>8688</th>\n",
       "      <td>9276_01</td>\n",
       "      <td>Europa</td>\n",
       "      <td>False</td>\n",
       "      <td>A/98/P</td>\n",
       "      <td>55 Cancri e</td>\n",
       "      <td>41.0</td>\n",
       "      <td>True</td>\n",
       "      <td>0.0</td>\n",
       "      <td>6819.0</td>\n",
       "      <td>0.0</td>\n",
       "      <td>1643.0</td>\n",
       "      <td>74.0</td>\n",
       "      <td>Gravior Noxnuther</td>\n",
       "    </tr>\n",
       "    <tr>\n",
       "      <th>8689</th>\n",
       "      <td>9278_01</td>\n",
       "      <td>Earth</td>\n",
       "      <td>True</td>\n",
       "      <td>G/1499/S</td>\n",
       "      <td>PSO J318.5-22</td>\n",
       "      <td>18.0</td>\n",
       "      <td>False</td>\n",
       "      <td>0.0</td>\n",
       "      <td>0.0</td>\n",
       "      <td>0.0</td>\n",
       "      <td>0.0</td>\n",
       "      <td>0.0</td>\n",
       "      <td>Kurta Mondalley</td>\n",
       "    </tr>\n",
       "    <tr>\n",
       "      <th>8690</th>\n",
       "      <td>9279_01</td>\n",
       "      <td>Earth</td>\n",
       "      <td>False</td>\n",
       "      <td>G/1500/S</td>\n",
       "      <td>TRAPPIST-1e</td>\n",
       "      <td>26.0</td>\n",
       "      <td>False</td>\n",
       "      <td>0.0</td>\n",
       "      <td>0.0</td>\n",
       "      <td>1872.0</td>\n",
       "      <td>1.0</td>\n",
       "      <td>0.0</td>\n",
       "      <td>Fayey Connon</td>\n",
       "    </tr>\n",
       "    <tr>\n",
       "      <th>8691</th>\n",
       "      <td>9280_01</td>\n",
       "      <td>Europa</td>\n",
       "      <td>False</td>\n",
       "      <td>E/608/S</td>\n",
       "      <td>55 Cancri e</td>\n",
       "      <td>32.0</td>\n",
       "      <td>False</td>\n",
       "      <td>0.0</td>\n",
       "      <td>1049.0</td>\n",
       "      <td>0.0</td>\n",
       "      <td>353.0</td>\n",
       "      <td>3235.0</td>\n",
       "      <td>Celeon Hontichre</td>\n",
       "    </tr>\n",
       "    <tr>\n",
       "      <th>8692</th>\n",
       "      <td>9280_02</td>\n",
       "      <td>Europa</td>\n",
       "      <td>False</td>\n",
       "      <td>E/608/S</td>\n",
       "      <td>TRAPPIST-1e</td>\n",
       "      <td>44.0</td>\n",
       "      <td>False</td>\n",
       "      <td>126.0</td>\n",
       "      <td>4688.0</td>\n",
       "      <td>0.0</td>\n",
       "      <td>0.0</td>\n",
       "      <td>12.0</td>\n",
       "      <td>Propsh Hontichre</td>\n",
       "    </tr>\n",
       "  </tbody>\n",
       "</table>\n",
       "<p>6606 rows × 13 columns</p>\n",
       "</div>"
      ],
      "text/plain": [
       "     PassengerId HomePlanet CryoSleep     Cabin    Destination   Age    VIP  \\\n",
       "0        0001_01     Europa     False     B/0/P    TRAPPIST-1e  39.0  False   \n",
       "1        0002_01      Earth     False     F/0/S    TRAPPIST-1e  24.0  False   \n",
       "2        0003_01     Europa     False     A/0/S    TRAPPIST-1e  58.0   True   \n",
       "3        0003_02     Europa     False     A/0/S    TRAPPIST-1e  33.0  False   \n",
       "4        0004_01      Earth     False     F/1/S    TRAPPIST-1e  16.0  False   \n",
       "...          ...        ...       ...       ...            ...   ...    ...   \n",
       "8688     9276_01     Europa     False    A/98/P    55 Cancri e  41.0   True   \n",
       "8689     9278_01      Earth      True  G/1499/S  PSO J318.5-22  18.0  False   \n",
       "8690     9279_01      Earth     False  G/1500/S    TRAPPIST-1e  26.0  False   \n",
       "8691     9280_01     Europa     False   E/608/S    55 Cancri e  32.0  False   \n",
       "8692     9280_02     Europa     False   E/608/S    TRAPPIST-1e  44.0  False   \n",
       "\n",
       "      RoomService  FoodCourt  ShoppingMall     Spa  VRDeck               Name  \n",
       "0             0.0        0.0           0.0     0.0     0.0    Maham Ofracculy  \n",
       "1           109.0        9.0          25.0   549.0    44.0       Juanna Vines  \n",
       "2            43.0     3576.0           0.0  6715.0    49.0      Altark Susent  \n",
       "3             0.0     1283.0         371.0  3329.0   193.0       Solam Susent  \n",
       "4           303.0       70.0         151.0   565.0     2.0  Willy Santantines  \n",
       "...           ...        ...           ...     ...     ...                ...  \n",
       "8688          0.0     6819.0           0.0  1643.0    74.0  Gravior Noxnuther  \n",
       "8689          0.0        0.0           0.0     0.0     0.0    Kurta Mondalley  \n",
       "8690          0.0        0.0        1872.0     1.0     0.0       Fayey Connon  \n",
       "8691          0.0     1049.0           0.0   353.0  3235.0   Celeon Hontichre  \n",
       "8692        126.0     4688.0           0.0     0.0    12.0   Propsh Hontichre  \n",
       "\n",
       "[6606 rows x 13 columns]"
      ]
     },
     "execution_count": 14,
     "metadata": {},
     "output_type": "execute_result"
    }
   ],
   "source": [
    "target = train1['Transported']\n",
    "\n",
    "train1.drop(['Transported'],axis=1, inplace=True)\n",
    "train1"
   ]
  },
  {
   "cell_type": "markdown",
   "id": "78bf18db",
   "metadata": {
    "papermill": {
     "duration": 0.136148,
     "end_time": "2022-02-27T21:14:35.655517",
     "exception": false,
     "start_time": "2022-02-27T21:14:35.519369",
     "status": "completed"
    },
    "tags": []
   },
   "source": [
    "Combine train and test"
   ]
  },
  {
   "cell_type": "code",
   "execution_count": 15,
   "id": "289483f6",
   "metadata": {
    "execution": {
     "iopub.execute_input": "2022-02-27T21:14:35.935069Z",
     "iopub.status.busy": "2022-02-27T21:14:35.934372Z",
     "iopub.status.idle": "2022-02-27T21:14:35.965593Z",
     "shell.execute_reply": "2022-02-27T21:14:35.965020Z",
     "shell.execute_reply.started": "2022-02-27T20:59:18.568699Z"
    },
    "papermill": {
     "duration": 0.171033,
     "end_time": "2022-02-27T21:14:35.965777",
     "exception": false,
     "start_time": "2022-02-27T21:14:35.794744",
     "status": "completed"
    },
    "tags": []
   },
   "outputs": [
    {
     "data": {
      "text/html": [
       "<div>\n",
       "<style scoped>\n",
       "    .dataframe tbody tr th:only-of-type {\n",
       "        vertical-align: middle;\n",
       "    }\n",
       "\n",
       "    .dataframe tbody tr th {\n",
       "        vertical-align: top;\n",
       "    }\n",
       "\n",
       "    .dataframe thead th {\n",
       "        text-align: right;\n",
       "    }\n",
       "</style>\n",
       "<table border=\"1\" class=\"dataframe\">\n",
       "  <thead>\n",
       "    <tr style=\"text-align: right;\">\n",
       "      <th></th>\n",
       "      <th>PassengerId</th>\n",
       "      <th>HomePlanet</th>\n",
       "      <th>CryoSleep</th>\n",
       "      <th>Cabin</th>\n",
       "      <th>Destination</th>\n",
       "      <th>Age</th>\n",
       "      <th>VIP</th>\n",
       "      <th>RoomService</th>\n",
       "      <th>FoodCourt</th>\n",
       "      <th>ShoppingMall</th>\n",
       "      <th>Spa</th>\n",
       "      <th>VRDeck</th>\n",
       "      <th>Name</th>\n",
       "    </tr>\n",
       "  </thead>\n",
       "  <tbody>\n",
       "    <tr>\n",
       "      <th>0</th>\n",
       "      <td>0001_01</td>\n",
       "      <td>Europa</td>\n",
       "      <td>False</td>\n",
       "      <td>B/0/P</td>\n",
       "      <td>TRAPPIST-1e</td>\n",
       "      <td>39.0</td>\n",
       "      <td>False</td>\n",
       "      <td>0.0</td>\n",
       "      <td>0.0</td>\n",
       "      <td>0.0</td>\n",
       "      <td>0.0</td>\n",
       "      <td>0.0</td>\n",
       "      <td>Maham Ofracculy</td>\n",
       "    </tr>\n",
       "    <tr>\n",
       "      <th>1</th>\n",
       "      <td>0002_01</td>\n",
       "      <td>Earth</td>\n",
       "      <td>False</td>\n",
       "      <td>F/0/S</td>\n",
       "      <td>TRAPPIST-1e</td>\n",
       "      <td>24.0</td>\n",
       "      <td>False</td>\n",
       "      <td>109.0</td>\n",
       "      <td>9.0</td>\n",
       "      <td>25.0</td>\n",
       "      <td>549.0</td>\n",
       "      <td>44.0</td>\n",
       "      <td>Juanna Vines</td>\n",
       "    </tr>\n",
       "    <tr>\n",
       "      <th>2</th>\n",
       "      <td>0003_01</td>\n",
       "      <td>Europa</td>\n",
       "      <td>False</td>\n",
       "      <td>A/0/S</td>\n",
       "      <td>TRAPPIST-1e</td>\n",
       "      <td>58.0</td>\n",
       "      <td>True</td>\n",
       "      <td>43.0</td>\n",
       "      <td>3576.0</td>\n",
       "      <td>0.0</td>\n",
       "      <td>6715.0</td>\n",
       "      <td>49.0</td>\n",
       "      <td>Altark Susent</td>\n",
       "    </tr>\n",
       "    <tr>\n",
       "      <th>3</th>\n",
       "      <td>0003_02</td>\n",
       "      <td>Europa</td>\n",
       "      <td>False</td>\n",
       "      <td>A/0/S</td>\n",
       "      <td>TRAPPIST-1e</td>\n",
       "      <td>33.0</td>\n",
       "      <td>False</td>\n",
       "      <td>0.0</td>\n",
       "      <td>1283.0</td>\n",
       "      <td>371.0</td>\n",
       "      <td>3329.0</td>\n",
       "      <td>193.0</td>\n",
       "      <td>Solam Susent</td>\n",
       "    </tr>\n",
       "    <tr>\n",
       "      <th>4</th>\n",
       "      <td>0004_01</td>\n",
       "      <td>Earth</td>\n",
       "      <td>False</td>\n",
       "      <td>F/1/S</td>\n",
       "      <td>TRAPPIST-1e</td>\n",
       "      <td>16.0</td>\n",
       "      <td>False</td>\n",
       "      <td>303.0</td>\n",
       "      <td>70.0</td>\n",
       "      <td>151.0</td>\n",
       "      <td>565.0</td>\n",
       "      <td>2.0</td>\n",
       "      <td>Willy Santantines</td>\n",
       "    </tr>\n",
       "    <tr>\n",
       "      <th>...</th>\n",
       "      <td>...</td>\n",
       "      <td>...</td>\n",
       "      <td>...</td>\n",
       "      <td>...</td>\n",
       "      <td>...</td>\n",
       "      <td>...</td>\n",
       "      <td>...</td>\n",
       "      <td>...</td>\n",
       "      <td>...</td>\n",
       "      <td>...</td>\n",
       "      <td>...</td>\n",
       "      <td>...</td>\n",
       "      <td>...</td>\n",
       "    </tr>\n",
       "    <tr>\n",
       "      <th>4272</th>\n",
       "      <td>9266_02</td>\n",
       "      <td>Earth</td>\n",
       "      <td>True</td>\n",
       "      <td>G/1496/S</td>\n",
       "      <td>TRAPPIST-1e</td>\n",
       "      <td>34.0</td>\n",
       "      <td>False</td>\n",
       "      <td>0.0</td>\n",
       "      <td>0.0</td>\n",
       "      <td>0.0</td>\n",
       "      <td>0.0</td>\n",
       "      <td>0.0</td>\n",
       "      <td>Jeron Peter</td>\n",
       "    </tr>\n",
       "    <tr>\n",
       "      <th>4273</th>\n",
       "      <td>9269_01</td>\n",
       "      <td>Earth</td>\n",
       "      <td>False</td>\n",
       "      <td>NaN</td>\n",
       "      <td>TRAPPIST-1e</td>\n",
       "      <td>42.0</td>\n",
       "      <td>False</td>\n",
       "      <td>0.0</td>\n",
       "      <td>847.0</td>\n",
       "      <td>17.0</td>\n",
       "      <td>10.0</td>\n",
       "      <td>144.0</td>\n",
       "      <td>Matty Scheron</td>\n",
       "    </tr>\n",
       "    <tr>\n",
       "      <th>4274</th>\n",
       "      <td>9271_01</td>\n",
       "      <td>Mars</td>\n",
       "      <td>True</td>\n",
       "      <td>D/296/P</td>\n",
       "      <td>55 Cancri e</td>\n",
       "      <td>NaN</td>\n",
       "      <td>False</td>\n",
       "      <td>0.0</td>\n",
       "      <td>0.0</td>\n",
       "      <td>0.0</td>\n",
       "      <td>0.0</td>\n",
       "      <td>0.0</td>\n",
       "      <td>Jayrin Pore</td>\n",
       "    </tr>\n",
       "    <tr>\n",
       "      <th>4275</th>\n",
       "      <td>9273_01</td>\n",
       "      <td>Europa</td>\n",
       "      <td>False</td>\n",
       "      <td>D/297/P</td>\n",
       "      <td>NaN</td>\n",
       "      <td>NaN</td>\n",
       "      <td>False</td>\n",
       "      <td>0.0</td>\n",
       "      <td>2680.0</td>\n",
       "      <td>0.0</td>\n",
       "      <td>0.0</td>\n",
       "      <td>523.0</td>\n",
       "      <td>Kitakan Conale</td>\n",
       "    </tr>\n",
       "    <tr>\n",
       "      <th>4276</th>\n",
       "      <td>9277_01</td>\n",
       "      <td>Earth</td>\n",
       "      <td>True</td>\n",
       "      <td>G/1498/S</td>\n",
       "      <td>PSO J318.5-22</td>\n",
       "      <td>43.0</td>\n",
       "      <td>False</td>\n",
       "      <td>0.0</td>\n",
       "      <td>0.0</td>\n",
       "      <td>0.0</td>\n",
       "      <td>0.0</td>\n",
       "      <td>0.0</td>\n",
       "      <td>Lilace Leonzaley</td>\n",
       "    </tr>\n",
       "  </tbody>\n",
       "</table>\n",
       "<p>10883 rows × 13 columns</p>\n",
       "</div>"
      ],
      "text/plain": [
       "     PassengerId HomePlanet CryoSleep     Cabin    Destination   Age    VIP  \\\n",
       "0        0001_01     Europa     False     B/0/P    TRAPPIST-1e  39.0  False   \n",
       "1        0002_01      Earth     False     F/0/S    TRAPPIST-1e  24.0  False   \n",
       "2        0003_01     Europa     False     A/0/S    TRAPPIST-1e  58.0   True   \n",
       "3        0003_02     Europa     False     A/0/S    TRAPPIST-1e  33.0  False   \n",
       "4        0004_01      Earth     False     F/1/S    TRAPPIST-1e  16.0  False   \n",
       "...          ...        ...       ...       ...            ...   ...    ...   \n",
       "4272     9266_02      Earth      True  G/1496/S    TRAPPIST-1e  34.0  False   \n",
       "4273     9269_01      Earth     False       NaN    TRAPPIST-1e  42.0  False   \n",
       "4274     9271_01       Mars      True   D/296/P    55 Cancri e   NaN  False   \n",
       "4275     9273_01     Europa     False   D/297/P            NaN   NaN  False   \n",
       "4276     9277_01      Earth      True  G/1498/S  PSO J318.5-22  43.0  False   \n",
       "\n",
       "      RoomService  FoodCourt  ShoppingMall     Spa  VRDeck               Name  \n",
       "0             0.0        0.0           0.0     0.0     0.0    Maham Ofracculy  \n",
       "1           109.0        9.0          25.0   549.0    44.0       Juanna Vines  \n",
       "2            43.0     3576.0           0.0  6715.0    49.0      Altark Susent  \n",
       "3             0.0     1283.0         371.0  3329.0   193.0       Solam Susent  \n",
       "4           303.0       70.0         151.0   565.0     2.0  Willy Santantines  \n",
       "...           ...        ...           ...     ...     ...                ...  \n",
       "4272          0.0        0.0           0.0     0.0     0.0        Jeron Peter  \n",
       "4273          0.0      847.0          17.0    10.0   144.0      Matty Scheron  \n",
       "4274          0.0        0.0           0.0     0.0     0.0        Jayrin Pore  \n",
       "4275          0.0     2680.0           0.0     0.0   523.0     Kitakan Conale  \n",
       "4276          0.0        0.0           0.0     0.0     0.0   Lilace Leonzaley  \n",
       "\n",
       "[10883 rows x 13 columns]"
      ]
     },
     "execution_count": 15,
     "metadata": {},
     "output_type": "execute_result"
    }
   ],
   "source": [
    "combi = train1.append(test)\n",
    "combi"
   ]
  },
  {
   "cell_type": "markdown",
   "id": "924f54db",
   "metadata": {
    "papermill": {
     "duration": 0.14154,
     "end_time": "2022-02-27T21:14:36.246883",
     "exception": false,
     "start_time": "2022-02-27T21:14:36.105343",
     "status": "completed"
    },
    "tags": []
   },
   "source": [
    "Analyse combi"
   ]
  },
  {
   "cell_type": "code",
   "execution_count": 16,
   "id": "5c5c7d61",
   "metadata": {
    "execution": {
     "iopub.execute_input": "2022-02-27T21:14:36.546143Z",
     "iopub.status.busy": "2022-02-27T21:14:36.545424Z",
     "iopub.status.idle": "2022-02-27T21:14:36.553103Z",
     "shell.execute_reply": "2022-02-27T21:14:36.553713Z",
     "shell.execute_reply.started": "2022-02-27T20:59:18.602168Z"
    },
    "papermill": {
     "duration": 0.167509,
     "end_time": "2022-02-27T21:14:36.553903",
     "exception": false,
     "start_time": "2022-02-27T21:14:36.386394",
     "status": "completed"
    },
    "tags": []
   },
   "outputs": [
    {
     "name": "stdout",
     "output_type": "stream",
     "text": [
      "<class 'pandas.core.frame.DataFrame'>\n",
      "Int64Index: 10883 entries, 0 to 4276\n",
      "Data columns (total 13 columns):\n",
      " #   Column        Non-Null Count  Dtype  \n",
      "---  ------        --------------  -----  \n",
      " 0   PassengerId   10883 non-null  object \n",
      " 1   HomePlanet    10796 non-null  object \n",
      " 2   CryoSleep     10790 non-null  object \n",
      " 3   Cabin         10783 non-null  object \n",
      " 4   Destination   10791 non-null  object \n",
      " 5   Age           10792 non-null  float64\n",
      " 6   VIP           10790 non-null  object \n",
      " 7   RoomService   10801 non-null  float64\n",
      " 8   FoodCourt     10777 non-null  float64\n",
      " 9   ShoppingMall  10785 non-null  float64\n",
      " 10  Spa           10782 non-null  float64\n",
      " 11  VRDeck        10803 non-null  float64\n",
      " 12  Name          10789 non-null  object \n",
      "dtypes: float64(6), object(7)\n",
      "memory usage: 1.2+ MB\n"
     ]
    }
   ],
   "source": [
    "combi.info()"
   ]
  },
  {
   "cell_type": "code",
   "execution_count": 17,
   "id": "a7b6a1e2",
   "metadata": {
    "execution": {
     "iopub.execute_input": "2022-02-27T21:14:36.839422Z",
     "iopub.status.busy": "2022-02-27T21:14:36.838757Z",
     "iopub.status.idle": "2022-02-27T21:14:36.873194Z",
     "shell.execute_reply": "2022-02-27T21:14:36.873888Z",
     "shell.execute_reply.started": "2022-02-27T20:59:18.626720Z"
    },
    "papermill": {
     "duration": 0.180994,
     "end_time": "2022-02-27T21:14:36.874076",
     "exception": false,
     "start_time": "2022-02-27T21:14:36.693082",
     "status": "completed"
    },
    "tags": []
   },
   "outputs": [
    {
     "data": {
      "text/html": [
       "<div>\n",
       "<style scoped>\n",
       "    .dataframe tbody tr th:only-of-type {\n",
       "        vertical-align: middle;\n",
       "    }\n",
       "\n",
       "    .dataframe tbody tr th {\n",
       "        vertical-align: top;\n",
       "    }\n",
       "\n",
       "    .dataframe thead th {\n",
       "        text-align: right;\n",
       "    }\n",
       "</style>\n",
       "<table border=\"1\" class=\"dataframe\">\n",
       "  <thead>\n",
       "    <tr style=\"text-align: right;\">\n",
       "      <th></th>\n",
       "      <th>Age</th>\n",
       "      <th>RoomService</th>\n",
       "      <th>FoodCourt</th>\n",
       "      <th>ShoppingMall</th>\n",
       "      <th>Spa</th>\n",
       "      <th>VRDeck</th>\n",
       "    </tr>\n",
       "  </thead>\n",
       "  <tbody>\n",
       "    <tr>\n",
       "      <th>count</th>\n",
       "      <td>10792.000000</td>\n",
       "      <td>10801.000000</td>\n",
       "      <td>10777.000000</td>\n",
       "      <td>10785.000000</td>\n",
       "      <td>10782.000000</td>\n",
       "      <td>10803.000000</td>\n",
       "    </tr>\n",
       "    <tr>\n",
       "      <th>mean</th>\n",
       "      <td>28.802539</td>\n",
       "      <td>221.544764</td>\n",
       "      <td>463.680894</td>\n",
       "      <td>177.945387</td>\n",
       "      <td>309.246151</td>\n",
       "      <td>306.472369</td>\n",
       "    </tr>\n",
       "    <tr>\n",
       "      <th>std</th>\n",
       "      <td>14.396816</td>\n",
       "      <td>630.484127</td>\n",
       "      <td>1621.887223</td>\n",
       "      <td>570.343750</td>\n",
       "      <td>1133.658617</td>\n",
       "      <td>1175.106100</td>\n",
       "    </tr>\n",
       "    <tr>\n",
       "      <th>min</th>\n",
       "      <td>0.000000</td>\n",
       "      <td>0.000000</td>\n",
       "      <td>0.000000</td>\n",
       "      <td>0.000000</td>\n",
       "      <td>0.000000</td>\n",
       "      <td>0.000000</td>\n",
       "    </tr>\n",
       "    <tr>\n",
       "      <th>25%</th>\n",
       "      <td>19.000000</td>\n",
       "      <td>0.000000</td>\n",
       "      <td>0.000000</td>\n",
       "      <td>0.000000</td>\n",
       "      <td>0.000000</td>\n",
       "      <td>0.000000</td>\n",
       "    </tr>\n",
       "    <tr>\n",
       "      <th>50%</th>\n",
       "      <td>27.000000</td>\n",
       "      <td>0.000000</td>\n",
       "      <td>0.000000</td>\n",
       "      <td>0.000000</td>\n",
       "      <td>0.000000</td>\n",
       "      <td>0.000000</td>\n",
       "    </tr>\n",
       "    <tr>\n",
       "      <th>75%</th>\n",
       "      <td>38.000000</td>\n",
       "      <td>51.000000</td>\n",
       "      <td>81.000000</td>\n",
       "      <td>31.000000</td>\n",
       "      <td>59.000000</td>\n",
       "      <td>44.000000</td>\n",
       "    </tr>\n",
       "    <tr>\n",
       "      <th>max</th>\n",
       "      <td>79.000000</td>\n",
       "      <td>11567.000000</td>\n",
       "      <td>29813.000000</td>\n",
       "      <td>12253.000000</td>\n",
       "      <td>22408.000000</td>\n",
       "      <td>22272.000000</td>\n",
       "    </tr>\n",
       "  </tbody>\n",
       "</table>\n",
       "</div>"
      ],
      "text/plain": [
       "                Age   RoomService     FoodCourt  ShoppingMall           Spa  \\\n",
       "count  10792.000000  10801.000000  10777.000000  10785.000000  10782.000000   \n",
       "mean      28.802539    221.544764    463.680894    177.945387    309.246151   \n",
       "std       14.396816    630.484127   1621.887223    570.343750   1133.658617   \n",
       "min        0.000000      0.000000      0.000000      0.000000      0.000000   \n",
       "25%       19.000000      0.000000      0.000000      0.000000      0.000000   \n",
       "50%       27.000000      0.000000      0.000000      0.000000      0.000000   \n",
       "75%       38.000000     51.000000     81.000000     31.000000     59.000000   \n",
       "max       79.000000  11567.000000  29813.000000  12253.000000  22408.000000   \n",
       "\n",
       "             VRDeck  \n",
       "count  10803.000000  \n",
       "mean     306.472369  \n",
       "std     1175.106100  \n",
       "min        0.000000  \n",
       "25%        0.000000  \n",
       "50%        0.000000  \n",
       "75%       44.000000  \n",
       "max    22272.000000  "
      ]
     },
     "execution_count": 17,
     "metadata": {},
     "output_type": "execute_result"
    }
   ],
   "source": [
    "combi.describe()"
   ]
  },
  {
   "cell_type": "markdown",
   "id": "df17fb8a",
   "metadata": {
    "papermill": {
     "duration": 0.141048,
     "end_time": "2022-02-27T21:14:37.157641",
     "exception": false,
     "start_time": "2022-02-27T21:14:37.016593",
     "status": "completed"
    },
    "tags": []
   },
   "source": [
    "Check for null values"
   ]
  },
  {
   "cell_type": "code",
   "execution_count": 18,
   "id": "a1c76b88",
   "metadata": {
    "execution": {
     "iopub.execute_input": "2022-02-27T21:14:37.478567Z",
     "iopub.status.busy": "2022-02-27T21:14:37.477813Z",
     "iopub.status.idle": "2022-02-27T21:14:37.486855Z",
     "shell.execute_reply": "2022-02-27T21:14:37.487449Z",
     "shell.execute_reply.started": "2022-02-27T20:59:18.663069Z"
    },
    "papermill": {
     "duration": 0.184969,
     "end_time": "2022-02-27T21:14:37.487657",
     "exception": false,
     "start_time": "2022-02-27T21:14:37.302688",
     "status": "completed"
    },
    "tags": []
   },
   "outputs": [
    {
     "data": {
      "text/plain": [
       "PassengerId       0\n",
       "HomePlanet       87\n",
       "CryoSleep        93\n",
       "Cabin           100\n",
       "Destination      92\n",
       "Age              91\n",
       "VIP              93\n",
       "RoomService      82\n",
       "FoodCourt       106\n",
       "ShoppingMall     98\n",
       "Spa             101\n",
       "VRDeck           80\n",
       "Name             94\n",
       "dtype: int64"
      ]
     },
     "execution_count": 18,
     "metadata": {},
     "output_type": "execute_result"
    }
   ],
   "source": [
    "combi.isnull().sum()"
   ]
  },
  {
   "cell_type": "markdown",
   "id": "50d20500",
   "metadata": {
    "papermill": {
     "duration": 0.165918,
     "end_time": "2022-02-27T21:14:37.815825",
     "exception": false,
     "start_time": "2022-02-27T21:14:37.649907",
     "status": "completed"
    },
    "tags": []
   },
   "source": [
    "Impute null values"
   ]
  },
  {
   "cell_type": "code",
   "execution_count": 19,
   "id": "fe3c9118",
   "metadata": {
    "execution": {
     "iopub.execute_input": "2022-02-27T21:14:38.105711Z",
     "iopub.status.busy": "2022-02-27T21:14:38.104983Z",
     "iopub.status.idle": "2022-02-27T21:14:38.491232Z",
     "shell.execute_reply": "2022-02-27T21:14:38.490679Z",
     "shell.execute_reply.started": "2022-02-27T20:59:18.683162Z"
    },
    "papermill": {
     "duration": 0.53393,
     "end_time": "2022-02-27T21:14:38.491426",
     "exception": false,
     "start_time": "2022-02-27T21:14:37.957496",
     "status": "completed"
    },
    "tags": []
   },
   "outputs": [
    {
     "data": {
      "text/html": [
       "<div>\n",
       "<style scoped>\n",
       "    .dataframe tbody tr th:only-of-type {\n",
       "        vertical-align: middle;\n",
       "    }\n",
       "\n",
       "    .dataframe tbody tr th {\n",
       "        vertical-align: top;\n",
       "    }\n",
       "\n",
       "    .dataframe thead th {\n",
       "        text-align: right;\n",
       "    }\n",
       "</style>\n",
       "<table border=\"1\" class=\"dataframe\">\n",
       "  <thead>\n",
       "    <tr style=\"text-align: right;\">\n",
       "      <th></th>\n",
       "      <th>PassengerId</th>\n",
       "      <th>HomePlanet</th>\n",
       "      <th>CryoSleep</th>\n",
       "      <th>Cabin</th>\n",
       "      <th>Destination</th>\n",
       "      <th>Age</th>\n",
       "      <th>VIP</th>\n",
       "      <th>RoomService</th>\n",
       "      <th>FoodCourt</th>\n",
       "      <th>ShoppingMall</th>\n",
       "      <th>Spa</th>\n",
       "      <th>VRDeck</th>\n",
       "      <th>Name</th>\n",
       "    </tr>\n",
       "  </thead>\n",
       "  <tbody>\n",
       "    <tr>\n",
       "      <th>0</th>\n",
       "      <td>0001_01</td>\n",
       "      <td>Europa</td>\n",
       "      <td>False</td>\n",
       "      <td>B/0/P</td>\n",
       "      <td>TRAPPIST-1e</td>\n",
       "      <td>39.000000</td>\n",
       "      <td>False</td>\n",
       "      <td>0.0</td>\n",
       "      <td>0.0</td>\n",
       "      <td>0.0</td>\n",
       "      <td>0.0</td>\n",
       "      <td>0.0</td>\n",
       "      <td>Maham Ofracculy</td>\n",
       "    </tr>\n",
       "    <tr>\n",
       "      <th>1</th>\n",
       "      <td>0002_01</td>\n",
       "      <td>Earth</td>\n",
       "      <td>False</td>\n",
       "      <td>F/0/S</td>\n",
       "      <td>TRAPPIST-1e</td>\n",
       "      <td>24.000000</td>\n",
       "      <td>False</td>\n",
       "      <td>109.0</td>\n",
       "      <td>9.0</td>\n",
       "      <td>25.0</td>\n",
       "      <td>549.0</td>\n",
       "      <td>44.0</td>\n",
       "      <td>Juanna Vines</td>\n",
       "    </tr>\n",
       "    <tr>\n",
       "      <th>2</th>\n",
       "      <td>0003_01</td>\n",
       "      <td>Europa</td>\n",
       "      <td>False</td>\n",
       "      <td>A/0/S</td>\n",
       "      <td>TRAPPIST-1e</td>\n",
       "      <td>58.000000</td>\n",
       "      <td>True</td>\n",
       "      <td>43.0</td>\n",
       "      <td>3576.0</td>\n",
       "      <td>0.0</td>\n",
       "      <td>6715.0</td>\n",
       "      <td>49.0</td>\n",
       "      <td>Altark Susent</td>\n",
       "    </tr>\n",
       "    <tr>\n",
       "      <th>3</th>\n",
       "      <td>0003_02</td>\n",
       "      <td>Europa</td>\n",
       "      <td>False</td>\n",
       "      <td>A/0/S</td>\n",
       "      <td>TRAPPIST-1e</td>\n",
       "      <td>33.000000</td>\n",
       "      <td>False</td>\n",
       "      <td>0.0</td>\n",
       "      <td>1283.0</td>\n",
       "      <td>371.0</td>\n",
       "      <td>3329.0</td>\n",
       "      <td>193.0</td>\n",
       "      <td>Solam Susent</td>\n",
       "    </tr>\n",
       "    <tr>\n",
       "      <th>4</th>\n",
       "      <td>0004_01</td>\n",
       "      <td>Earth</td>\n",
       "      <td>False</td>\n",
       "      <td>F/1/S</td>\n",
       "      <td>TRAPPIST-1e</td>\n",
       "      <td>16.000000</td>\n",
       "      <td>False</td>\n",
       "      <td>303.0</td>\n",
       "      <td>70.0</td>\n",
       "      <td>151.0</td>\n",
       "      <td>565.0</td>\n",
       "      <td>2.0</td>\n",
       "      <td>Willy Santantines</td>\n",
       "    </tr>\n",
       "    <tr>\n",
       "      <th>...</th>\n",
       "      <td>...</td>\n",
       "      <td>...</td>\n",
       "      <td>...</td>\n",
       "      <td>...</td>\n",
       "      <td>...</td>\n",
       "      <td>...</td>\n",
       "      <td>...</td>\n",
       "      <td>...</td>\n",
       "      <td>...</td>\n",
       "      <td>...</td>\n",
       "      <td>...</td>\n",
       "      <td>...</td>\n",
       "      <td>...</td>\n",
       "    </tr>\n",
       "    <tr>\n",
       "      <th>4272</th>\n",
       "      <td>9266_02</td>\n",
       "      <td>Earth</td>\n",
       "      <td>True</td>\n",
       "      <td>G/1496/S</td>\n",
       "      <td>TRAPPIST-1e</td>\n",
       "      <td>34.000000</td>\n",
       "      <td>False</td>\n",
       "      <td>0.0</td>\n",
       "      <td>0.0</td>\n",
       "      <td>0.0</td>\n",
       "      <td>0.0</td>\n",
       "      <td>0.0</td>\n",
       "      <td>Jeron Peter</td>\n",
       "    </tr>\n",
       "    <tr>\n",
       "      <th>4273</th>\n",
       "      <td>9269_01</td>\n",
       "      <td>Earth</td>\n",
       "      <td>False</td>\n",
       "      <td>not listed</td>\n",
       "      <td>TRAPPIST-1e</td>\n",
       "      <td>42.000000</td>\n",
       "      <td>False</td>\n",
       "      <td>0.0</td>\n",
       "      <td>847.0</td>\n",
       "      <td>17.0</td>\n",
       "      <td>10.0</td>\n",
       "      <td>144.0</td>\n",
       "      <td>Matty Scheron</td>\n",
       "    </tr>\n",
       "    <tr>\n",
       "      <th>4274</th>\n",
       "      <td>9271_01</td>\n",
       "      <td>Mars</td>\n",
       "      <td>True</td>\n",
       "      <td>D/296/P</td>\n",
       "      <td>55 Cancri e</td>\n",
       "      <td>28.802539</td>\n",
       "      <td>False</td>\n",
       "      <td>0.0</td>\n",
       "      <td>0.0</td>\n",
       "      <td>0.0</td>\n",
       "      <td>0.0</td>\n",
       "      <td>0.0</td>\n",
       "      <td>Jayrin Pore</td>\n",
       "    </tr>\n",
       "    <tr>\n",
       "      <th>4275</th>\n",
       "      <td>9273_01</td>\n",
       "      <td>Europa</td>\n",
       "      <td>False</td>\n",
       "      <td>D/297/P</td>\n",
       "      <td>not listed</td>\n",
       "      <td>28.802539</td>\n",
       "      <td>False</td>\n",
       "      <td>0.0</td>\n",
       "      <td>2680.0</td>\n",
       "      <td>0.0</td>\n",
       "      <td>0.0</td>\n",
       "      <td>523.0</td>\n",
       "      <td>Kitakan Conale</td>\n",
       "    </tr>\n",
       "    <tr>\n",
       "      <th>4276</th>\n",
       "      <td>9277_01</td>\n",
       "      <td>Earth</td>\n",
       "      <td>True</td>\n",
       "      <td>G/1498/S</td>\n",
       "      <td>PSO J318.5-22</td>\n",
       "      <td>43.000000</td>\n",
       "      <td>False</td>\n",
       "      <td>0.0</td>\n",
       "      <td>0.0</td>\n",
       "      <td>0.0</td>\n",
       "      <td>0.0</td>\n",
       "      <td>0.0</td>\n",
       "      <td>Lilace Leonzaley</td>\n",
       "    </tr>\n",
       "  </tbody>\n",
       "</table>\n",
       "<p>10883 rows × 13 columns</p>\n",
       "</div>"
      ],
      "text/plain": [
       "     PassengerId HomePlanet CryoSleep       Cabin    Destination        Age  \\\n",
       "0        0001_01     Europa     False       B/0/P    TRAPPIST-1e  39.000000   \n",
       "1        0002_01      Earth     False       F/0/S    TRAPPIST-1e  24.000000   \n",
       "2        0003_01     Europa     False       A/0/S    TRAPPIST-1e  58.000000   \n",
       "3        0003_02     Europa     False       A/0/S    TRAPPIST-1e  33.000000   \n",
       "4        0004_01      Earth     False       F/1/S    TRAPPIST-1e  16.000000   \n",
       "...          ...        ...       ...         ...            ...        ...   \n",
       "4272     9266_02      Earth      True    G/1496/S    TRAPPIST-1e  34.000000   \n",
       "4273     9269_01      Earth     False  not listed    TRAPPIST-1e  42.000000   \n",
       "4274     9271_01       Mars      True     D/296/P    55 Cancri e  28.802539   \n",
       "4275     9273_01     Europa     False     D/297/P     not listed  28.802539   \n",
       "4276     9277_01      Earth      True    G/1498/S  PSO J318.5-22  43.000000   \n",
       "\n",
       "        VIP  RoomService  FoodCourt  ShoppingMall     Spa  VRDeck  \\\n",
       "0     False          0.0        0.0           0.0     0.0     0.0   \n",
       "1     False        109.0        9.0          25.0   549.0    44.0   \n",
       "2      True         43.0     3576.0           0.0  6715.0    49.0   \n",
       "3     False          0.0     1283.0         371.0  3329.0   193.0   \n",
       "4     False        303.0       70.0         151.0   565.0     2.0   \n",
       "...     ...          ...        ...           ...     ...     ...   \n",
       "4272  False          0.0        0.0           0.0     0.0     0.0   \n",
       "4273  False          0.0      847.0          17.0    10.0   144.0   \n",
       "4274  False          0.0        0.0           0.0     0.0     0.0   \n",
       "4275  False          0.0     2680.0           0.0     0.0   523.0   \n",
       "4276  False          0.0        0.0           0.0     0.0     0.0   \n",
       "\n",
       "                   Name  \n",
       "0       Maham Ofracculy  \n",
       "1          Juanna Vines  \n",
       "2         Altark Susent  \n",
       "3          Solam Susent  \n",
       "4     Willy Santantines  \n",
       "...                 ...  \n",
       "4272        Jeron Peter  \n",
       "4273      Matty Scheron  \n",
       "4274        Jayrin Pore  \n",
       "4275     Kitakan Conale  \n",
       "4276   Lilace Leonzaley  \n",
       "\n",
       "[10883 rows x 13 columns]"
      ]
     },
     "execution_count": 19,
     "metadata": {},
     "output_type": "execute_result"
    }
   ],
   "source": [
    "from sklearn.experimental import enable_iterative_imputer\n",
    "from sklearn.impute import IterativeImputer\n",
    "\n",
    "imp = IterativeImputer(random_state=42)\n",
    "\n",
    "date = pd.Timestamp('2200-01-01')\n",
    "\n",
    "for col in combi:\n",
    "    if combi[col].dtype==\"object\":\n",
    "        combi[col].fillna(\"not listed\", inplace=True)\n",
    "    if combi[col].dtype==\"int\":\n",
    "        #X[col].fillna(X[col].mode()[0], inplace=True)\n",
    "        combi[col].fillna(combi[col].mean(), inplace=True)\n",
    "        #combi[col] = combi[col].astype.int()\n",
    "    if combi[col].dtype=='float':\n",
    "       #X[col].fillna(X[col].mean(), inplace=True)\n",
    "       combi[col] = imp.fit_transform(combi[col].values.reshape(-1,1))\n",
    "    if combi[col].dtype==\"datetime64[ns]\":\n",
    "        combi[col].fillna(date, inplace=True)\n",
    "combi"
   ]
  },
  {
   "cell_type": "code",
   "execution_count": 20,
   "id": "ce032563",
   "metadata": {
    "execution": {
     "iopub.execute_input": "2022-02-27T21:14:38.776573Z",
     "iopub.status.busy": "2022-02-27T21:14:38.775480Z",
     "iopub.status.idle": "2022-02-27T21:14:38.789934Z",
     "shell.execute_reply": "2022-02-27T21:14:38.790507Z",
     "shell.execute_reply.started": "2022-02-27T20:59:18.742671Z"
    },
    "papermill": {
     "duration": 0.159717,
     "end_time": "2022-02-27T21:14:38.790723",
     "exception": false,
     "start_time": "2022-02-27T21:14:38.631006",
     "status": "completed"
    },
    "tags": []
   },
   "outputs": [
    {
     "data": {
      "text/plain": [
       "PassengerId     0\n",
       "HomePlanet      0\n",
       "CryoSleep       0\n",
       "Cabin           0\n",
       "Destination     0\n",
       "Age             0\n",
       "VIP             0\n",
       "RoomService     0\n",
       "FoodCourt       0\n",
       "ShoppingMall    0\n",
       "Spa             0\n",
       "VRDeck          0\n",
       "Name            0\n",
       "dtype: int64"
      ]
     },
     "execution_count": 20,
     "metadata": {},
     "output_type": "execute_result"
    }
   ],
   "source": [
    "combi.isnull().sum()"
   ]
  },
  {
   "cell_type": "markdown",
   "id": "1aac7e6f",
   "metadata": {
    "papermill": {
     "duration": 0.141986,
     "end_time": "2022-02-27T21:14:39.075718",
     "exception": false,
     "start_time": "2022-02-27T21:14:38.933732",
     "status": "completed"
    },
    "tags": []
   },
   "source": [
    "Analyse features"
   ]
  },
  {
   "cell_type": "markdown",
   "id": "8f228911",
   "metadata": {
    "papermill": {
     "duration": 0.144359,
     "end_time": "2022-02-27T21:14:39.366869",
     "exception": false,
     "start_time": "2022-02-27T21:14:39.222510",
     "status": "completed"
    },
    "tags": []
   },
   "source": [
    "Home Planet"
   ]
  },
  {
   "cell_type": "code",
   "execution_count": 21,
   "id": "e4b7185c",
   "metadata": {
    "execution": {
     "iopub.execute_input": "2022-02-27T21:14:39.661087Z",
     "iopub.status.busy": "2022-02-27T21:14:39.660327Z",
     "iopub.status.idle": "2022-02-27T21:14:40.008149Z",
     "shell.execute_reply": "2022-02-27T21:14:40.007521Z",
     "shell.execute_reply.started": "2022-02-27T20:59:18.763079Z"
    },
    "papermill": {
     "duration": 0.495113,
     "end_time": "2022-02-27T21:14:40.008334",
     "exception": false,
     "start_time": "2022-02-27T21:14:39.513221",
     "status": "completed"
    },
    "tags": []
   },
   "outputs": [
    {
     "data": {
      "text/plain": [
       "<seaborn.axisgrid.FacetGrid at 0x7fc65a991c10>"
      ]
     },
     "execution_count": 21,
     "metadata": {},
     "output_type": "execute_result"
    },
    {
     "data": {
      "image/png": "[encoded data removed]",
      "text/plain": [
       "<Figure size 360x360 with 1 Axes>"
      ]
     },
     "metadata": {
      "needs_background": "light"
     },
     "output_type": "display_data"
    }
   ],
   "source": [
    "sns.displot(combi['HomePlanet'])"
   ]
  },
  {
   "cell_type": "code",
   "execution_count": 22,
   "id": "cc15f1bf",
   "metadata": {
    "execution": {
     "iopub.execute_input": "2022-02-27T21:14:40.292587Z",
     "iopub.status.busy": "2022-02-27T21:14:40.291887Z",
     "iopub.status.idle": "2022-02-27T21:14:40.300129Z",
     "shell.execute_reply": "2022-02-27T21:14:40.300808Z",
     "shell.execute_reply.started": "2022-02-27T20:59:19.058402Z"
    },
    "papermill": {
     "duration": 0.152608,
     "end_time": "2022-02-27T21:14:40.300990",
     "exception": false,
     "start_time": "2022-02-27T21:14:40.148382",
     "status": "completed"
    },
    "tags": []
   },
   "outputs": [
    {
     "data": {
      "text/plain": [
       "Earth         5829\n",
       "Europa        2675\n",
       "Mars          2292\n",
       "not listed      87\n",
       "Name: HomePlanet, dtype: int64"
      ]
     },
     "execution_count": 22,
     "metadata": {},
     "output_type": "execute_result"
    }
   ],
   "source": [
    "home_count = combi['HomePlanet'].value_counts()\n",
    "home_count"
   ]
  },
  {
   "cell_type": "code",
   "execution_count": 23,
   "id": "8ea35ceb",
   "metadata": {
    "execution": {
     "iopub.execute_input": "2022-02-27T21:14:40.591839Z",
     "iopub.status.busy": "2022-02-27T21:14:40.591128Z",
     "iopub.status.idle": "2022-02-27T21:14:40.597808Z",
     "shell.execute_reply": "2022-02-27T21:14:40.598701Z",
     "shell.execute_reply.started": "2022-02-27T20:59:19.071685Z"
    },
    "papermill": {
     "duration": 0.154466,
     "end_time": "2022-02-27T21:14:40.598897",
     "exception": false,
     "start_time": "2022-02-27T21:14:40.444431",
     "status": "completed"
    },
    "tags": []
   },
   "outputs": [
    {
     "data": {
      "text/plain": [
       "Earth         0.535606\n",
       "Europa        0.245796\n",
       "Mars          0.210604\n",
       "not listed    0.007994\n",
       "Name: HomePlanet, dtype: float64"
      ]
     },
     "execution_count": 23,
     "metadata": {},
     "output_type": "execute_result"
    }
   ],
   "source": [
    "home_percent = home_count / len(combi)\n",
    "home_percent"
   ]
  },
  {
   "cell_type": "code",
   "execution_count": 24,
   "id": "b0980ac5",
   "metadata": {
    "execution": {
     "iopub.execute_input": "2022-02-27T21:14:40.895144Z",
     "iopub.status.busy": "2022-02-27T21:14:40.894387Z",
     "iopub.status.idle": "2022-02-27T21:14:41.016174Z",
     "shell.execute_reply": "2022-02-27T21:14:41.017319Z",
     "shell.execute_reply.started": "2022-02-27T20:59:19.086731Z"
    },
    "papermill": {
     "duration": 0.273727,
     "end_time": "2022-02-27T21:14:41.017644",
     "exception": false,
     "start_time": "2022-02-27T21:14:40.743917",
     "status": "completed"
    },
    "tags": []
   },
   "outputs": [
    {
     "data": {
      "image/png": "[encoded data removed]",
      "text/plain": [
       "<Figure size 432x288 with 1 Axes>"
      ]
     },
     "metadata": {},
     "output_type": "display_data"
    }
   ],
   "source": [
    "mylabels = [\"Earth\", \"Europa\", \"Mars\", \"not listed\"]\n",
    "plt.pie(home_percent, labels=mylabels)\n",
    "plt.show() "
   ]
  },
  {
   "cell_type": "code",
   "execution_count": 25,
   "id": "1a6d33c6",
   "metadata": {
    "execution": {
     "iopub.execute_input": "2022-02-27T21:14:41.358557Z",
     "iopub.status.busy": "2022-02-27T21:14:41.357558Z",
     "iopub.status.idle": "2022-02-27T21:14:41.371799Z",
     "shell.execute_reply": "2022-02-27T21:14:41.372445Z",
     "shell.execute_reply.started": "2022-02-27T20:59:19.191647Z"
    },
    "papermill": {
     "duration": 0.168146,
     "end_time": "2022-02-27T21:14:41.372643",
     "exception": false,
     "start_time": "2022-02-27T21:14:41.204497",
     "status": "completed"
    },
    "tags": []
   },
   "outputs": [
    {
     "data": {
      "text/plain": [
       "0       2\n",
       "1       1\n",
       "2       2\n",
       "3       2\n",
       "4       1\n",
       "       ..\n",
       "4272    1\n",
       "4273    1\n",
       "4274    3\n",
       "4275    2\n",
       "4276    1\n",
       "Name: HomePlanet, Length: 10883, dtype: int64"
      ]
     },
     "execution_count": 25,
     "metadata": {},
     "output_type": "execute_result"
    }
   ],
   "source": [
    "combi['HomePlanet'].replace({\"Earth\": 1, \"Europa\": 2, \"Mars\": 3, \"not listed\": 4},inplace=True)\n",
    "combi['HomePlanet']"
   ]
  },
  {
   "cell_type": "markdown",
   "id": "a93b9b9d",
   "metadata": {
    "papermill": {
     "duration": 0.146855,
     "end_time": "2022-02-27T21:14:41.668688",
     "exception": false,
     "start_time": "2022-02-27T21:14:41.521833",
     "status": "completed"
    },
    "tags": []
   },
   "source": [
    "Cryo Sleep"
   ]
  },
  {
   "cell_type": "code",
   "execution_count": 26,
   "id": "9b6f89b1",
   "metadata": {
    "execution": {
     "iopub.execute_input": "2022-02-27T21:14:41.968676Z",
     "iopub.status.busy": "2022-02-27T21:14:41.967764Z",
     "iopub.status.idle": "2022-02-27T21:14:41.979052Z",
     "shell.execute_reply": "2022-02-27T21:14:41.979940Z",
     "shell.execute_reply.started": "2022-02-27T20:59:19.225780Z"
    },
    "papermill": {
     "duration": 0.163953,
     "end_time": "2022-02-27T21:14:41.980213",
     "exception": false,
     "start_time": "2022-02-27T21:14:41.816260",
     "status": "completed"
    },
    "tags": []
   },
   "outputs": [
    {
     "name": "stderr",
     "output_type": "stream",
     "text": [
      "/opt/conda/lib/python3.7/site-packages/ipykernel_launcher.py:1: SettingWithCopyWarning: \n",
      "A value is trying to be set on a copy of a slice from a DataFrame\n",
      "\n",
      "See the caveats in the documentation: https://pandas.pydata.org/pandas-docs/stable/user_guide/indexing.html#returning-a-view-versus-a-copy\n",
      "  \"\"\"Entry point for launching an IPython kernel.\n"
     ]
    }
   ],
   "source": [
    "combi['CryoSleep'][combi['CryoSleep'] == 'not listed'] = False"
   ]
  },
  {
   "cell_type": "code",
   "execution_count": 27,
   "id": "3a67ef01",
   "metadata": {
    "execution": {
     "iopub.execute_input": "2022-02-27T21:14:42.283998Z",
     "iopub.status.busy": "2022-02-27T21:14:42.283117Z",
     "iopub.status.idle": "2022-02-27T21:14:42.287360Z",
     "shell.execute_reply": "2022-02-27T21:14:42.287996Z",
     "shell.execute_reply.started": "2022-02-27T20:59:19.245934Z"
    },
    "papermill": {
     "duration": 0.158033,
     "end_time": "2022-02-27T21:14:42.288208",
     "exception": false,
     "start_time": "2022-02-27T21:14:42.130175",
     "status": "completed"
    },
    "tags": []
   },
   "outputs": [
    {
     "name": "stdout",
     "output_type": "stream",
     "text": [
      "PassengerId         0156_01\n",
      "HomePlanet                3\n",
      "CryoSleep             False\n",
      "Cabin                F/34/P\n",
      "Destination     TRAPPIST-1e\n",
      "Age               28.802539\n",
      "VIP                   False\n",
      "RoomService             0.0\n",
      "FoodCourt               0.0\n",
      "ShoppingMall            0.0\n",
      "Spa                     0.0\n",
      "VRDeck                  0.0\n",
      "Name            Tures Upead\n",
      "Name: 68, dtype: object\n"
     ]
    }
   ],
   "source": [
    "print(combi.iloc[6674])"
   ]
  },
  {
   "cell_type": "code",
   "execution_count": 28,
   "id": "e2098eb1",
   "metadata": {
    "execution": {
     "iopub.execute_input": "2022-02-27T21:14:42.589536Z",
     "iopub.status.busy": "2022-02-27T21:14:42.588831Z",
     "iopub.status.idle": "2022-02-27T21:14:42.602582Z",
     "shell.execute_reply": "2022-02-27T21:14:42.603157Z",
     "shell.execute_reply.started": "2022-02-27T20:59:19.262115Z"
    },
    "papermill": {
     "duration": 0.162942,
     "end_time": "2022-02-27T21:14:42.603350",
     "exception": false,
     "start_time": "2022-02-27T21:14:42.440408",
     "status": "completed"
    },
    "tags": []
   },
   "outputs": [
    {
     "data": {
      "text/plain": [
       "0       0\n",
       "1       0\n",
       "2       0\n",
       "3       0\n",
       "4       0\n",
       "       ..\n",
       "4272    1\n",
       "4273    0\n",
       "4274    1\n",
       "4275    0\n",
       "4276    1\n",
       "Name: CryoSleep, Length: 10883, dtype: int64"
      ]
     },
     "execution_count": 28,
     "metadata": {},
     "output_type": "execute_result"
    }
   ],
   "source": [
    "combi['CryoSleep'].replace({False: 0, True: 1})"
   ]
  },
  {
   "cell_type": "code",
   "execution_count": 29,
   "id": "c5b1b705",
   "metadata": {
    "execution": {
     "iopub.execute_input": "2022-02-27T21:14:42.906394Z",
     "iopub.status.busy": "2022-02-27T21:14:42.905720Z",
     "iopub.status.idle": "2022-02-27T21:14:43.288717Z",
     "shell.execute_reply": "2022-02-27T21:14:43.289262Z",
     "shell.execute_reply.started": "2022-02-27T20:59:19.288414Z"
    },
    "papermill": {
     "duration": 0.53691,
     "end_time": "2022-02-27T21:14:43.289443",
     "exception": false,
     "start_time": "2022-02-27T21:14:42.752533",
     "status": "completed"
    },
    "tags": []
   },
   "outputs": [
    {
     "name": "stderr",
     "output_type": "stream",
     "text": [
      "/opt/conda/lib/python3.7/site-packages/seaborn/distributions.py:2619: FutureWarning: `distplot` is a deprecated function and will be removed in a future version. Please adapt your code to use either `displot` (a figure-level function with similar flexibility) or `histplot` (an axes-level function for histograms).\n",
      "  warnings.warn(msg, FutureWarning)\n"
     ]
    },
    {
     "data": {
      "text/plain": [
       "<AxesSubplot:xlabel='CryoSleep', ylabel='Density'>"
      ]
     },
     "execution_count": 29,
     "metadata": {},
     "output_type": "execute_result"
    },
    {
     "data": {
      "image/png": "[encoded data removed]",
      "text/plain": [
       "<Figure size 432x288 with 1 Axes>"
      ]
     },
     "metadata": {
      "needs_background": "light"
     },
     "output_type": "display_data"
    }
   ],
   "source": [
    "sns.distplot(combi['CryoSleep'])"
   ]
  },
  {
   "cell_type": "code",
   "execution_count": 30,
   "id": "69dfe10e",
   "metadata": {
    "execution": {
     "iopub.execute_input": "2022-02-27T21:14:43.608870Z",
     "iopub.status.busy": "2022-02-27T21:14:43.607898Z",
     "iopub.status.idle": "2022-02-27T21:14:43.611554Z",
     "shell.execute_reply": "2022-02-27T21:14:43.612108Z",
     "shell.execute_reply.started": "2022-02-27T20:59:19.618675Z"
    },
    "papermill": {
     "duration": 0.167277,
     "end_time": "2022-02-27T21:14:43.612287",
     "exception": false,
     "start_time": "2022-02-27T21:14:43.445010",
     "status": "completed"
    },
    "tags": []
   },
   "outputs": [
    {
     "data": {
      "text/plain": [
       "False    7007\n",
       "True     3876\n",
       "Name: CryoSleep, dtype: int64"
      ]
     },
     "execution_count": 30,
     "metadata": {},
     "output_type": "execute_result"
    }
   ],
   "source": [
    "sleep_count = combi['CryoSleep'].value_counts()\n",
    "sleep_count"
   ]
  },
  {
   "cell_type": "code",
   "execution_count": 31,
   "id": "ac4ff5f7",
   "metadata": {
    "execution": {
     "iopub.execute_input": "2022-02-27T21:14:43.917968Z",
     "iopub.status.busy": "2022-02-27T21:14:43.916809Z",
     "iopub.status.idle": "2022-02-27T21:14:43.924856Z",
     "shell.execute_reply": "2022-02-27T21:14:43.925392Z",
     "shell.execute_reply.started": "2022-02-27T20:59:19.628647Z"
    },
    "papermill": {
     "duration": 0.16222,
     "end_time": "2022-02-27T21:14:43.925574",
     "exception": false,
     "start_time": "2022-02-27T21:14:43.763354",
     "status": "completed"
    },
    "tags": []
   },
   "outputs": [
    {
     "data": {
      "text/plain": [
       "False    0.643848\n",
       "True     0.356152\n",
       "Name: CryoSleep, dtype: float64"
      ]
     },
     "execution_count": 31,
     "metadata": {},
     "output_type": "execute_result"
    }
   ],
   "source": [
    "sleep_percent = sleep_count / len(combi)\n",
    "sleep_percent"
   ]
  },
  {
   "cell_type": "code",
   "execution_count": 32,
   "id": "f874a89d",
   "metadata": {
    "execution": {
     "iopub.execute_input": "2022-02-27T21:14:44.238160Z",
     "iopub.status.busy": "2022-02-27T21:14:44.237440Z",
     "iopub.status.idle": "2022-02-27T21:14:44.245121Z",
     "shell.execute_reply": "2022-02-27T21:14:44.245712Z",
     "shell.execute_reply.started": "2022-02-27T20:59:19.644988Z"
    },
    "papermill": {
     "duration": 0.166815,
     "end_time": "2022-02-27T21:14:44.245991",
     "exception": false,
     "start_time": "2022-02-27T21:14:44.079176",
     "status": "completed"
    },
    "tags": []
   },
   "outputs": [
    {
     "data": {
      "text/plain": [
       "0       0\n",
       "1       0\n",
       "2       0\n",
       "3       0\n",
       "4       0\n",
       "       ..\n",
       "4272    1\n",
       "4273    0\n",
       "4274    1\n",
       "4275    0\n",
       "4276    1\n",
       "Name: CryoSleep, Length: 10883, dtype: int64"
      ]
     },
     "execution_count": 32,
     "metadata": {},
     "output_type": "execute_result"
    }
   ],
   "source": [
    "combi['CryoSleep'] = combi['CryoSleep'].astype(int)\n",
    "combi['CryoSleep']"
   ]
  },
  {
   "cell_type": "markdown",
   "id": "10140c22",
   "metadata": {
    "papermill": {
     "duration": 0.151971,
     "end_time": "2022-02-27T21:14:44.552963",
     "exception": false,
     "start_time": "2022-02-27T21:14:44.400992",
     "status": "completed"
    },
    "tags": []
   },
   "source": [
    "Destination"
   ]
  },
  {
   "cell_type": "code",
   "execution_count": 33,
   "id": "ce5d1018",
   "metadata": {
    "execution": {
     "iopub.execute_input": "2022-02-27T21:14:44.866744Z",
     "iopub.status.busy": "2022-02-27T21:14:44.866022Z",
     "iopub.status.idle": "2022-02-27T21:14:45.210964Z",
     "shell.execute_reply": "2022-02-27T21:14:45.211604Z",
     "shell.execute_reply.started": "2022-02-27T20:59:19.669309Z"
    },
    "papermill": {
     "duration": 0.505028,
     "end_time": "2022-02-27T21:14:45.211813",
     "exception": false,
     "start_time": "2022-02-27T21:14:44.706785",
     "status": "completed"
    },
    "tags": []
   },
   "outputs": [
    {
     "data": {
      "text/plain": [
       "<seaborn.axisgrid.FacetGrid at 0x7fc6547d9850>"
      ]
     },
     "execution_count": 33,
     "metadata": {},
     "output_type": "execute_result"
    },
    {
     "data": {
      "image/png": "[encoded data removed]",
      "text/plain": [
       "<Figure size 360x360 with 1 Axes>"
      ]
     },
     "metadata": {
      "needs_background": "light"
     },
     "output_type": "display_data"
    }
   ],
   "source": [
    "sns.displot(combi['Destination'])"
   ]
  },
  {
   "cell_type": "code",
   "execution_count": 34,
   "id": "303b1712",
   "metadata": {
    "execution": {
     "iopub.execute_input": "2022-02-27T21:14:45.527567Z",
     "iopub.status.busy": "2022-02-27T21:14:45.526903Z",
     "iopub.status.idle": "2022-02-27T21:14:45.534980Z",
     "shell.execute_reply": "2022-02-27T21:14:45.535644Z",
     "shell.execute_reply.started": "2022-02-27T20:59:19.990952Z"
    },
    "papermill": {
     "duration": 0.164518,
     "end_time": "2022-02-27T21:14:45.535831",
     "exception": false,
     "start_time": "2022-02-27T21:14:45.371313",
     "status": "completed"
    },
    "tags": []
   },
   "outputs": [
    {
     "data": {
      "text/plain": [
       "TRAPPIST-1e      7532\n",
       "55 Cancri e      2248\n",
       "PSO J318.5-22    1011\n",
       "not listed         92\n",
       "Name: Destination, dtype: int64"
      ]
     },
     "execution_count": 34,
     "metadata": {},
     "output_type": "execute_result"
    }
   ],
   "source": [
    "dest_count = combi['Destination'].value_counts()\n",
    "dest_count"
   ]
  },
  {
   "cell_type": "code",
   "execution_count": 35,
   "id": "6ebacaf2",
   "metadata": {
    "execution": {
     "iopub.execute_input": "2022-02-27T21:14:45.840952Z",
     "iopub.status.busy": "2022-02-27T21:14:45.840260Z",
     "iopub.status.idle": "2022-02-27T21:14:45.847842Z",
     "shell.execute_reply": "2022-02-27T21:14:45.848455Z",
     "shell.execute_reply.started": "2022-02-27T20:59:20.003034Z"
    },
    "papermill": {
     "duration": 0.164574,
     "end_time": "2022-02-27T21:14:45.848664",
     "exception": false,
     "start_time": "2022-02-27T21:14:45.684090",
     "status": "completed"
    },
    "tags": []
   },
   "outputs": [
    {
     "data": {
      "text/plain": [
       "TRAPPIST-1e      0.692089\n",
       "55 Cancri e      0.206561\n",
       "PSO J318.5-22    0.092897\n",
       "not listed       0.008454\n",
       "Name: Destination, dtype: float64"
      ]
     },
     "execution_count": 35,
     "metadata": {},
     "output_type": "execute_result"
    }
   ],
   "source": [
    "dest_percent = dest_count / len(combi)\n",
    "dest_percent"
   ]
  },
  {
   "cell_type": "code",
   "execution_count": 36,
   "id": "2e52111e",
   "metadata": {
    "execution": {
     "iopub.execute_input": "2022-02-27T21:14:46.155234Z",
     "iopub.status.busy": "2022-02-27T21:14:46.154387Z",
     "iopub.status.idle": "2022-02-27T21:14:46.262414Z",
     "shell.execute_reply": "2022-02-27T21:14:46.263079Z",
     "shell.execute_reply.started": "2022-02-27T20:59:20.019033Z"
    },
    "papermill": {
     "duration": 0.26219,
     "end_time": "2022-02-27T21:14:46.263261",
     "exception": false,
     "start_time": "2022-02-27T21:14:46.001071",
     "status": "completed"
    },
    "tags": []
   },
   "outputs": [
    {
     "data": {
      "image/png": "[encoded data removed]",
      "text/plain": [
       "<Figure size 432x288 with 1 Axes>"
      ]
     },
     "metadata": {},
     "output_type": "display_data"
    }
   ],
   "source": [
    "mylabels = [\"TRAPPIST-1e\", \"55 Cancri e\", \"PSO J318.5-22\", \"not listed\"]\n",
    "plt.pie(dest_percent, labels=mylabels)\n",
    "plt.show() "
   ]
  },
  {
   "cell_type": "code",
   "execution_count": 37,
   "id": "39efd219",
   "metadata": {
    "execution": {
     "iopub.execute_input": "2022-02-27T21:14:46.617540Z",
     "iopub.status.busy": "2022-02-27T21:14:46.616871Z",
     "iopub.status.idle": "2022-02-27T21:14:46.633602Z",
     "shell.execute_reply": "2022-02-27T21:14:46.634404Z",
     "shell.execute_reply.started": "2022-02-27T20:59:20.127364Z"
    },
    "papermill": {
     "duration": 0.172462,
     "end_time": "2022-02-27T21:14:46.634634",
     "exception": false,
     "start_time": "2022-02-27T21:14:46.462172",
     "status": "completed"
    },
    "tags": []
   },
   "outputs": [
    {
     "data": {
      "text/plain": [
       "0       1\n",
       "1       1\n",
       "2       1\n",
       "3       1\n",
       "4       1\n",
       "       ..\n",
       "4272    1\n",
       "4273    1\n",
       "4274    2\n",
       "4275    4\n",
       "4276    3\n",
       "Name: Destination, Length: 10883, dtype: int64"
      ]
     },
     "execution_count": 37,
     "metadata": {},
     "output_type": "execute_result"
    }
   ],
   "source": [
    "combi['Destination'].replace({\"TRAPPIST-1e\": 1, \"55 Cancri e\": 2, \"PSO J318.5-22\": 3, \"not listed\": 4},inplace=True)\n",
    "combi['Destination']"
   ]
  },
  {
   "cell_type": "markdown",
   "id": "b0d9d5a1",
   "metadata": {
    "papermill": {
     "duration": 0.156921,
     "end_time": "2022-02-27T21:14:46.945576",
     "exception": false,
     "start_time": "2022-02-27T21:14:46.788655",
     "status": "completed"
    },
    "tags": []
   },
   "source": [
    "Age"
   ]
  },
  {
   "cell_type": "code",
   "execution_count": 38,
   "id": "9870caf8",
   "metadata": {
    "execution": {
     "iopub.execute_input": "2022-02-27T21:14:47.268640Z",
     "iopub.status.busy": "2022-02-27T21:14:47.267916Z",
     "iopub.status.idle": "2022-02-27T21:14:47.281819Z",
     "shell.execute_reply": "2022-02-27T21:14:47.282349Z",
     "shell.execute_reply.started": "2022-02-27T20:59:20.159597Z"
    },
    "papermill": {
     "duration": 0.177634,
     "end_time": "2022-02-27T21:14:47.282537",
     "exception": false,
     "start_time": "2022-02-27T21:14:47.104903",
     "status": "completed"
    },
    "tags": []
   },
   "outputs": [
    {
     "data": {
      "text/plain": [
       "0       young adult\n",
       "1       young adult\n",
       "2        middle age\n",
       "3       young adult\n",
       "4             child\n",
       "           ...     \n",
       "4272    young adult\n",
       "4273     middle age\n",
       "4274    young adult\n",
       "4275    young adult\n",
       "4276     middle age\n",
       "Name: Age_group, Length: 10883, dtype: category\n",
       "Categories (4, object): ['child' < 'young adult' < 'middle age' < 'pensioner']"
      ]
     },
     "execution_count": 38,
     "metadata": {},
     "output_type": "execute_result"
    }
   ],
   "source": [
    "combi['Age_group'] = pd.cut(x=combi['Age'], bins=[-1, 18, 40, 65, 100], labels=['child', 'young adult', 'middle age', 'pensioner'])\n",
    "combi['Age_group']"
   ]
  },
  {
   "cell_type": "code",
   "execution_count": 39,
   "id": "69880f8b",
   "metadata": {
    "execution": {
     "iopub.execute_input": "2022-02-27T21:14:47.599779Z",
     "iopub.status.busy": "2022-02-27T21:14:47.594117Z",
     "iopub.status.idle": "2022-02-27T21:14:47.922418Z",
     "shell.execute_reply": "2022-02-27T21:14:47.922995Z",
     "shell.execute_reply.started": "2022-02-27T20:59:20.182668Z"
    },
    "papermill": {
     "duration": 0.486553,
     "end_time": "2022-02-27T21:14:47.923194",
     "exception": false,
     "start_time": "2022-02-27T21:14:47.436641",
     "status": "completed"
    },
    "tags": []
   },
   "outputs": [
    {
     "data": {
      "text/plain": [
       "<seaborn.axisgrid.FacetGrid at 0x7fc64c662890>"
      ]
     },
     "execution_count": 39,
     "metadata": {},
     "output_type": "execute_result"
    },
    {
     "data": {
      "image/png": "[encoded data removed]",
      "text/plain": [
       "<Figure size 360x360 with 1 Axes>"
      ]
     },
     "metadata": {
      "needs_background": "light"
     },
     "output_type": "display_data"
    }
   ],
   "source": [
    "sns.displot(combi['Age_group'])"
   ]
  },
  {
   "cell_type": "code",
   "execution_count": 40,
   "id": "75dc4a0c",
   "metadata": {
    "execution": {
     "iopub.execute_input": "2022-02-27T21:14:48.236932Z",
     "iopub.status.busy": "2022-02-27T21:14:48.236248Z",
     "iopub.status.idle": "2022-02-27T21:14:48.247768Z",
     "shell.execute_reply": "2022-02-27T21:14:48.246969Z",
     "shell.execute_reply.started": "2022-02-27T20:59:20.491579Z"
    },
    "papermill": {
     "duration": 0.167854,
     "end_time": "2022-02-27T21:14:48.247924",
     "exception": false,
     "start_time": "2022-02-27T21:14:48.080070",
     "status": "completed"
    },
    "tags": []
   },
   "outputs": [
    {
     "data": {
      "text/plain": [
       "young adult    6359\n",
       "child          2340\n",
       "middle age     2074\n",
       "pensioner       110\n",
       "Name: Age_group, dtype: int64"
      ]
     },
     "execution_count": 40,
     "metadata": {},
     "output_type": "execute_result"
    }
   ],
   "source": [
    "age_count = combi['Age_group'].value_counts()\n",
    "age_count"
   ]
  },
  {
   "cell_type": "code",
   "execution_count": 41,
   "id": "2d53cabe",
   "metadata": {
    "execution": {
     "iopub.execute_input": "2022-02-27T21:14:48.572957Z",
     "iopub.status.busy": "2022-02-27T21:14:48.572050Z",
     "iopub.status.idle": "2022-02-27T21:14:48.575367Z",
     "shell.execute_reply": "2022-02-27T21:14:48.576049Z",
     "shell.execute_reply.started": "2022-02-27T20:59:20.507725Z"
    },
    "papermill": {
     "duration": 0.168856,
     "end_time": "2022-02-27T21:14:48.576267",
     "exception": false,
     "start_time": "2022-02-27T21:14:48.407411",
     "status": "completed"
    },
    "tags": []
   },
   "outputs": [
    {
     "data": {
      "text/plain": [
       "young adult    0.584306\n",
       "child          0.215014\n",
       "middle age     0.190572\n",
       "pensioner      0.010108\n",
       "Name: Age_group, dtype: float64"
      ]
     },
     "execution_count": 41,
     "metadata": {},
     "output_type": "execute_result"
    }
   ],
   "source": [
    "age_percent = age_count / len(combi)\n",
    "age_percent"
   ]
  },
  {
   "cell_type": "code",
   "execution_count": 42,
   "id": "9ee80eaf",
   "metadata": {
    "execution": {
     "iopub.execute_input": "2022-02-27T21:14:48.894295Z",
     "iopub.status.busy": "2022-02-27T21:14:48.893566Z",
     "iopub.status.idle": "2022-02-27T21:14:49.138195Z",
     "shell.execute_reply": "2022-02-27T21:14:49.138892Z",
     "shell.execute_reply.started": "2022-02-27T20:59:20.515770Z"
    },
    "papermill": {
     "duration": 0.404538,
     "end_time": "2022-02-27T21:14:49.139079",
     "exception": false,
     "start_time": "2022-02-27T21:14:48.734541",
     "status": "completed"
    },
    "tags": []
   },
   "outputs": [
    {
     "data": {
      "image/png": "[encoded data removed]",
      "text/plain": [
       "<Figure size 432x288 with 1 Axes>"
      ]
     },
     "metadata": {},
     "output_type": "display_data"
    }
   ],
   "source": [
    "mylabels = [\"young adult\", \"child\", \"middle age\", \"pensioner\"]\n",
    "plt.pie(age_percent, labels=mylabels)\n",
    "plt.show() "
   ]
  },
  {
   "cell_type": "code",
   "execution_count": 43,
   "id": "06b70a17",
   "metadata": {
    "execution": {
     "iopub.execute_input": "2022-02-27T21:14:49.530772Z",
     "iopub.status.busy": "2022-02-27T21:14:49.530042Z",
     "iopub.status.idle": "2022-02-27T21:14:49.533334Z",
     "shell.execute_reply": "2022-02-27T21:14:49.533844Z",
     "shell.execute_reply.started": "2022-02-27T20:59:20.622059Z"
    },
    "papermill": {
     "duration": 0.179797,
     "end_time": "2022-02-27T21:14:49.534026",
     "exception": false,
     "start_time": "2022-02-27T21:14:49.354229",
     "status": "completed"
    },
    "tags": []
   },
   "outputs": [
    {
     "data": {
      "text/plain": [
       "0       1\n",
       "1       1\n",
       "2       3\n",
       "3       1\n",
       "4       2\n",
       "       ..\n",
       "4272    1\n",
       "4273    3\n",
       "4274    1\n",
       "4275    1\n",
       "4276    3\n",
       "Name: Age_group, Length: 10883, dtype: int64"
      ]
     },
     "execution_count": 43,
     "metadata": {},
     "output_type": "execute_result"
    }
   ],
   "source": [
    "combi['Age_group'].replace({\"young adult\": 1, \"child\": 2, \"middle age\": 3, \"pensioner\": 4},inplace=True)\n",
    "combi['Age_group']"
   ]
  },
  {
   "cell_type": "code",
   "execution_count": 44,
   "id": "6ddf54e7",
   "metadata": {
    "execution": {
     "iopub.execute_input": "2022-02-27T21:14:49.849482Z",
     "iopub.status.busy": "2022-02-27T21:14:49.848729Z",
     "iopub.status.idle": "2022-02-27T21:14:49.851700Z",
     "shell.execute_reply": "2022-02-27T21:14:49.852211Z",
     "shell.execute_reply.started": "2022-02-27T20:59:20.648778Z"
    },
    "papermill": {
     "duration": 0.164864,
     "end_time": "2022-02-27T21:14:49.852399",
     "exception": false,
     "start_time": "2022-02-27T21:14:49.687535",
     "status": "completed"
    },
    "tags": []
   },
   "outputs": [],
   "source": [
    "combi['Age_group'] = combi['Age_group'].astype(int)"
   ]
  },
  {
   "cell_type": "markdown",
   "id": "1676b50f",
   "metadata": {
    "papermill": {
     "duration": 0.156807,
     "end_time": "2022-02-27T21:14:50.165771",
     "exception": false,
     "start_time": "2022-02-27T21:14:50.008964",
     "status": "completed"
    },
    "tags": []
   },
   "source": [
    "VIP"
   ]
  },
  {
   "cell_type": "code",
   "execution_count": 45,
   "id": "de993f30",
   "metadata": {
    "execution": {
     "iopub.execute_input": "2022-02-27T21:14:50.483528Z",
     "iopub.status.busy": "2022-02-27T21:14:50.482858Z",
     "iopub.status.idle": "2022-02-27T21:14:50.494099Z",
     "shell.execute_reply": "2022-02-27T21:14:50.493537Z",
     "shell.execute_reply.started": "2022-02-27T20:59:20.658050Z"
    },
    "papermill": {
     "duration": 0.172395,
     "end_time": "2022-02-27T21:14:50.494252",
     "exception": false,
     "start_time": "2022-02-27T21:14:50.321857",
     "status": "completed"
    },
    "tags": []
   },
   "outputs": [
    {
     "name": "stderr",
     "output_type": "stream",
     "text": [
      "/opt/conda/lib/python3.7/site-packages/ipykernel_launcher.py:1: SettingWithCopyWarning: \n",
      "A value is trying to be set on a copy of a slice from a DataFrame\n",
      "\n",
      "See the caveats in the documentation: https://pandas.pydata.org/pandas-docs/stable/user_guide/indexing.html#returning-a-view-versus-a-copy\n",
      "  \"\"\"Entry point for launching an IPython kernel.\n"
     ]
    }
   ],
   "source": [
    "combi['VIP'][combi['VIP'] == 'not listed'] = False"
   ]
  },
  {
   "cell_type": "code",
   "execution_count": 46,
   "id": "958e6032",
   "metadata": {
    "execution": {
     "iopub.execute_input": "2022-02-27T21:14:50.810978Z",
     "iopub.status.busy": "2022-02-27T21:14:50.810273Z",
     "iopub.status.idle": "2022-02-27T21:14:50.821025Z",
     "shell.execute_reply": "2022-02-27T21:14:50.821586Z",
     "shell.execute_reply.started": "2022-02-27T20:59:20.681060Z"
    },
    "papermill": {
     "duration": 0.173306,
     "end_time": "2022-02-27T21:14:50.821794",
     "exception": false,
     "start_time": "2022-02-27T21:14:50.648488",
     "status": "completed"
    },
    "tags": []
   },
   "outputs": [
    {
     "data": {
      "text/plain": [
       "0       0\n",
       "1       0\n",
       "2       1\n",
       "3       0\n",
       "4       0\n",
       "       ..\n",
       "4272    0\n",
       "4273    0\n",
       "4274    0\n",
       "4275    0\n",
       "4276    0\n",
       "Name: VIP, Length: 10883, dtype: int64"
      ]
     },
     "execution_count": 46,
     "metadata": {},
     "output_type": "execute_result"
    }
   ],
   "source": [
    "combi['VIP'].replace({False: 0, True: 1})"
   ]
  },
  {
   "cell_type": "code",
   "execution_count": 47,
   "id": "17061cdb",
   "metadata": {
    "execution": {
     "iopub.execute_input": "2022-02-27T21:14:51.150299Z",
     "iopub.status.busy": "2022-02-27T21:14:51.139873Z",
     "iopub.status.idle": "2022-02-27T21:14:51.600589Z",
     "shell.execute_reply": "2022-02-27T21:14:51.601226Z",
     "shell.execute_reply.started": "2022-02-27T20:59:20.707723Z"
    },
    "papermill": {
     "duration": 0.623749,
     "end_time": "2022-02-27T21:14:51.601434",
     "exception": false,
     "start_time": "2022-02-27T21:14:50.977685",
     "status": "completed"
    },
    "tags": []
   },
   "outputs": [
    {
     "name": "stderr",
     "output_type": "stream",
     "text": [
      "/opt/conda/lib/python3.7/site-packages/seaborn/distributions.py:2619: FutureWarning: `distplot` is a deprecated function and will be removed in a future version. Please adapt your code to use either `displot` (a figure-level function with similar flexibility) or `histplot` (an axes-level function for histograms).\n",
      "  warnings.warn(msg, FutureWarning)\n"
     ]
    },
    {
     "data": {
      "text/plain": [
       "<AxesSubplot:xlabel='VIP', ylabel='Density'>"
      ]
     },
     "execution_count": 47,
     "metadata": {},
     "output_type": "execute_result"
    },
    {
     "data": {
      "image/png": "[encoded data removed]",
      "text/plain": [
       "<Figure size 432x288 with 1 Axes>"
      ]
     },
     "metadata": {
      "needs_background": "light"
     },
     "output_type": "display_data"
    }
   ],
   "source": [
    "sns.distplot(combi['VIP'])"
   ]
  },
  {
   "cell_type": "code",
   "execution_count": 48,
   "id": "9c380c8b",
   "metadata": {
    "execution": {
     "iopub.execute_input": "2022-02-27T21:14:51.927591Z",
     "iopub.status.busy": "2022-02-27T21:14:51.926934Z",
     "iopub.status.idle": "2022-02-27T21:14:51.935824Z",
     "shell.execute_reply": "2022-02-27T21:14:51.936431Z",
     "shell.execute_reply.started": "2022-02-27T20:59:21.091493Z"
    },
    "papermill": {
     "duration": 0.17244,
     "end_time": "2022-02-27T21:14:51.936639",
     "exception": false,
     "start_time": "2022-02-27T21:14:51.764199",
     "status": "completed"
    },
    "tags": []
   },
   "outputs": [
    {
     "data": {
      "text/plain": [
       "False    10647\n",
       "True       236\n",
       "Name: VIP, dtype: int64"
      ]
     },
     "execution_count": 48,
     "metadata": {},
     "output_type": "execute_result"
    }
   ],
   "source": [
    "vip_count = combi['VIP'].value_counts()\n",
    "vip_count"
   ]
  },
  {
   "cell_type": "code",
   "execution_count": 49,
   "id": "a468e5cc",
   "metadata": {
    "execution": {
     "iopub.execute_input": "2022-02-27T21:14:52.267807Z",
     "iopub.status.busy": "2022-02-27T21:14:52.267088Z",
     "iopub.status.idle": "2022-02-27T21:14:52.274162Z",
     "shell.execute_reply": "2022-02-27T21:14:52.274806Z",
     "shell.execute_reply.started": "2022-02-27T20:59:21.104447Z"
    },
    "papermill": {
     "duration": 0.173835,
     "end_time": "2022-02-27T21:14:52.274992",
     "exception": false,
     "start_time": "2022-02-27T21:14:52.101157",
     "status": "completed"
    },
    "tags": []
   },
   "outputs": [
    {
     "data": {
      "text/plain": [
       "False    0.978315\n",
       "True     0.021685\n",
       "Name: VIP, dtype: float64"
      ]
     },
     "execution_count": 49,
     "metadata": {},
     "output_type": "execute_result"
    }
   ],
   "source": [
    "vip_percent = vip_count / len(combi)\n",
    "vip_percent"
   ]
  },
  {
   "cell_type": "code",
   "execution_count": 50,
   "id": "ae97ebea",
   "metadata": {
    "execution": {
     "iopub.execute_input": "2022-02-27T21:14:52.602396Z",
     "iopub.status.busy": "2022-02-27T21:14:52.601354Z",
     "iopub.status.idle": "2022-02-27T21:14:52.611698Z",
     "shell.execute_reply": "2022-02-27T21:14:52.612319Z",
     "shell.execute_reply.started": "2022-02-27T20:59:21.121987Z"
    },
    "papermill": {
     "duration": 0.173589,
     "end_time": "2022-02-27T21:14:52.612499",
     "exception": false,
     "start_time": "2022-02-27T21:14:52.438910",
     "status": "completed"
    },
    "tags": []
   },
   "outputs": [
    {
     "data": {
      "text/plain": [
       "0       0\n",
       "1       0\n",
       "2       1\n",
       "3       0\n",
       "4       0\n",
       "       ..\n",
       "4272    0\n",
       "4273    0\n",
       "4274    0\n",
       "4275    0\n",
       "4276    0\n",
       "Name: VIP, Length: 10883, dtype: int64"
      ]
     },
     "execution_count": 50,
     "metadata": {},
     "output_type": "execute_result"
    }
   ],
   "source": [
    "combi['VIP'] = combi['VIP'].astype(int)\n",
    "combi['VIP']"
   ]
  },
  {
   "cell_type": "markdown",
   "id": "47044552",
   "metadata": {
    "papermill": {
     "duration": 0.160618,
     "end_time": "2022-02-27T21:14:52.933746",
     "exception": false,
     "start_time": "2022-02-27T21:14:52.773128",
     "status": "completed"
    },
    "tags": []
   },
   "source": [
    "Room Service"
   ]
  },
  {
   "cell_type": "code",
   "execution_count": 51,
   "id": "24f4ff8c",
   "metadata": {
    "execution": {
     "iopub.execute_input": "2022-02-27T21:14:53.263381Z",
     "iopub.status.busy": "2022-02-27T21:14:53.262339Z",
     "iopub.status.idle": "2022-02-27T21:14:53.548662Z",
     "shell.execute_reply": "2022-02-27T21:14:53.549374Z",
     "shell.execute_reply.started": "2022-02-27T20:59:21.138226Z"
    },
    "papermill": {
     "duration": 0.453917,
     "end_time": "2022-02-27T21:14:53.549558",
     "exception": false,
     "start_time": "2022-02-27T21:14:53.095641",
     "status": "completed"
    },
    "tags": []
   },
   "outputs": [
    {
     "name": "stderr",
     "output_type": "stream",
     "text": [
      "/opt/conda/lib/python3.7/site-packages/seaborn/_decorators.py:43: FutureWarning: Pass the following variable as a keyword arg: x. From version 0.12, the only valid positional argument will be `data`, and passing other arguments without an explicit keyword will result in an error or misinterpretation.\n",
      "  FutureWarning\n"
     ]
    },
    {
     "data": {
      "text/plain": [
       "<AxesSubplot:xlabel='RoomService'>"
      ]
     },
     "execution_count": 51,
     "metadata": {},
     "output_type": "execute_result"
    },
    {
     "data": {
      "image/png": "[encoded data removed]",
      "text/plain": [
       "<Figure size 432x288 with 1 Axes>"
      ]
     },
     "metadata": {
      "needs_background": "light"
     },
     "output_type": "display_data"
    }
   ],
   "source": [
    "sns.violinplot(combi['RoomService'])"
   ]
  },
  {
   "cell_type": "code",
   "execution_count": 52,
   "id": "bedd8682",
   "metadata": {
    "execution": {
     "iopub.execute_input": "2022-02-27T21:14:53.882258Z",
     "iopub.status.busy": "2022-02-27T21:14:53.881165Z",
     "iopub.status.idle": "2022-02-27T21:14:53.887427Z",
     "shell.execute_reply": "2022-02-27T21:14:53.888035Z",
     "shell.execute_reply.started": "2022-02-27T20:59:21.368652Z"
    },
    "papermill": {
     "duration": 0.176927,
     "end_time": "2022-02-27T21:14:53.888233",
     "exception": false,
     "start_time": "2022-02-27T21:14:53.711306",
     "status": "completed"
    },
    "tags": []
   },
   "outputs": [
    {
     "name": "stdout",
     "output_type": "stream",
     "text": [
      "11567.0\n"
     ]
    }
   ],
   "source": [
    "rm_service_high = combi['RoomService'].max()\n",
    "print(rm_service_high)"
   ]
  },
  {
   "cell_type": "code",
   "execution_count": 53,
   "id": "1e30dc3a",
   "metadata": {
    "execution": {
     "iopub.execute_input": "2022-02-27T21:14:54.217132Z",
     "iopub.status.busy": "2022-02-27T21:14:54.216043Z",
     "iopub.status.idle": "2022-02-27T21:14:54.228716Z",
     "shell.execute_reply": "2022-02-27T21:14:54.229254Z",
     "shell.execute_reply.started": "2022-02-27T20:59:21.377158Z"
    },
    "papermill": {
     "duration": 0.17953,
     "end_time": "2022-02-27T21:14:54.229436",
     "exception": false,
     "start_time": "2022-02-27T21:14:54.049906",
     "status": "completed"
    },
    "tags": []
   },
   "outputs": [
    {
     "data": {
      "text/plain": [
       "0       low\n",
       "1       low\n",
       "2       low\n",
       "3       low\n",
       "4       low\n",
       "       ... \n",
       "4272    low\n",
       "4273    low\n",
       "4274    low\n",
       "4275    low\n",
       "4276    low\n",
       "Name: Room_Service_group, Length: 10883, dtype: category\n",
       "Categories (3, object): ['low' < 'med' < 'high']"
      ]
     },
     "execution_count": 53,
     "metadata": {},
     "output_type": "execute_result"
    }
   ],
   "source": [
    "combi['Room_Service_group'] = pd.cut(x=combi['RoomService'], bins=[-1, 2000, 8000, 12000], labels=['low', 'med', 'high'])\n",
    "combi['Room_Service_group']\n"
   ]
  },
  {
   "cell_type": "code",
   "execution_count": 54,
   "id": "d0174799",
   "metadata": {
    "execution": {
     "iopub.execute_input": "2022-02-27T21:14:54.566396Z",
     "iopub.status.busy": "2022-02-27T21:14:54.565719Z",
     "iopub.status.idle": "2022-02-27T21:14:54.882191Z",
     "shell.execute_reply": "2022-02-27T21:14:54.882735Z",
     "shell.execute_reply.started": "2022-02-27T20:59:21.400452Z"
    },
    "papermill": {
     "duration": 0.487828,
     "end_time": "2022-02-27T21:14:54.882929",
     "exception": false,
     "start_time": "2022-02-27T21:14:54.395101",
     "status": "completed"
    },
    "tags": []
   },
   "outputs": [
    {
     "data": {
      "text/plain": [
       "<seaborn.axisgrid.FacetGrid at 0x7fc64c4f49d0>"
      ]
     },
     "execution_count": 54,
     "metadata": {},
     "output_type": "execute_result"
    },
    {
     "data": {
      "image/png": "[encoded data removed]",
      "text/plain": [
       "<Figure size 360x360 with 1 Axes>"
      ]
     },
     "metadata": {
      "needs_background": "light"
     },
     "output_type": "display_data"
    }
   ],
   "source": [
    "sns.displot(combi['Room_Service_group'])"
   ]
  },
  {
   "cell_type": "code",
   "execution_count": 55,
   "id": "0a8d9bde",
   "metadata": {
    "execution": {
     "iopub.execute_input": "2022-02-27T21:14:55.223204Z",
     "iopub.status.busy": "2022-02-27T21:14:55.222171Z",
     "iopub.status.idle": "2022-02-27T21:14:55.230840Z",
     "shell.execute_reply": "2022-02-27T21:14:55.231384Z",
     "shell.execute_reply.started": "2022-02-27T20:59:21.679365Z"
    },
    "papermill": {
     "duration": 0.17875,
     "end_time": "2022-02-27T21:14:55.231570",
     "exception": false,
     "start_time": "2022-02-27T21:14:55.052820",
     "status": "completed"
    },
    "tags": []
   },
   "outputs": [
    {
     "data": {
      "text/plain": [
       "low     10624\n",
       "med       253\n",
       "high        6\n",
       "Name: Room_Service_group, dtype: int64"
      ]
     },
     "execution_count": 55,
     "metadata": {},
     "output_type": "execute_result"
    }
   ],
   "source": [
    "rm_service_count = combi['Room_Service_group'].value_counts()\n",
    "rm_service_count"
   ]
  },
  {
   "cell_type": "code",
   "execution_count": 56,
   "id": "02069610",
   "metadata": {
    "execution": {
     "iopub.execute_input": "2022-02-27T21:14:55.573992Z",
     "iopub.status.busy": "2022-02-27T21:14:55.573261Z",
     "iopub.status.idle": "2022-02-27T21:14:55.580196Z",
     "shell.execute_reply": "2022-02-27T21:14:55.580782Z",
     "shell.execute_reply.started": "2022-02-27T20:59:21.696665Z"
    },
    "papermill": {
     "duration": 0.177705,
     "end_time": "2022-02-27T21:14:55.580977",
     "exception": false,
     "start_time": "2022-02-27T21:14:55.403272",
     "status": "completed"
    },
    "tags": []
   },
   "outputs": [
    {
     "data": {
      "text/plain": [
       "low     0.976201\n",
       "med     0.023247\n",
       "high    0.000551\n",
       "Name: Room_Service_group, dtype: float64"
      ]
     },
     "execution_count": 56,
     "metadata": {},
     "output_type": "execute_result"
    }
   ],
   "source": [
    "rm_service_percent = rm_service_count / len(combi)\n",
    "rm_service_percent"
   ]
  },
  {
   "cell_type": "code",
   "execution_count": 57,
   "id": "e900c559",
   "metadata": {
    "execution": {
     "iopub.execute_input": "2022-02-27T21:14:55.915930Z",
     "iopub.status.busy": "2022-02-27T21:14:55.915222Z",
     "iopub.status.idle": "2022-02-27T21:14:56.025183Z",
     "shell.execute_reply": "2022-02-27T21:14:56.026238Z",
     "shell.execute_reply.started": "2022-02-27T20:59:21.715274Z"
    },
    "papermill": {
     "duration": 0.281327,
     "end_time": "2022-02-27T21:14:56.026541",
     "exception": false,
     "start_time": "2022-02-27T21:14:55.745214",
     "status": "completed"
    },
    "tags": []
   },
   "outputs": [
    {
     "data": {
      "image/png": "[encoded data removed]",
      "text/plain": [
       "<Figure size 432x288 with 1 Axes>"
      ]
     },
     "metadata": {},
     "output_type": "display_data"
    }
   ],
   "source": [
    "mylabels = [\"low\", \"med\", \"high\"]\n",
    "plt.pie(rm_service_percent, labels=mylabels)\n",
    "plt.show()"
   ]
  },
  {
   "cell_type": "code",
   "execution_count": 58,
   "id": "47f4130d",
   "metadata": {
    "execution": {
     "iopub.execute_input": "2022-02-27T21:14:56.411943Z",
     "iopub.status.busy": "2022-02-27T21:14:56.411226Z",
     "iopub.status.idle": "2022-02-27T21:14:56.424981Z",
     "shell.execute_reply": "2022-02-27T21:14:56.425582Z",
     "shell.execute_reply.started": "2022-02-27T20:59:21.833984Z"
    },
    "papermill": {
     "duration": 0.187273,
     "end_time": "2022-02-27T21:14:56.425795",
     "exception": false,
     "start_time": "2022-02-27T21:14:56.238522",
     "status": "completed"
    },
    "tags": []
   },
   "outputs": [
    {
     "data": {
      "text/plain": [
       "0       1\n",
       "1       1\n",
       "2       1\n",
       "3       1\n",
       "4       1\n",
       "       ..\n",
       "4272    1\n",
       "4273    1\n",
       "4274    1\n",
       "4275    1\n",
       "4276    1\n",
       "Name: Room_Service_group, Length: 10883, dtype: int64"
      ]
     },
     "execution_count": 58,
     "metadata": {},
     "output_type": "execute_result"
    }
   ],
   "source": [
    "combi['Room_Service_group'].replace({\"low\": 1, \"med\": 2, \"high\": 3},inplace=True)\n",
    "combi['Room_Service_group']"
   ]
  },
  {
   "cell_type": "markdown",
   "id": "f2b13cea",
   "metadata": {
    "papermill": {
     "duration": 0.168362,
     "end_time": "2022-02-27T21:14:56.764447",
     "exception": false,
     "start_time": "2022-02-27T21:14:56.596085",
     "status": "completed"
    },
    "tags": []
   },
   "source": [
    "Food Court"
   ]
  },
  {
   "cell_type": "code",
   "execution_count": 59,
   "id": "9e3caa4a",
   "metadata": {
    "execution": {
     "iopub.execute_input": "2022-02-27T21:14:57.100310Z",
     "iopub.status.busy": "2022-02-27T21:14:57.099654Z",
     "iopub.status.idle": "2022-02-27T21:14:57.386489Z",
     "shell.execute_reply": "2022-02-27T21:14:57.387170Z",
     "shell.execute_reply.started": "2022-02-27T20:59:21.860042Z"
    },
    "papermill": {
     "duration": 0.456221,
     "end_time": "2022-02-27T21:14:57.387374",
     "exception": false,
     "start_time": "2022-02-27T21:14:56.931153",
     "status": "completed"
    },
    "tags": []
   },
   "outputs": [
    {
     "name": "stderr",
     "output_type": "stream",
     "text": [
      "/opt/conda/lib/python3.7/site-packages/seaborn/_decorators.py:43: FutureWarning: Pass the following variable as a keyword arg: x. From version 0.12, the only valid positional argument will be `data`, and passing other arguments without an explicit keyword will result in an error or misinterpretation.\n",
      "  FutureWarning\n"
     ]
    },
    {
     "data": {
      "text/plain": [
       "<AxesSubplot:xlabel='FoodCourt'>"
      ]
     },
     "execution_count": 59,
     "metadata": {},
     "output_type": "execute_result"
    },
    {
     "data": {
      "image/png": "[encoded data removed]",
      "text/plain": [
       "<Figure size 432x288 with 1 Axes>"
      ]
     },
     "metadata": {
      "needs_background": "light"
     },
     "output_type": "display_data"
    }
   ],
   "source": [
    "sns.violinplot(combi['FoodCourt'])"
   ]
  },
  {
   "cell_type": "code",
   "execution_count": 60,
   "id": "fe1e2fda",
   "metadata": {
    "execution": {
     "iopub.execute_input": "2022-02-27T21:14:57.732530Z",
     "iopub.status.busy": "2022-02-27T21:14:57.731836Z",
     "iopub.status.idle": "2022-02-27T21:14:57.735524Z",
     "shell.execute_reply": "2022-02-27T21:14:57.736784Z",
     "shell.execute_reply.started": "2022-02-27T20:59:22.115642Z"
    },
    "papermill": {
     "duration": 0.180191,
     "end_time": "2022-02-27T21:14:57.737076",
     "exception": false,
     "start_time": "2022-02-27T21:14:57.556885",
     "status": "completed"
    },
    "tags": []
   },
   "outputs": [
    {
     "name": "stdout",
     "output_type": "stream",
     "text": [
      "29813.0\n"
     ]
    }
   ],
   "source": [
    "food_high = combi['FoodCourt'].max()\n",
    "print(food_high)"
   ]
  },
  {
   "cell_type": "code",
   "execution_count": 61,
   "id": "8656ca11",
   "metadata": {
    "execution": {
     "iopub.execute_input": "2022-02-27T21:14:58.080915Z",
     "iopub.status.busy": "2022-02-27T21:14:58.080015Z",
     "iopub.status.idle": "2022-02-27T21:14:58.091054Z",
     "shell.execute_reply": "2022-02-27T21:14:58.091655Z",
     "shell.execute_reply.started": "2022-02-27T20:59:22.125824Z"
    },
    "papermill": {
     "duration": 0.182266,
     "end_time": "2022-02-27T21:14:58.091838",
     "exception": false,
     "start_time": "2022-02-27T21:14:57.909572",
     "status": "completed"
    },
    "tags": []
   },
   "outputs": [
    {
     "data": {
      "text/plain": [
       "0       low\n",
       "1       low\n",
       "2       low\n",
       "3       low\n",
       "4       low\n",
       "       ... \n",
       "4272    low\n",
       "4273    low\n",
       "4274    low\n",
       "4275    low\n",
       "4276    low\n",
       "Name: Food_Court_group, Length: 10883, dtype: category\n",
       "Categories (3, object): ['low' < 'med' < 'high']"
      ]
     },
     "execution_count": 61,
     "metadata": {},
     "output_type": "execute_result"
    }
   ],
   "source": [
    "combi['Food_Court_group'] = pd.cut(x=combi['FoodCourt'], bins=[-1, 5000, 20000, 30000], labels=['low', 'med', 'high'])\n",
    "combi['Food_Court_group']"
   ]
  },
  {
   "cell_type": "code",
   "execution_count": 62,
   "id": "03ef9ebf",
   "metadata": {
    "execution": {
     "iopub.execute_input": "2022-02-27T21:14:58.433434Z",
     "iopub.status.busy": "2022-02-27T21:14:58.432730Z",
     "iopub.status.idle": "2022-02-27T21:14:58.749109Z",
     "shell.execute_reply": "2022-02-27T21:14:58.748499Z",
     "shell.execute_reply.started": "2022-02-27T20:59:22.147005Z"
    },
    "papermill": {
     "duration": 0.488123,
     "end_time": "2022-02-27T21:14:58.749261",
     "exception": false,
     "start_time": "2022-02-27T21:14:58.261138",
     "status": "completed"
    },
    "tags": []
   },
   "outputs": [
    {
     "data": {
      "text/plain": [
       "<seaborn.axisgrid.FacetGrid at 0x7fc64c482ad0>"
      ]
     },
     "execution_count": 62,
     "metadata": {},
     "output_type": "execute_result"
    },
    {
     "data": {
      "image/png": "[encoded data removed]",
      "text/plain": [
       "<Figure size 360x360 with 1 Axes>"
      ]
     },
     "metadata": {
      "needs_background": "light"
     },
     "output_type": "display_data"
    }
   ],
   "source": [
    "sns.displot(combi['Food_Court_group'])"
   ]
  },
  {
   "cell_type": "code",
   "execution_count": 63,
   "id": "ad8cc35e",
   "metadata": {
    "execution": {
     "iopub.execute_input": "2022-02-27T21:14:59.099557Z",
     "iopub.status.busy": "2022-02-27T21:14:59.098892Z",
     "iopub.status.idle": "2022-02-27T21:14:59.106937Z",
     "shell.execute_reply": "2022-02-27T21:14:59.107533Z",
     "shell.execute_reply.started": "2022-02-27T20:59:22.439503Z"
    },
    "papermill": {
     "duration": 0.18409,
     "end_time": "2022-02-27T21:14:59.107735",
     "exception": false,
     "start_time": "2022-02-27T21:14:58.923645",
     "status": "completed"
    },
    "tags": []
   },
   "outputs": [
    {
     "data": {
      "text/plain": [
       "low     10640\n",
       "med       235\n",
       "high        8\n",
       "Name: Food_Court_group, dtype: int64"
      ]
     },
     "execution_count": 63,
     "metadata": {},
     "output_type": "execute_result"
    }
   ],
   "source": [
    "fd_court_count = combi['Food_Court_group'].value_counts()\n",
    "fd_court_count"
   ]
  },
  {
   "cell_type": "code",
   "execution_count": 64,
   "id": "9d7a918e",
   "metadata": {
    "execution": {
     "iopub.execute_input": "2022-02-27T21:14:59.459013Z",
     "iopub.status.busy": "2022-02-27T21:14:59.458332Z",
     "iopub.status.idle": "2022-02-27T21:14:59.466024Z",
     "shell.execute_reply": "2022-02-27T21:14:59.466661Z",
     "shell.execute_reply.started": "2022-02-27T20:59:22.451034Z"
    },
    "papermill": {
     "duration": 0.186001,
     "end_time": "2022-02-27T21:14:59.466846",
     "exception": false,
     "start_time": "2022-02-27T21:14:59.280845",
     "status": "completed"
    },
    "tags": []
   },
   "outputs": [
    {
     "data": {
      "text/plain": [
       "low     0.977672\n",
       "med     0.021593\n",
       "high    0.000735\n",
       "Name: Food_Court_group, dtype: float64"
      ]
     },
     "execution_count": 64,
     "metadata": {},
     "output_type": "execute_result"
    }
   ],
   "source": [
    "fd_court_percent = fd_court_count / len(combi)\n",
    "fd_court_percent"
   ]
  },
  {
   "cell_type": "code",
   "execution_count": 65,
   "id": "3279e8fb",
   "metadata": {
    "execution": {
     "iopub.execute_input": "2022-02-27T21:14:59.815487Z",
     "iopub.status.busy": "2022-02-27T21:14:59.814823Z",
     "iopub.status.idle": "2022-02-27T21:14:59.925256Z",
     "shell.execute_reply": "2022-02-27T21:14:59.926421Z",
     "shell.execute_reply.started": "2022-02-27T20:59:22.465577Z"
    },
    "papermill": {
     "duration": 0.284047,
     "end_time": "2022-02-27T21:14:59.926751",
     "exception": false,
     "start_time": "2022-02-27T21:14:59.642704",
     "status": "completed"
    },
    "tags": []
   },
   "outputs": [
    {
     "data": {
      "image/png": "[encoded data removed]",
      "text/plain": [
       "<Figure size 432x288 with 1 Axes>"
      ]
     },
     "metadata": {},
     "output_type": "display_data"
    }
   ],
   "source": [
    "mylabels = [\"low\", \"med\", \"high\"]\n",
    "plt.pie(fd_court_percent, labels=mylabels)\n",
    "plt.show()"
   ]
  },
  {
   "cell_type": "code",
   "execution_count": 66,
   "id": "212be625",
   "metadata": {
    "execution": {
     "iopub.execute_input": "2022-02-27T21:15:00.330404Z",
     "iopub.status.busy": "2022-02-27T21:15:00.329604Z",
     "iopub.status.idle": "2022-02-27T21:15:00.358880Z",
     "shell.execute_reply": "2022-02-27T21:15:00.357878Z",
     "shell.execute_reply.started": "2022-02-27T20:59:22.572825Z"
    },
    "papermill": {
     "duration": 0.218338,
     "end_time": "2022-02-27T21:15:00.359102",
     "exception": false,
     "start_time": "2022-02-27T21:15:00.140764",
     "status": "completed"
    },
    "tags": []
   },
   "outputs": [
    {
     "data": {
      "text/plain": [
       "0       1\n",
       "1       1\n",
       "2       1\n",
       "3       1\n",
       "4       1\n",
       "       ..\n",
       "4272    1\n",
       "4273    1\n",
       "4274    1\n",
       "4275    1\n",
       "4276    1\n",
       "Name: Food_Court_group, Length: 10883, dtype: int64"
      ]
     },
     "execution_count": 66,
     "metadata": {},
     "output_type": "execute_result"
    }
   ],
   "source": [
    "combi['Food_Court_group'].replace({\"low\": 1, \"med\": 2, \"high\": 3},inplace=True)\n",
    "combi['Food_Court_group']"
   ]
  },
  {
   "cell_type": "markdown",
   "id": "b0ecd41a",
   "metadata": {
    "papermill": {
     "duration": 0.177411,
     "end_time": "2022-02-27T21:15:00.724975",
     "exception": false,
     "start_time": "2022-02-27T21:15:00.547564",
     "status": "completed"
    },
    "tags": []
   },
   "source": [
    "Shopping Mall"
   ]
  },
  {
   "cell_type": "code",
   "execution_count": 67,
   "id": "da267f54",
   "metadata": {
    "execution": {
     "iopub.execute_input": "2022-02-27T21:15:01.082074Z",
     "iopub.status.busy": "2022-02-27T21:15:01.081368Z",
     "iopub.status.idle": "2022-02-27T21:15:01.365192Z",
     "shell.execute_reply": "2022-02-27T21:15:01.364584Z",
     "shell.execute_reply.started": "2022-02-27T20:59:22.591017Z"
    },
    "papermill": {
     "duration": 0.461544,
     "end_time": "2022-02-27T21:15:01.365343",
     "exception": false,
     "start_time": "2022-02-27T21:15:00.903799",
     "status": "completed"
    },
    "tags": []
   },
   "outputs": [
    {
     "name": "stderr",
     "output_type": "stream",
     "text": [
      "/opt/conda/lib/python3.7/site-packages/seaborn/_decorators.py:43: FutureWarning: Pass the following variable as a keyword arg: x. From version 0.12, the only valid positional argument will be `data`, and passing other arguments without an explicit keyword will result in an error or misinterpretation.\n",
      "  FutureWarning\n"
     ]
    },
    {
     "data": {
      "text/plain": [
       "<AxesSubplot:xlabel='ShoppingMall'>"
      ]
     },
     "execution_count": 67,
     "metadata": {},
     "output_type": "execute_result"
    },
    {
     "data": {
      "image/png": "[encoded data removed]",
      "text/plain": [
       "<Figure size 432x288 with 1 Axes>"
      ]
     },
     "metadata": {
      "needs_background": "light"
     },
     "output_type": "display_data"
    }
   ],
   "source": [
    "sns.violinplot(combi['ShoppingMall'])"
   ]
  },
  {
   "cell_type": "code",
   "execution_count": 68,
   "id": "49e439fe",
   "metadata": {
    "execution": {
     "iopub.execute_input": "2022-02-27T21:15:01.727404Z",
     "iopub.status.busy": "2022-02-27T21:15:01.726739Z",
     "iopub.status.idle": "2022-02-27T21:15:01.730692Z",
     "shell.execute_reply": "2022-02-27T21:15:01.730019Z",
     "shell.execute_reply.started": "2022-02-27T20:59:22.853182Z"
    },
    "papermill": {
     "duration": 0.185042,
     "end_time": "2022-02-27T21:15:01.730846",
     "exception": false,
     "start_time": "2022-02-27T21:15:01.545804",
     "status": "completed"
    },
    "tags": []
   },
   "outputs": [
    {
     "name": "stdout",
     "output_type": "stream",
     "text": [
      "12253.0\n"
     ]
    }
   ],
   "source": [
    "shop_high = combi['ShoppingMall'].max()\n",
    "print(shop_high)"
   ]
  },
  {
   "cell_type": "code",
   "execution_count": 69,
   "id": "82439c17",
   "metadata": {
    "execution": {
     "iopub.execute_input": "2022-02-27T21:15:02.100070Z",
     "iopub.status.busy": "2022-02-27T21:15:02.099015Z",
     "iopub.status.idle": "2022-02-27T21:15:02.104724Z",
     "shell.execute_reply": "2022-02-27T21:15:02.104030Z",
     "shell.execute_reply.started": "2022-02-27T20:59:22.862276Z"
    },
    "papermill": {
     "duration": 0.195885,
     "end_time": "2022-02-27T21:15:02.104893",
     "exception": false,
     "start_time": "2022-02-27T21:15:01.909008",
     "status": "completed"
    },
    "tags": []
   },
   "outputs": [
    {
     "data": {
      "text/plain": [
       "0       low\n",
       "1       low\n",
       "2       low\n",
       "3       low\n",
       "4       low\n",
       "       ... \n",
       "4272    low\n",
       "4273    low\n",
       "4274    low\n",
       "4275    low\n",
       "4276    low\n",
       "Name: Shopping_group, Length: 10883, dtype: category\n",
       "Categories (3, object): ['low' < 'med' < 'high']"
      ]
     },
     "execution_count": 69,
     "metadata": {},
     "output_type": "execute_result"
    }
   ],
   "source": [
    "combi['Shopping_group'] = pd.cut(x=combi['ShoppingMall'], bins=[-1, 2000, 8000, 13000], labels=['low', 'med', 'high'])\n",
    "combi['Shopping_group']"
   ]
  },
  {
   "cell_type": "code",
   "execution_count": 70,
   "id": "ef813743",
   "metadata": {
    "execution": {
     "iopub.execute_input": "2022-02-27T21:15:02.470283Z",
     "iopub.status.busy": "2022-02-27T21:15:02.469487Z",
     "iopub.status.idle": "2022-02-27T21:15:02.787828Z",
     "shell.execute_reply": "2022-02-27T21:15:02.787128Z",
     "shell.execute_reply.started": "2022-02-27T20:59:22.882517Z"
    },
    "papermill": {
     "duration": 0.506228,
     "end_time": "2022-02-27T21:15:02.788003",
     "exception": false,
     "start_time": "2022-02-27T21:15:02.281775",
     "status": "completed"
    },
    "tags": []
   },
   "outputs": [
    {
     "data": {
      "text/plain": [
       "<seaborn.axisgrid.FacetGrid at 0x7fc64c2e0c10>"
      ]
     },
     "execution_count": 70,
     "metadata": {},
     "output_type": "execute_result"
    },
    {
     "data": {
      "image/png": "[encoded data removed]",
      "text/plain": [
       "<Figure size 360x360 with 1 Axes>"
      ]
     },
     "metadata": {
      "needs_background": "light"
     },
     "output_type": "display_data"
    }
   ],
   "source": [
    "sns.displot(combi['Shopping_group'])"
   ]
  },
  {
   "cell_type": "code",
   "execution_count": 71,
   "id": "3f0ba627",
   "metadata": {
    "execution": {
     "iopub.execute_input": "2022-02-27T21:15:03.158240Z",
     "iopub.status.busy": "2022-02-27T21:15:03.156959Z",
     "iopub.status.idle": "2022-02-27T21:15:03.164154Z",
     "shell.execute_reply": "2022-02-27T21:15:03.163388Z",
     "shell.execute_reply.started": "2022-02-27T20:59:23.157999Z"
    },
    "papermill": {
     "duration": 0.196447,
     "end_time": "2022-02-27T21:15:03.164329",
     "exception": false,
     "start_time": "2022-02-27T21:15:02.967882",
     "status": "completed"
    },
    "tags": []
   },
   "outputs": [
    {
     "data": {
      "text/plain": [
       "low     10709\n",
       "med       166\n",
       "high        8\n",
       "Name: Shopping_group, dtype: int64"
      ]
     },
     "execution_count": 71,
     "metadata": {},
     "output_type": "execute_result"
    }
   ],
   "source": [
    "shopping_count = combi['Shopping_group'].value_counts()\n",
    "shopping_count"
   ]
  },
  {
   "cell_type": "code",
   "execution_count": 72,
   "id": "866a39b9",
   "metadata": {
    "execution": {
     "iopub.execute_input": "2022-02-27T21:15:03.538945Z",
     "iopub.status.busy": "2022-02-27T21:15:03.538149Z",
     "iopub.status.idle": "2022-02-27T21:15:03.544754Z",
     "shell.execute_reply": "2022-02-27T21:15:03.545311Z",
     "shell.execute_reply.started": "2022-02-27T20:59:23.170345Z"
    },
    "papermill": {
     "duration": 0.194425,
     "end_time": "2022-02-27T21:15:03.545498",
     "exception": false,
     "start_time": "2022-02-27T21:15:03.351073",
     "status": "completed"
    },
    "tags": []
   },
   "outputs": [
    {
     "data": {
      "text/plain": [
       "low     0.984012\n",
       "med     0.015253\n",
       "high    0.000735\n",
       "Name: Shopping_group, dtype: float64"
      ]
     },
     "execution_count": 72,
     "metadata": {},
     "output_type": "execute_result"
    }
   ],
   "source": [
    "shopping_percent = shopping_count / len(combi)\n",
    "shopping_percent"
   ]
  },
  {
   "cell_type": "code",
   "execution_count": 73,
   "id": "8c52ddb5",
   "metadata": {
    "execution": {
     "iopub.execute_input": "2022-02-27T21:15:03.907309Z",
     "iopub.status.busy": "2022-02-27T21:15:03.906575Z",
     "iopub.status.idle": "2022-02-27T21:15:04.015105Z",
     "shell.execute_reply": "2022-02-27T21:15:04.016074Z",
     "shell.execute_reply.started": "2022-02-27T20:59:23.184309Z"
    },
    "papermill": {
     "duration": 0.288353,
     "end_time": "2022-02-27T21:15:04.016409",
     "exception": false,
     "start_time": "2022-02-27T21:15:03.728056",
     "status": "completed"
    },
    "tags": []
   },
   "outputs": [
    {
     "data": {
      "image/png": "[encoded data removed]",
      "text/plain": [
       "<Figure size 432x288 with 1 Axes>"
      ]
     },
     "metadata": {},
     "output_type": "display_data"
    }
   ],
   "source": [
    "mylabels = [\"low\", \"med\", \"high\"]\n",
    "plt.pie(shopping_percent, labels=mylabels)\n",
    "plt.show()"
   ]
  },
  {
   "cell_type": "code",
   "execution_count": 74,
   "id": "9abd0964",
   "metadata": {
    "execution": {
     "iopub.execute_input": "2022-02-27T21:15:04.443727Z",
     "iopub.status.busy": "2022-02-27T21:15:04.442964Z",
     "iopub.status.idle": "2022-02-27T21:15:04.446661Z",
     "shell.execute_reply": "2022-02-27T21:15:04.447203Z",
     "shell.execute_reply.started": "2022-02-27T20:59:23.281023Z"
    },
    "papermill": {
     "duration": 0.208571,
     "end_time": "2022-02-27T21:15:04.447388",
     "exception": false,
     "start_time": "2022-02-27T21:15:04.238817",
     "status": "completed"
    },
    "tags": []
   },
   "outputs": [
    {
     "data": {
      "text/plain": [
       "0       1\n",
       "1       1\n",
       "2       1\n",
       "3       1\n",
       "4       1\n",
       "       ..\n",
       "4272    1\n",
       "4273    1\n",
       "4274    1\n",
       "4275    1\n",
       "4276    1\n",
       "Name: Shopping_group, Length: 10883, dtype: int64"
      ]
     },
     "execution_count": 74,
     "metadata": {},
     "output_type": "execute_result"
    }
   ],
   "source": [
    "combi['Shopping_group'].replace({\"low\": 1, \"med\": 2, \"high\": 3},inplace=True)\n",
    "combi['Shopping_group']"
   ]
  },
  {
   "cell_type": "markdown",
   "id": "899cb6d8",
   "metadata": {
    "papermill": {
     "duration": 0.178761,
     "end_time": "2022-02-27T21:15:04.808803",
     "exception": false,
     "start_time": "2022-02-27T21:15:04.630042",
     "status": "completed"
    },
    "tags": []
   },
   "source": [
    "Spa"
   ]
  },
  {
   "cell_type": "code",
   "execution_count": 75,
   "id": "4e0f73e7",
   "metadata": {
    "execution": {
     "iopub.execute_input": "2022-02-27T21:15:05.237238Z",
     "iopub.status.busy": "2022-02-27T21:15:05.234771Z",
     "iopub.status.idle": "2022-02-27T21:15:05.461828Z",
     "shell.execute_reply": "2022-02-27T21:15:05.462989Z",
     "shell.execute_reply.started": "2022-02-27T20:59:23.308058Z"
    },
    "papermill": {
     "duration": 0.410727,
     "end_time": "2022-02-27T21:15:05.463292",
     "exception": false,
     "start_time": "2022-02-27T21:15:05.052565",
     "status": "completed"
    },
    "tags": []
   },
   "outputs": [
    {
     "name": "stderr",
     "output_type": "stream",
     "text": [
      "/opt/conda/lib/python3.7/site-packages/seaborn/_decorators.py:43: FutureWarning: Pass the following variable as a keyword arg: x. From version 0.12, the only valid positional argument will be `data`, and passing other arguments without an explicit keyword will result in an error or misinterpretation.\n",
      "  FutureWarning\n"
     ]
    },
    {
     "data": {
      "text/plain": [
       "<AxesSubplot:xlabel='Spa'>"
      ]
     },
     "execution_count": 75,
     "metadata": {},
     "output_type": "execute_result"
    },
    {
     "data": {
      "image/png": "[encoded data removed]",
      "text/plain": [
       "<Figure size 432x288 with 1 Axes>"
      ]
     },
     "metadata": {
      "needs_background": "light"
     },
     "output_type": "display_data"
    }
   ],
   "source": [
    "sns.violinplot(combi['Spa'])"
   ]
  },
  {
   "cell_type": "code",
   "execution_count": 76,
   "id": "6a984182",
   "metadata": {
    "execution": {
     "iopub.execute_input": "2022-02-27T21:15:05.829278Z",
     "iopub.status.busy": "2022-02-27T21:15:05.828427Z",
     "iopub.status.idle": "2022-02-27T21:15:05.834588Z",
     "shell.execute_reply": "2022-02-27T21:15:05.834011Z",
     "shell.execute_reply.started": "2022-02-27T20:59:23.560355Z"
    },
    "papermill": {
     "duration": 0.189803,
     "end_time": "2022-02-27T21:15:05.834787",
     "exception": false,
     "start_time": "2022-02-27T21:15:05.644984",
     "status": "completed"
    },
    "tags": []
   },
   "outputs": [
    {
     "name": "stdout",
     "output_type": "stream",
     "text": [
      "22408.0\n"
     ]
    }
   ],
   "source": [
    "spa_high = combi['Spa'].max()\n",
    "print(spa_high)"
   ]
  },
  {
   "cell_type": "code",
   "execution_count": 77,
   "id": "1690580f",
   "metadata": {
    "execution": {
     "iopub.execute_input": "2022-02-27T21:15:06.216684Z",
     "iopub.status.busy": "2022-02-27T21:15:06.215532Z",
     "iopub.status.idle": "2022-02-27T21:15:06.226004Z",
     "shell.execute_reply": "2022-02-27T21:15:06.226548Z",
     "shell.execute_reply.started": "2022-02-27T20:59:23.568761Z"
    },
    "papermill": {
     "duration": 0.20816,
     "end_time": "2022-02-27T21:15:06.226766",
     "exception": false,
     "start_time": "2022-02-27T21:15:06.018606",
     "status": "completed"
    },
    "tags": []
   },
   "outputs": [
    {
     "data": {
      "text/plain": [
       "0       low\n",
       "1       low\n",
       "2       med\n",
       "3       low\n",
       "4       low\n",
       "       ... \n",
       "4272    low\n",
       "4273    low\n",
       "4274    low\n",
       "4275    low\n",
       "4276    low\n",
       "Name: Spa_group, Length: 10883, dtype: category\n",
       "Categories (3, object): ['low' < 'med' < 'high']"
      ]
     },
     "execution_count": 77,
     "metadata": {},
     "output_type": "execute_result"
    }
   ],
   "source": [
    "combi['Spa_group'] = pd.cut(x=combi['Spa'], bins=[-1, 5000, 15000, 23000], labels=['low', 'med', 'high'])\n",
    "combi['Spa_group']"
   ]
  },
  {
   "cell_type": "code",
   "execution_count": 78,
   "id": "b2ed734f",
   "metadata": {
    "execution": {
     "iopub.execute_input": "2022-02-27T21:15:06.609571Z",
     "iopub.status.busy": "2022-02-27T21:15:06.608825Z",
     "iopub.status.idle": "2022-02-27T21:15:06.917200Z",
     "shell.execute_reply": "2022-02-27T21:15:06.917741Z",
     "shell.execute_reply.started": "2022-02-27T20:59:23.591911Z"
    },
    "papermill": {
     "duration": 0.502843,
     "end_time": "2022-02-27T21:15:06.917942",
     "exception": false,
     "start_time": "2022-02-27T21:15:06.415099",
     "status": "completed"
    },
    "tags": []
   },
   "outputs": [
    {
     "data": {
      "text/plain": [
       "<seaborn.axisgrid.FacetGrid at 0x7fc64c0f7190>"
      ]
     },
     "execution_count": 78,
     "metadata": {},
     "output_type": "execute_result"
    },
    {
     "data": {
      "image/png": "[encoded data removed]",
      "text/plain": [
       "<Figure size 360x360 with 1 Axes>"
      ]
     },
     "metadata": {
      "needs_background": "light"
     },
     "output_type": "display_data"
    }
   ],
   "source": [
    "sns.displot(combi['Spa_group'])"
   ]
  },
  {
   "cell_type": "code",
   "execution_count": 79,
   "id": "0a53df8a",
   "metadata": {
    "execution": {
     "iopub.execute_input": "2022-02-27T21:15:07.295009Z",
     "iopub.status.busy": "2022-02-27T21:15:07.294288Z",
     "iopub.status.idle": "2022-02-27T21:15:07.301992Z",
     "shell.execute_reply": "2022-02-27T21:15:07.302557Z",
     "shell.execute_reply.started": "2022-02-27T20:59:23.873510Z"
    },
    "papermill": {
     "duration": 0.198922,
     "end_time": "2022-02-27T21:15:07.302762",
     "exception": false,
     "start_time": "2022-02-27T21:15:07.103840",
     "status": "completed"
    },
    "tags": []
   },
   "outputs": [
    {
     "data": {
      "text/plain": [
       "low     10762\n",
       "med       112\n",
       "high        9\n",
       "Name: Spa_group, dtype: int64"
      ]
     },
     "execution_count": 79,
     "metadata": {},
     "output_type": "execute_result"
    }
   ],
   "source": [
    "spa_count = combi['Spa_group'].value_counts()\n",
    "spa_count"
   ]
  },
  {
   "cell_type": "code",
   "execution_count": 80,
   "id": "92eb9147",
   "metadata": {
    "execution": {
     "iopub.execute_input": "2022-02-27T21:15:07.680127Z",
     "iopub.status.busy": "2022-02-27T21:15:07.679393Z",
     "iopub.status.idle": "2022-02-27T21:15:07.686954Z",
     "shell.execute_reply": "2022-02-27T21:15:07.686332Z",
     "shell.execute_reply.started": "2022-02-27T20:59:23.885073Z"
    },
    "papermill": {
     "duration": 0.196693,
     "end_time": "2022-02-27T21:15:07.687109",
     "exception": false,
     "start_time": "2022-02-27T21:15:07.490416",
     "status": "completed"
    },
    "tags": []
   },
   "outputs": [
    {
     "data": {
      "text/plain": [
       "low     0.988882\n",
       "med     0.010291\n",
       "high    0.000827\n",
       "Name: Spa_group, dtype: float64"
      ]
     },
     "execution_count": 80,
     "metadata": {},
     "output_type": "execute_result"
    }
   ],
   "source": [
    "spa_percent = spa_count / len(combi)\n",
    "spa_percent"
   ]
  },
  {
   "cell_type": "code",
   "execution_count": 81,
   "id": "7001e72b",
   "metadata": {
    "execution": {
     "iopub.execute_input": "2022-02-27T21:15:08.070727Z",
     "iopub.status.busy": "2022-02-27T21:15:08.069630Z",
     "iopub.status.idle": "2022-02-27T21:15:08.174938Z",
     "shell.execute_reply": "2022-02-27T21:15:08.176376Z",
     "shell.execute_reply.started": "2022-02-27T20:59:23.903292Z"
    },
    "papermill": {
     "duration": 0.300149,
     "end_time": "2022-02-27T21:15:08.176733",
     "exception": false,
     "start_time": "2022-02-27T21:15:07.876584",
     "status": "completed"
    },
    "tags": []
   },
   "outputs": [
    {
     "data": {
      "image/png": "[encoded data removed]",
      "text/plain": [
       "<Figure size 432x288 with 1 Axes>"
      ]
     },
     "metadata": {},
     "output_type": "display_data"
    }
   ],
   "source": [
    "mylabels = [\"low\", \"med\", \"high\"]\n",
    "plt.pie(spa_percent, labels=mylabels)\n",
    "plt.show()"
   ]
  },
  {
   "cell_type": "code",
   "execution_count": 82,
   "id": "b0115495",
   "metadata": {
    "execution": {
     "iopub.execute_input": "2022-02-27T21:15:08.602927Z",
     "iopub.status.busy": "2022-02-27T21:15:08.602189Z",
     "iopub.status.idle": "2022-02-27T21:15:08.615410Z",
     "shell.execute_reply": "2022-02-27T21:15:08.616054Z",
     "shell.execute_reply.started": "2022-02-27T20:59:24.011143Z"
    },
    "papermill": {
     "duration": 0.20653,
     "end_time": "2022-02-27T21:15:08.616244",
     "exception": false,
     "start_time": "2022-02-27T21:15:08.409714",
     "status": "completed"
    },
    "tags": []
   },
   "outputs": [
    {
     "data": {
      "text/plain": [
       "0       1\n",
       "1       1\n",
       "2       2\n",
       "3       1\n",
       "4       1\n",
       "       ..\n",
       "4272    1\n",
       "4273    1\n",
       "4274    1\n",
       "4275    1\n",
       "4276    1\n",
       "Name: Spa_group, Length: 10883, dtype: int64"
      ]
     },
     "execution_count": 82,
     "metadata": {},
     "output_type": "execute_result"
    }
   ],
   "source": [
    "combi['Spa_group'].replace({\"low\": 1, \"med\": 2, \"high\": 3},inplace=True)\n",
    "combi['Spa_group']"
   ]
  },
  {
   "cell_type": "markdown",
   "id": "5434b892",
   "metadata": {
    "papermill": {
     "duration": 0.189563,
     "end_time": "2022-02-27T21:15:08.995133",
     "exception": false,
     "start_time": "2022-02-27T21:15:08.805570",
     "status": "completed"
    },
    "tags": []
   },
   "source": [
    "VR Deck"
   ]
  },
  {
   "cell_type": "code",
   "execution_count": 83,
   "id": "cb1344c1",
   "metadata": {
    "execution": {
     "iopub.execute_input": "2022-02-27T21:15:09.452036Z",
     "iopub.status.busy": "2022-02-27T21:15:09.450985Z",
     "iopub.status.idle": "2022-02-27T21:15:09.757198Z",
     "shell.execute_reply": "2022-02-27T21:15:09.757899Z",
     "shell.execute_reply.started": "2022-02-27T20:59:24.042183Z"
    },
    "papermill": {
     "duration": 0.530987,
     "end_time": "2022-02-27T21:15:09.758106",
     "exception": false,
     "start_time": "2022-02-27T21:15:09.227119",
     "status": "completed"
    },
    "tags": []
   },
   "outputs": [
    {
     "name": "stderr",
     "output_type": "stream",
     "text": [
      "/opt/conda/lib/python3.7/site-packages/seaborn/_decorators.py:43: FutureWarning: Pass the following variable as a keyword arg: x. From version 0.12, the only valid positional argument will be `data`, and passing other arguments without an explicit keyword will result in an error or misinterpretation.\n",
      "  FutureWarning\n"
     ]
    },
    {
     "data": {
      "text/plain": [
       "<AxesSubplot:xlabel='VRDeck'>"
      ]
     },
     "execution_count": 83,
     "metadata": {},
     "output_type": "execute_result"
    },
    {
     "data": {
      "image/png": "[encoded data removed]",
      "text/plain": [
       "<Figure size 432x288 with 1 Axes>"
      ]
     },
     "metadata": {
      "needs_background": "light"
     },
     "output_type": "display_data"
    }
   ],
   "source": [
    "sns.violinplot(combi['VRDeck'])"
   ]
  },
  {
   "cell_type": "code",
   "execution_count": 84,
   "id": "3f57bcf3",
   "metadata": {
    "execution": {
     "iopub.execute_input": "2022-02-27T21:15:10.173550Z",
     "iopub.status.busy": "2022-02-27T21:15:10.172851Z",
     "iopub.status.idle": "2022-02-27T21:15:10.175490Z",
     "shell.execute_reply": "2022-02-27T21:15:10.176132Z",
     "shell.execute_reply.started": "2022-02-27T20:59:24.264915Z"
    },
    "papermill": {
     "duration": 0.208288,
     "end_time": "2022-02-27T21:15:10.176324",
     "exception": false,
     "start_time": "2022-02-27T21:15:09.968036",
     "status": "completed"
    },
    "tags": []
   },
   "outputs": [
    {
     "name": "stdout",
     "output_type": "stream",
     "text": [
      "22272.0\n"
     ]
    }
   ],
   "source": [
    "vr_high = combi['VRDeck'].max()\n",
    "print(vr_high)"
   ]
  },
  {
   "cell_type": "code",
   "execution_count": 85,
   "id": "7c87c7df",
   "metadata": {
    "execution": {
     "iopub.execute_input": "2022-02-27T21:15:10.574248Z",
     "iopub.status.busy": "2022-02-27T21:15:10.573429Z",
     "iopub.status.idle": "2022-02-27T21:15:10.583388Z",
     "shell.execute_reply": "2022-02-27T21:15:10.584191Z",
     "shell.execute_reply.started": "2022-02-27T20:59:24.273538Z"
    },
    "papermill": {
     "duration": 0.207831,
     "end_time": "2022-02-27T21:15:10.584654",
     "exception": false,
     "start_time": "2022-02-27T21:15:10.376823",
     "status": "completed"
    },
    "tags": []
   },
   "outputs": [
    {
     "data": {
      "text/plain": [
       "0       low\n",
       "1       low\n",
       "2       low\n",
       "3       low\n",
       "4       low\n",
       "       ... \n",
       "4272    low\n",
       "4273    low\n",
       "4274    low\n",
       "4275    low\n",
       "4276    low\n",
       "Name: VR_group, Length: 10883, dtype: category\n",
       "Categories (3, object): ['low' < 'med' < 'high']"
      ]
     },
     "execution_count": 85,
     "metadata": {},
     "output_type": "execute_result"
    }
   ],
   "source": [
    "combi['VR_group'] = pd.cut(x=combi['VRDeck'], bins=[-1, 5000, 15000, 23000], labels=['low', 'med', 'high'])\n",
    "combi['VR_group']"
   ]
  },
  {
   "cell_type": "code",
   "execution_count": 86,
   "id": "ad484cde",
   "metadata": {
    "execution": {
     "iopub.execute_input": "2022-02-27T21:15:11.002572Z",
     "iopub.status.busy": "2022-02-27T21:15:11.001540Z",
     "iopub.status.idle": "2022-02-27T21:15:11.345307Z",
     "shell.execute_reply": "2022-02-27T21:15:11.344043Z",
     "shell.execute_reply.started": "2022-02-27T20:59:24.297052Z"
    },
    "papermill": {
     "duration": 0.556413,
     "end_time": "2022-02-27T21:15:11.345560",
     "exception": false,
     "start_time": "2022-02-27T21:15:10.789147",
     "status": "completed"
    },
    "tags": []
   },
   "outputs": [
    {
     "data": {
      "text/plain": [
       "<seaborn.axisgrid.FacetGrid at 0x7fc64bfa9d50>"
      ]
     },
     "execution_count": 86,
     "metadata": {},
     "output_type": "execute_result"
    },
    {
     "data": {
      "image/png": "[encoded data removed]",
      "text/plain": [
       "<Figure size 360x360 with 1 Axes>"
      ]
     },
     "metadata": {
      "needs_background": "light"
     },
     "output_type": "display_data"
    }
   ],
   "source": [
    "sns.displot(combi['VR_group'])"
   ]
  },
  {
   "cell_type": "code",
   "execution_count": 87,
   "id": "7937074a",
   "metadata": {
    "execution": {
     "iopub.execute_input": "2022-02-27T21:15:11.772152Z",
     "iopub.status.busy": "2022-02-27T21:15:11.771298Z",
     "iopub.status.idle": "2022-02-27T21:15:11.781756Z",
     "shell.execute_reply": "2022-02-27T21:15:11.782425Z",
     "shell.execute_reply.started": "2022-02-27T20:59:24.517318Z"
    },
    "papermill": {
     "duration": 0.216573,
     "end_time": "2022-02-27T21:15:11.782642",
     "exception": false,
     "start_time": "2022-02-27T21:15:11.566069",
     "status": "completed"
    },
    "tags": []
   },
   "outputs": [
    {
     "data": {
      "text/plain": [
       "low     10746\n",
       "med       127\n",
       "high       10\n",
       "Name: VR_group, dtype: int64"
      ]
     },
     "execution_count": 87,
     "metadata": {},
     "output_type": "execute_result"
    }
   ],
   "source": [
    "vr_count = combi['VR_group'].value_counts()\n",
    "vr_count"
   ]
  },
  {
   "cell_type": "code",
   "execution_count": 88,
   "id": "d17d5a08",
   "metadata": {
    "execution": {
     "iopub.execute_input": "2022-02-27T21:15:12.198803Z",
     "iopub.status.busy": "2022-02-27T21:15:12.197947Z",
     "iopub.status.idle": "2022-02-27T21:15:12.200891Z",
     "shell.execute_reply": "2022-02-27T21:15:12.201479Z",
     "shell.execute_reply.started": "2022-02-27T20:59:24.527833Z"
    },
    "papermill": {
     "duration": 0.211677,
     "end_time": "2022-02-27T21:15:12.201679",
     "exception": false,
     "start_time": "2022-02-27T21:15:11.990002",
     "status": "completed"
    },
    "tags": []
   },
   "outputs": [
    {
     "data": {
      "text/plain": [
       "low     0.987412\n",
       "med     0.011670\n",
       "high    0.000919\n",
       "Name: VR_group, dtype: float64"
      ]
     },
     "execution_count": 88,
     "metadata": {},
     "output_type": "execute_result"
    }
   ],
   "source": [
    "vr_percent = vr_count / len(combi)\n",
    "vr_percent"
   ]
  },
  {
   "cell_type": "code",
   "execution_count": 89,
   "id": "541ba522",
   "metadata": {
    "execution": {
     "iopub.execute_input": "2022-02-27T21:15:12.605969Z",
     "iopub.status.busy": "2022-02-27T21:15:12.603892Z",
     "iopub.status.idle": "2022-02-27T21:15:12.723312Z",
     "shell.execute_reply": "2022-02-27T21:15:12.724354Z",
     "shell.execute_reply.started": "2022-02-27T20:59:24.544957Z"
    },
    "papermill": {
     "duration": 0.322676,
     "end_time": "2022-02-27T21:15:12.724717",
     "exception": false,
     "start_time": "2022-02-27T21:15:12.402041",
     "status": "completed"
    },
    "tags": []
   },
   "outputs": [
    {
     "data": {
      "image/png": "[encoded data removed]",
      "text/plain": [
       "<Figure size 432x288 with 1 Axes>"
      ]
     },
     "metadata": {},
     "output_type": "display_data"
    }
   ],
   "source": [
    "mylabels = [\"low\", \"med\", \"high\"]\n",
    "plt.pie(vr_percent, labels=mylabels)\n",
    "plt.show()"
   ]
  },
  {
   "cell_type": "code",
   "execution_count": 90,
   "id": "8a69afac",
   "metadata": {
    "execution": {
     "iopub.execute_input": "2022-02-27T21:15:13.183415Z",
     "iopub.status.busy": "2022-02-27T21:15:13.182392Z",
     "iopub.status.idle": "2022-02-27T21:15:13.196000Z",
     "shell.execute_reply": "2022-02-27T21:15:13.195367Z",
     "shell.execute_reply.started": "2022-02-27T20:59:24.934110Z"
    },
    "papermill": {
     "duration": 0.228174,
     "end_time": "2022-02-27T21:15:13.196200",
     "exception": false,
     "start_time": "2022-02-27T21:15:12.968026",
     "status": "completed"
    },
    "tags": []
   },
   "outputs": [
    {
     "data": {
      "text/plain": [
       "0       1\n",
       "1       1\n",
       "2       1\n",
       "3       1\n",
       "4       1\n",
       "       ..\n",
       "4272    1\n",
       "4273    1\n",
       "4274    1\n",
       "4275    1\n",
       "4276    1\n",
       "Name: VR_group, Length: 10883, dtype: int64"
      ]
     },
     "execution_count": 90,
     "metadata": {},
     "output_type": "execute_result"
    }
   ],
   "source": [
    "combi['VR_group'].replace({\"low\": 1, \"med\": 2, \"high\": 3},inplace=True)\n",
    "combi['VR_group']"
   ]
  },
  {
   "cell_type": "markdown",
   "id": "143b5785",
   "metadata": {
    "papermill": {
     "duration": 0.216893,
     "end_time": "2022-02-27T21:15:13.627018",
     "exception": false,
     "start_time": "2022-02-27T21:15:13.410125",
     "status": "completed"
    },
    "tags": []
   },
   "source": [
    "Assign features"
   ]
  },
  {
   "cell_type": "code",
   "execution_count": 91,
   "id": "e6bdd10e",
   "metadata": {
    "execution": {
     "iopub.execute_input": "2022-02-27T21:15:14.048793Z",
     "iopub.status.busy": "2022-02-27T21:15:14.047718Z",
     "iopub.status.idle": "2022-02-27T21:15:14.067822Z",
     "shell.execute_reply": "2022-02-27T21:15:14.068794Z",
     "shell.execute_reply.started": "2022-02-27T20:59:24.962802Z"
    },
    "papermill": {
     "duration": 0.228502,
     "end_time": "2022-02-27T21:15:14.069028",
     "exception": false,
     "start_time": "2022-02-27T21:15:13.840526",
     "status": "completed"
    },
    "tags": []
   },
   "outputs": [
    {
     "name": "stdout",
     "output_type": "stream",
     "text": [
      "<class 'pandas.core.frame.DataFrame'>\n",
      "Int64Index: 10883 entries, 0 to 4276\n",
      "Data columns (total 19 columns):\n",
      " #   Column              Non-Null Count  Dtype  \n",
      "---  ------              --------------  -----  \n",
      " 0   PassengerId         10883 non-null  object \n",
      " 1   HomePlanet          10883 non-null  int64  \n",
      " 2   CryoSleep           10883 non-null  int64  \n",
      " 3   Cabin               10883 non-null  object \n",
      " 4   Destination         10883 non-null  int64  \n",
      " 5   Age                 10883 non-null  float64\n",
      " 6   VIP                 10883 non-null  int64  \n",
      " 7   RoomService         10883 non-null  float64\n",
      " 8   FoodCourt           10883 non-null  float64\n",
      " 9   ShoppingMall        10883 non-null  float64\n",
      " 10  Spa                 10883 non-null  float64\n",
      " 11  VRDeck              10883 non-null  float64\n",
      " 12  Name                10883 non-null  object \n",
      " 13  Age_group           10883 non-null  int64  \n",
      " 14  Room_Service_group  10883 non-null  int64  \n",
      " 15  Food_Court_group    10883 non-null  int64  \n",
      " 16  Shopping_group      10883 non-null  int64  \n",
      " 17  Spa_group           10883 non-null  int64  \n",
      " 18  VR_group            10883 non-null  int64  \n",
      "dtypes: float64(6), int64(10), object(3)\n",
      "memory usage: 1.7+ MB\n"
     ]
    }
   ],
   "source": [
    "combi.info()"
   ]
  },
  {
   "cell_type": "markdown",
   "id": "28024ae0",
   "metadata": {
    "papermill": {
     "duration": 0.218996,
     "end_time": "2022-02-27T21:15:14.495019",
     "exception": false,
     "start_time": "2022-02-27T21:15:14.276023",
     "status": "completed"
    },
    "tags": []
   },
   "source": [
    "Define X and y"
   ]
  },
  {
   "cell_type": "code",
   "execution_count": 92,
   "id": "51b90c58",
   "metadata": {
    "execution": {
     "iopub.execute_input": "2022-02-27T21:15:14.931217Z",
     "iopub.status.busy": "2022-02-27T21:15:14.930079Z",
     "iopub.status.idle": "2022-02-27T21:15:14.939384Z",
     "shell.execute_reply": "2022-02-27T21:15:14.939935Z",
     "shell.execute_reply.started": "2022-02-27T20:59:25.001509Z"
    },
    "papermill": {
     "duration": 0.227309,
     "end_time": "2022-02-27T21:15:14.940128",
     "exception": false,
     "start_time": "2022-02-27T21:15:14.712819",
     "status": "completed"
    },
    "tags": []
   },
   "outputs": [],
   "source": [
    "features = [\"HomePlanet\", \"CryoSleep\", \"Destination\", \"Age_group\", \"Room_Service_group\", \"Food_Court_group\", \"Shopping_group\", \"Spa_group\", \"VR_group\"]\n",
    "\n",
    "y = target\n",
    "X = combi[features][: len(train1)]\n",
    "X_test = combi[features][len(train1) :]"
   ]
  },
  {
   "cell_type": "markdown",
   "id": "889ce497",
   "metadata": {
    "papermill": {
     "duration": 0.203764,
     "end_time": "2022-02-27T21:15:15.353653",
     "exception": false,
     "start_time": "2022-02-27T21:15:15.149889",
     "status": "completed"
    },
    "tags": []
   },
   "source": [
    "Heatmap"
   ]
  },
  {
   "cell_type": "code",
   "execution_count": 93,
   "id": "1d0a3672",
   "metadata": {
    "execution": {
     "iopub.execute_input": "2022-02-27T21:15:15.751668Z",
     "iopub.status.busy": "2022-02-27T21:15:15.750956Z",
     "iopub.status.idle": "2022-02-27T21:15:16.164660Z",
     "shell.execute_reply": "2022-02-27T21:15:16.163921Z",
     "shell.execute_reply.started": "2022-02-27T20:59:25.023927Z"
    },
    "papermill": {
     "duration": 0.612367,
     "end_time": "2022-02-27T21:15:16.164814",
     "exception": false,
     "start_time": "2022-02-27T21:15:15.552447",
     "status": "completed"
    },
    "tags": []
   },
   "outputs": [
    {
     "data": {
      "text/plain": [
       "<AxesSubplot:>"
      ]
     },
     "execution_count": 93,
     "metadata": {},
     "output_type": "execute_result"
    },
    {
     "data": {
      "image/png": "[encoded data removed]",
      "text/plain": [
       "<Figure size 432x288 with 2 Axes>"
      ]
     },
     "metadata": {
      "needs_background": "light"
     },
     "output_type": "display_data"
    }
   ],
   "source": [
    "cmap = combi[features].corr()\n",
    "sns.heatmap(cmap)\n"
   ]
  },
  {
   "cell_type": "markdown",
   "id": "f8548be6",
   "metadata": {
    "papermill": {
     "duration": 0.197922,
     "end_time": "2022-02-27T21:15:16.561411",
     "exception": false,
     "start_time": "2022-02-27T21:15:16.363489",
     "status": "completed"
    },
    "tags": []
   },
   "source": [
    "Split dataset for training and validating"
   ]
  },
  {
   "cell_type": "code",
   "execution_count": 94,
   "id": "13439386",
   "metadata": {
    "execution": {
     "iopub.execute_input": "2022-02-27T21:15:16.967920Z",
     "iopub.status.busy": "2022-02-27T21:15:16.966844Z",
     "iopub.status.idle": "2022-02-27T21:15:16.976459Z",
     "shell.execute_reply": "2022-02-27T21:15:16.977161Z",
     "shell.execute_reply.started": "2022-02-27T20:59:25.415059Z"
    },
    "papermill": {
     "duration": 0.217531,
     "end_time": "2022-02-27T21:15:16.977350",
     "exception": false,
     "start_time": "2022-02-27T21:15:16.759819",
     "status": "completed"
    },
    "tags": []
   },
   "outputs": [
    {
     "data": {
      "text/plain": [
       "((5945, 9), (661, 9), (5945,), (661,), (4277, 9))"
      ]
     },
     "execution_count": 94,
     "metadata": {},
     "output_type": "execute_result"
    }
   ],
   "source": [
    "from sklearn.model_selection import train_test_split\n",
    "\n",
    "X_train, X_val, y_train, y_val = train_test_split(X, y, test_size=0.10, random_state=1, stratify=y, shuffle=True)\n",
    "X_train.shape, X_val.shape, y_train.shape, y_val.shape, X_test.shape"
   ]
  },
  {
   "cell_type": "markdown",
   "id": "f214db30",
   "metadata": {
    "papermill": {
     "duration": 0.203808,
     "end_time": "2022-02-27T21:15:17.382763",
     "exception": false,
     "start_time": "2022-02-27T21:15:17.178955",
     "status": "completed"
    },
    "tags": []
   },
   "source": [
    "Select model"
   ]
  },
  {
   "cell_type": "code",
   "execution_count": 95,
   "id": "d9aff005",
   "metadata": {
    "execution": {
     "iopub.execute_input": "2022-02-27T21:15:17.791972Z",
     "iopub.status.busy": "2022-02-27T21:15:17.791233Z",
     "iopub.status.idle": "2022-02-27T21:15:17.905549Z",
     "shell.execute_reply": "2022-02-27T21:15:17.907504Z",
     "shell.execute_reply.started": "2022-02-27T21:02:57.060436Z"
    },
    "papermill": {
     "duration": 0.321988,
     "end_time": "2022-02-27T21:15:17.907935",
     "exception": false,
     "start_time": "2022-02-27T21:15:17.585947",
     "status": "completed"
    },
    "tags": []
   },
   "outputs": [
    {
     "name": "stdout",
     "output_type": "stream",
     "text": [
      "0.7391084945332212\n"
     ]
    }
   ],
   "source": [
    "from sklearn.linear_model import LogisticRegression\n",
    "\n",
    "model = LogisticRegression(random_state=42, C=10).fit(X_train, y_train)\n",
    "print(model.score(X_train, y_train))"
   ]
  },
  {
   "cell_type": "markdown",
   "id": "15b1ad4a",
   "metadata": {
    "papermill": {
     "duration": 0.202213,
     "end_time": "2022-02-27T21:15:18.364035",
     "exception": false,
     "start_time": "2022-02-27T21:15:18.161822",
     "status": "completed"
    },
    "tags": []
   },
   "source": [
    "Predict validation"
   ]
  },
  {
   "cell_type": "code",
   "execution_count": 96,
   "id": "99031119",
   "metadata": {
    "execution": {
     "iopub.execute_input": "2022-02-27T21:15:18.770700Z",
     "iopub.status.busy": "2022-02-27T21:15:18.769870Z",
     "iopub.status.idle": "2022-02-27T21:15:18.775424Z",
     "shell.execute_reply": "2022-02-27T21:15:18.776355Z",
     "shell.execute_reply.started": "2022-02-27T21:04:42.320582Z"
    },
    "papermill": {
     "duration": 0.213071,
     "end_time": "2022-02-27T21:15:18.776648",
     "exception": false,
     "start_time": "2022-02-27T21:15:18.563577",
     "status": "completed"
    },
    "tags": []
   },
   "outputs": [
    {
     "name": "stdout",
     "output_type": "stream",
     "text": [
      "0.7443267776096822\n"
     ]
    }
   ],
   "source": [
    "y_pred = model.predict(X_val)\n",
    "print(model.score(X_val, y_val))"
   ]
  },
  {
   "cell_type": "markdown",
   "id": "b4cf55bc",
   "metadata": {
    "papermill": {
     "duration": 0.200407,
     "end_time": "2022-02-27T21:15:19.185312",
     "exception": false,
     "start_time": "2022-02-27T21:15:18.984905",
     "status": "completed"
    },
    "tags": []
   },
   "source": [
    "Confusion matrix"
   ]
  },
  {
   "cell_type": "code",
   "execution_count": 97,
   "id": "6ce2c361",
   "metadata": {
    "execution": {
     "iopub.execute_input": "2022-02-27T21:15:19.590945Z",
     "iopub.status.busy": "2022-02-27T21:15:19.590049Z",
     "iopub.status.idle": "2022-02-27T21:15:19.597426Z",
     "shell.execute_reply": "2022-02-27T21:15:19.597982Z",
     "shell.execute_reply.started": "2022-02-27T21:05:32.230467Z"
    },
    "papermill": {
     "duration": 0.212197,
     "end_time": "2022-02-27T21:15:19.598172",
     "exception": false,
     "start_time": "2022-02-27T21:15:19.385975",
     "status": "completed"
    },
    "tags": []
   },
   "outputs": [
    {
     "name": "stdout",
     "output_type": "stream",
     "text": [
      "[[292  36]\n",
      " [133 200]]\n"
     ]
    }
   ],
   "source": [
    "from sklearn.metrics import confusion_matrix\n",
    "\n",
    "print(confusion_matrix(y_val, y_pred))"
   ]
  },
  {
   "cell_type": "markdown",
   "id": "58dc0020",
   "metadata": {
    "papermill": {
     "duration": 0.200926,
     "end_time": "2022-02-27T21:15:20.000700",
     "exception": false,
     "start_time": "2022-02-27T21:15:19.799774",
     "status": "completed"
    },
    "tags": []
   },
   "source": [
    "Predict on X_test"
   ]
  },
  {
   "cell_type": "code",
   "execution_count": 98,
   "id": "23a1c256",
   "metadata": {
    "execution": {
     "iopub.execute_input": "2022-02-27T21:15:20.413044Z",
     "iopub.status.busy": "2022-02-27T21:15:20.412300Z",
     "iopub.status.idle": "2022-02-27T21:15:20.464996Z",
     "shell.execute_reply": "2022-02-27T21:15:20.466182Z",
     "shell.execute_reply.started": "2022-02-27T21:11:56.030174Z"
    },
    "papermill": {
     "duration": 0.261366,
     "end_time": "2022-02-27T21:15:20.466491",
     "exception": false,
     "start_time": "2022-02-27T21:15:20.205125",
     "status": "completed"
    },
    "tags": []
   },
   "outputs": [
    {
     "data": {
      "text/plain": [
       "array(['True', 'False', 'True', ..., 'True', 'False', 'True'], dtype='<U5')"
      ]
     },
     "execution_count": 98,
     "metadata": {},
     "output_type": "execute_result"
    }
   ],
   "source": [
    "predictions = model.predict(X_test)\n",
    "predictions = predictions.astype(str)\n",
    "predictions = np.char.replace(predictions, '0', 'False')\n",
    "predictions = np.char.replace(predictions, '1', 'True')\n",
    "predictions"
   ]
  },
  {
   "cell_type": "markdown",
   "id": "d83e8ed3",
   "metadata": {
    "papermill": {
     "duration": 0.200357,
     "end_time": "2022-02-27T21:15:20.898497",
     "exception": false,
     "start_time": "2022-02-27T21:15:20.698140",
     "status": "completed"
    },
    "tags": []
   },
   "source": [
    "Prepare and submit"
   ]
  },
  {
   "cell_type": "code",
   "execution_count": 99,
   "id": "a141a2b0",
   "metadata": {
    "execution": {
     "iopub.execute_input": "2022-02-27T21:15:21.312438Z",
     "iopub.status.busy": "2022-02-27T21:15:21.311468Z",
     "iopub.status.idle": "2022-02-27T21:15:21.340680Z",
     "shell.execute_reply": "2022-02-27T21:15:21.341423Z",
     "shell.execute_reply.started": "2022-02-27T21:13:34.999440Z"
    },
    "papermill": {
     "duration": 0.244567,
     "end_time": "2022-02-27T21:15:21.341610",
     "exception": false,
     "start_time": "2022-02-27T21:15:21.097043",
     "status": "completed"
    },
    "tags": []
   },
   "outputs": [
    {
     "data": {
      "text/html": [
       "<div>\n",
       "<style scoped>\n",
       "    .dataframe tbody tr th:only-of-type {\n",
       "        vertical-align: middle;\n",
       "    }\n",
       "\n",
       "    .dataframe tbody tr th {\n",
       "        vertical-align: top;\n",
       "    }\n",
       "\n",
       "    .dataframe thead th {\n",
       "        text-align: right;\n",
       "    }\n",
       "</style>\n",
       "<table border=\"1\" class=\"dataframe\">\n",
       "  <thead>\n",
       "    <tr style=\"text-align: right;\">\n",
       "      <th></th>\n",
       "      <th>PassengerId</th>\n",
       "      <th>Transported</th>\n",
       "    </tr>\n",
       "  </thead>\n",
       "  <tbody>\n",
       "    <tr>\n",
       "      <th>0</th>\n",
       "      <td>0013_01</td>\n",
       "      <td>True</td>\n",
       "    </tr>\n",
       "    <tr>\n",
       "      <th>1</th>\n",
       "      <td>0018_01</td>\n",
       "      <td>False</td>\n",
       "    </tr>\n",
       "    <tr>\n",
       "      <th>2</th>\n",
       "      <td>0019_01</td>\n",
       "      <td>True</td>\n",
       "    </tr>\n",
       "    <tr>\n",
       "      <th>3</th>\n",
       "      <td>0021_01</td>\n",
       "      <td>True</td>\n",
       "    </tr>\n",
       "    <tr>\n",
       "      <th>4</th>\n",
       "      <td>0023_01</td>\n",
       "      <td>False</td>\n",
       "    </tr>\n",
       "    <tr>\n",
       "      <th>...</th>\n",
       "      <td>...</td>\n",
       "      <td>...</td>\n",
       "    </tr>\n",
       "    <tr>\n",
       "      <th>4272</th>\n",
       "      <td>9266_02</td>\n",
       "      <td>True</td>\n",
       "    </tr>\n",
       "    <tr>\n",
       "      <th>4273</th>\n",
       "      <td>9269_01</td>\n",
       "      <td>False</td>\n",
       "    </tr>\n",
       "    <tr>\n",
       "      <th>4274</th>\n",
       "      <td>9271_01</td>\n",
       "      <td>True</td>\n",
       "    </tr>\n",
       "    <tr>\n",
       "      <th>4275</th>\n",
       "      <td>9273_01</td>\n",
       "      <td>False</td>\n",
       "    </tr>\n",
       "    <tr>\n",
       "      <th>4276</th>\n",
       "      <td>9277_01</td>\n",
       "      <td>True</td>\n",
       "    </tr>\n",
       "  </tbody>\n",
       "</table>\n",
       "<p>4277 rows × 2 columns</p>\n",
       "</div>"
      ],
      "text/plain": [
       "     PassengerId  Transported\n",
       "0        0013_01         True\n",
       "1        0018_01        False\n",
       "2        0019_01         True\n",
       "3        0021_01         True\n",
       "4        0023_01        False\n",
       "...          ...          ...\n",
       "4272     9266_02         True\n",
       "4273     9269_01        False\n",
       "4274     9271_01         True\n",
       "4275     9273_01        False\n",
       "4276     9277_01         True\n",
       "\n",
       "[4277 rows x 2 columns]"
      ]
     },
     "execution_count": 99,
     "metadata": {},
     "output_type": "execute_result"
    }
   ],
   "source": [
    "submission['Transported'] = predictions\n",
    "submission.to_csv('submission.csv', index=False)\n",
    "my_submission = pd.read_csv(\"submission.csv\")\n",
    "my_submission"
   ]
  }
 ],
 "metadata": {
  "kernelspec": {
   "display_name": "Python 3",
   "language": "python",
   "name": "python3"
  },
  "language_info": {
   "codemirror_mode": {
    "name": "ipython",
    "version": 3
   },
   "file_extension": ".py",
   "mimetype": "text/x-python",
   "name": "python",
   "nbconvert_exporter": "python",
   "pygments_lexer": "ipython3",
   "version": "3.7.12"
  },
  "papermill": {
   "default_parameters": {},
   "duration": 65.34035,
   "end_time": "2022-02-27T21:15:22.364642",
   "environment_variables": {},
   "exception": null,
   "input_path": "__notebook__.ipynb",
   "output_path": "__notebook__.ipynb",
   "parameters": {},
   "start_time": "2022-02-27T21:14:17.024292",
   "version": "2.3.3"
  }
 },
 "nbformat": 4,
 "nbformat_minor": 5
}
